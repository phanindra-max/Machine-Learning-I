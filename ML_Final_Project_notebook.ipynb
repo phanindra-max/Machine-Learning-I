{
 "cells": [
  {
   "cell_type": "markdown",
   "metadata": {
    "id": "qTc2wuyqNf2y"
   },
   "source": [
    "---\n",
    "\n",
    "  <center>\n",
    "    <font size='4'><b>Machine Learning 1 - Final Project</font><br>\n",
    "    <font size='6'>Udacity ML Charity Competition</font><br>\n",
    "  </center>\n",
    "\n",
    "---\n",
    "\n",
    "<center>\n",
    "    <font size='3'>Data Science, Columbian College of Arts & Sciences, George Washington University\n",
    "    <br>\n",
    "    Aishwarya M, Deepika R, Satya Phanindra Kumar K.\n",
    "    </font><br>\n",
    "</center>\n",
    "\n",
    "![HelpingHandsImage](https://donatestuff.com/wp-content/uploads/2023/01/donate-clothes-compressor.jpeg)"
   ]
  },
  {
   "cell_type": "markdown",
   "metadata": {
    "id": "jLg0Ro-GMfp8"
   },
   "source": [
    "# Introduction\n"
   ]
  },
  {
   "cell_type": "markdown",
   "metadata": {
    "id": "jzWZwHSSqoF-"
   },
   "source": [
    "## Why did we choose this project?"
   ]
  },
  {
   "cell_type": "markdown",
   "metadata": {
    "id": "r4GaXc3fdO3r"
   },
   "source": [
    "We chose this project because it provides a unique opportunity to apply machine learning to a meaningful and practical problem. By analyzing real-world census data, we aim to help CharityML, a fictitious charity organization, identify potential donors, optimizing their fundraising efforts and making a positive impact. This project not only highlights the potential of data-driven decision-making in addressing societal challenges but also offers a chance to explore various machine learning techniques, such as classification, hyperparameter tuning, and model evaluation. Additionally, its competitive aspect as a Kaggle challenge makes it an engaging and enriching learning experience."
   ]
  },
  {
   "cell_type": "markdown",
   "metadata": {
    "id": "cs8l648FrAhx"
   },
   "source": [
    "## Introduction of Project"
   ]
  },
  {
   "cell_type": "markdown",
   "metadata": {
    "id": "KyUMKNqarK_j"
   },
   "source": [
    "This project leverages supervised machine learning techniques to analyze **U.S. Census data** and help *CharityML*, a fictitious charity organization, identify individuals most likely to donate.\n",
    "\n",
    "The analysis is carried out in various stages majorily including Data PreProcessing, Hyperparameter Tuning and Model Selection. Various classification models were trained and the model's success is measured using Area Under Curve(AUC) of the ROC (Receiver Operating Characteristic) curve.\n",
    "\n",
    "NOTE: This is also a [Kaggle competition](https://www.kaggle.com/competitions/udacity-mlcharity-competition)"
   ]
  },
  {
   "cell_type": "markdown",
   "metadata": {
    "id": "zy46knBge427"
   },
   "source": [
    "## Data Source"
   ]
  },
  {
   "cell_type": "markdown",
   "metadata": {
    "id": "KZvyIM2_iPJj"
   },
   "source": [
    "Source: [UCI Machine Learning Repository](https://archive.ics.uci.edu/ml/datasets/Adult).\n",
    "\n",
    "<br>\n",
    "\n",
    "The \"Adult\" or \"Census Income\" dataset from the 1994 U.S. Census has 45,222 instances, each with demographic and employment information. The goal is to predict if an individual's annual income exceeds $50,000 as we will be considering income as the factor to identify individuals who are most likely to donate.\n",
    "\n",
    "**Attributes:**\n",
    "\n",
    "1. **Age**: Age of the individual.\n",
    "2. **Workclass**: Type of employment (e.g., Private, Self-emp-not-inc).\n",
    "3. **Fnlwgt**: Weighting factor for population estimates.\n",
    "4. **Education**: Highest education level (e.g., Bachelors, HS-grad).\n",
    "5. **Education-num**: Numeric representation of education level.\n",
    "6. **Marital-status**: Marital status (e.g., Married-civ-spouse).\n",
    "7. **Occupation**: Type of occupation (e.g., Tech-support, Sales).\n",
    "8. **Relationship**: Family relationship (e.g., Husband).\n",
    "9. **Race**: Race (e.g., White, Asian-Pac-Islander).\n",
    "10. **Sex**: Gender (Male or Female).\n",
    "11. **Capital-gain**: Capital gains.\n",
    "12. **Capital-loss**: Capital losses.\n",
    "13. **Hours-per-week**: Hours worked per week.\n",
    "14. **Native-country**: Country of origin (e.g., United-States).\n",
    "\n",
    "**Target:**\n",
    "\n",
    "The target variable is **Income**, indicating if annual income is '>50K' or '<=50K'."
   ]
  },
  {
   "cell_type": "markdown",
   "metadata": {
    "id": "LRtKd9-prMQh"
   },
   "source": [
    "## How Machine Learning helps solve this project?"
   ]
  },
  {
   "cell_type": "markdown",
   "metadata": {
    "id": "lb962dXJrUbI"
   },
   "source": [
    "Machine learning plays a pivotal role in this project as it can **identify patterns and insights** from donor information, helping predict which potential donors are likely to contribute. Through iterative experimentation with algorithms like decision trees and random forests, the solution can **adapt to real-world scenarios**. This data-driven approach not only boosts the charity’s operational efficiency but also ensures that resources are allocated where they can make the greatest difference, ultimately amplifying the organization's impact."
   ]
  },
  {
   "cell_type": "markdown",
   "metadata": {
    "id": "SdvCfxalrbDL"
   },
   "source": [
    "# Experiment"
   ]
  },
  {
   "cell_type": "markdown",
   "metadata": {
    "id": "V1JkayHHiGdI"
   },
   "source": [
    "## Notebook Configuration\n",
    "\n",
    "We started off by configuring following settings required for the entire notebook:\n"
   ]
  },
  {
   "cell_type": "markdown",
   "metadata": {
    "id": "45ttHmrWREQo"
   },
   "source": [
    "### 1. Warnings\n",
    "\n",
    "All the warnings are set to be \"ignored\""
   ]
  },
  {
   "cell_type": "code",
   "execution_count": 68,
   "metadata": {
    "id": "9_NvsS7-REQo"
   },
   "outputs": [],
   "source": [
    "import warnings\n",
    "\n",
    "# Ignore warnings\n",
    "warnings.filterwarnings('ignore')"
   ]
  },
  {
   "cell_type": "markdown",
   "metadata": {
    "id": "qgsJeReuREQp"
   },
   "source": [
    "### 2. Matplotlib\n",
    "\n",
    "Required customisations for all the visualizations are set using matplotlib."
   ]
  },
  {
   "cell_type": "code",
   "execution_count": 69,
   "metadata": {
    "id": "p7vRdUoMREQp"
   },
   "outputs": [],
   "source": [
    "import matplotlib.pyplot as plt\n",
    "\n",
    "# Set matplotlib sizes\n",
    "plt.rc('font', size=20)\n",
    "plt.rc('axes', titlesize=20)\n",
    "plt.rc('axes', labelsize=20)\n",
    "plt.rc('xtick', labelsize=20)\n",
    "plt.rc('ytick', labelsize=20)\n",
    "plt.rc('legend', fontsize=20)\n",
    "plt.rc('figure', titlesize=20)"
   ]
  },
  {
   "cell_type": "markdown",
   "metadata": {
    "id": "3ugaMacfREQp"
   },
   "source": [
    "### 3. TensorFlow\n",
    "\n",
    "Imported tensorflow and keras libraries as of now. As we move further, other required libraries are imported."
   ]
  },
  {
   "cell_type": "code",
   "execution_count": 70,
   "metadata": {
    "id": "KLE1ZKVbREQp"
   },
   "outputs": [],
   "source": [
    "import tensorflow as tf\n",
    "from tensorflow import keras"
   ]
  },
  {
   "cell_type": "markdown",
   "metadata": {
    "id": "Q1FBrHKKREQq"
   },
   "source": [
    "### 4. Random seed\n",
    "\n",
    "Initialised random number generator to ensure reproducibility."
   ]
  },
  {
   "cell_type": "code",
   "execution_count": 71,
   "metadata": {
    "id": "KdY91ltpREQq"
   },
   "outputs": [],
   "source": [
    "# The random seed\n",
    "random_seed = 42\n",
    "\n",
    "# Set random seed in tensorflow\n",
    "tf.random.set_seed(random_seed)\n",
    "\n",
    "# Set random seed in numpy\n",
    "import numpy as np\n",
    "np.random.seed(random_seed)"
   ]
  },
  {
   "cell_type": "markdown",
   "metadata": {
    "id": "lT37iqrtREQq"
   },
   "source": [
    "## Data Preprocessing"
   ]
  },
  {
   "cell_type": "markdown",
   "metadata": {
    "id": "FmnUOEesjiAA"
   },
   "source": [
    "As we know that Data preprocessing is vital for high-performing machine learning models since it improves the quality and reliability of data, we followed the basic pipeline for data preprocessing"
   ]
  },
  {
   "cell_type": "markdown",
   "metadata": {
    "id": "SwBLb1FZREQq"
   },
   "source": [
    "### Loading the data"
   ]
  },
  {
   "cell_type": "markdown",
   "metadata": {
    "id": "XxgFN4Dykjk-"
   },
   "source": [
    "Data is downloaded from the source and uploaded onto github repository inorder to avoid any discrepencies in running the code. The data is loaded in this step from the github repository created for this project."
   ]
  },
  {
   "cell_type": "code",
   "execution_count": 72,
   "metadata": {
    "id": "EQBNdgOmREQq"
   },
   "outputs": [],
   "source": [
    "import pandas as pd\n",
    "\n",
    "# Load the raw training data from github to avoid downloading the data\n",
    "df_raw_train = pd.read_csv(\"https://raw.githubusercontent.com/phanindra-max/Machine-Learning-I/refs/heads/main/data/census.csv\", header=0)\n",
    "# Make a copy of df_raw_train\n",
    "data_train = df_raw_train.copy(deep=True)\n",
    "\n",
    "# Load the raw test data from github\n",
    "df_raw_test = pd.read_csv(\"https://raw.githubusercontent.com/phanindra-max/Machine-Learning-I/refs/heads/main/data/test_census.csv\", header=0)\n",
    "# Make a copy of df_raw_test\n",
    "data_test = df_raw_test.copy(deep=True)\n",
    "\n",
    "# Get the name of the target\n",
    "target = 'income'"
   ]
  },
  {
   "cell_type": "code",
   "execution_count": 73,
   "metadata": {
    "colab": {
     "base_uri": "https://localhost:8080/",
     "height": 100
    },
    "id": "-boNbTZ1REQq",
    "outputId": "cef9998e-8be5-4802-f344-773ecedd4ad7"
   },
   "outputs": [
    {
     "data": {
      "text/html": [
       "<div>\n",
       "<style scoped>\n",
       "    .dataframe tbody tr th:only-of-type {\n",
       "        vertical-align: middle;\n",
       "    }\n",
       "\n",
       "    .dataframe tbody tr th {\n",
       "        vertical-align: top;\n",
       "    }\n",
       "\n",
       "    .dataframe thead th {\n",
       "        text-align: right;\n",
       "    }\n",
       "</style>\n",
       "<table border=\"1\" class=\"dataframe\">\n",
       "  <thead>\n",
       "    <tr style=\"text-align: right;\">\n",
       "      <th></th>\n",
       "      <th># rows</th>\n",
       "      <th># columns</th>\n",
       "    </tr>\n",
       "  </thead>\n",
       "  <tbody>\n",
       "    <tr>\n",
       "      <th>0</th>\n",
       "      <td>45222</td>\n",
       "      <td>14</td>\n",
       "    </tr>\n",
       "  </tbody>\n",
       "</table>\n",
       "</div>"
      ],
      "text/plain": [
       "   # rows  # columns\n",
       "0   45222         14"
      ]
     },
     "execution_count": 73,
     "metadata": {},
     "output_type": "execute_result"
    }
   ],
   "source": [
    "# Print the dimension of data_train\n",
    "pd.DataFrame([[data_train.shape[0], data_train.shape[1]]], columns=['# rows', '# columns'])"
   ]
  },
  {
   "cell_type": "markdown",
   "metadata": {
    "id": "4M_oSRyEpc2A"
   },
   "source": [
    "*Training Dataset size:*\n",
    "\n",
    "The training dataset consists of 45,222 rows and 14 columns, representing a substantial collection of records and features for analysis."
   ]
  },
  {
   "cell_type": "code",
   "execution_count": 74,
   "metadata": {
    "colab": {
     "base_uri": "https://localhost:8080/",
     "height": 100
    },
    "id": "MvCoYx7ZREQr",
    "outputId": "cb03b1d4-b71c-4492-faf0-5f22512cb791"
   },
   "outputs": [
    {
     "data": {
      "text/html": [
       "<div>\n",
       "<style scoped>\n",
       "    .dataframe tbody tr th:only-of-type {\n",
       "        vertical-align: middle;\n",
       "    }\n",
       "\n",
       "    .dataframe tbody tr th {\n",
       "        vertical-align: top;\n",
       "    }\n",
       "\n",
       "    .dataframe thead th {\n",
       "        text-align: right;\n",
       "    }\n",
       "</style>\n",
       "<table border=\"1\" class=\"dataframe\">\n",
       "  <thead>\n",
       "    <tr style=\"text-align: right;\">\n",
       "      <th></th>\n",
       "      <th># rows</th>\n",
       "      <th># columns</th>\n",
       "    </tr>\n",
       "  </thead>\n",
       "  <tbody>\n",
       "    <tr>\n",
       "      <th>0</th>\n",
       "      <td>45222</td>\n",
       "      <td>14</td>\n",
       "    </tr>\n",
       "  </tbody>\n",
       "</table>\n",
       "</div>"
      ],
      "text/plain": [
       "   # rows  # columns\n",
       "0   45222         14"
      ]
     },
     "execution_count": 74,
     "metadata": {},
     "output_type": "execute_result"
    }
   ],
   "source": [
    "# Print the dimension of data_test\n",
    "pd.DataFrame([[data_test.shape[0], data_test.shape[1]]], columns=['# rows', '# columns'])"
   ]
  },
  {
   "cell_type": "markdown",
   "metadata": {
    "id": "IOGXPFkopc2B"
   },
   "source": [
    "*Test Dataset size:*\n",
    "\n",
    "The test dataset also contains 45,222 rows and 14 columns, identical in dimensions to the data_train dataset."
   ]
  },
  {
   "cell_type": "code",
   "execution_count": 75,
   "metadata": {
    "colab": {
     "base_uri": "https://localhost:8080/",
     "height": 400
    },
    "id": "JOI4MEuMREQr",
    "outputId": "99d33e94-f163-4fa6-b679-659d9481c9fe"
   },
   "outputs": [
    {
     "data": {
      "text/html": [
       "<div>\n",
       "<style scoped>\n",
       "    .dataframe tbody tr th:only-of-type {\n",
       "        vertical-align: middle;\n",
       "    }\n",
       "\n",
       "    .dataframe tbody tr th {\n",
       "        vertical-align: top;\n",
       "    }\n",
       "\n",
       "    .dataframe thead th {\n",
       "        text-align: right;\n",
       "    }\n",
       "</style>\n",
       "<table border=\"1\" class=\"dataframe\">\n",
       "  <thead>\n",
       "    <tr style=\"text-align: right;\">\n",
       "      <th></th>\n",
       "      <th>age</th>\n",
       "      <th>workclass</th>\n",
       "      <th>education_level</th>\n",
       "      <th>education-num</th>\n",
       "      <th>marital-status</th>\n",
       "      <th>occupation</th>\n",
       "      <th>relationship</th>\n",
       "      <th>race</th>\n",
       "      <th>sex</th>\n",
       "      <th>capital-gain</th>\n",
       "      <th>capital-loss</th>\n",
       "      <th>hours-per-week</th>\n",
       "      <th>native-country</th>\n",
       "      <th>income</th>\n",
       "    </tr>\n",
       "  </thead>\n",
       "  <tbody>\n",
       "    <tr>\n",
       "      <th>0</th>\n",
       "      <td>39</td>\n",
       "      <td>State-gov</td>\n",
       "      <td>Bachelors</td>\n",
       "      <td>13.0</td>\n",
       "      <td>Never-married</td>\n",
       "      <td>Adm-clerical</td>\n",
       "      <td>Not-in-family</td>\n",
       "      <td>White</td>\n",
       "      <td>Male</td>\n",
       "      <td>2174.0</td>\n",
       "      <td>0.0</td>\n",
       "      <td>40.0</td>\n",
       "      <td>United-States</td>\n",
       "      <td>&lt;=50K</td>\n",
       "    </tr>\n",
       "    <tr>\n",
       "      <th>1</th>\n",
       "      <td>50</td>\n",
       "      <td>Self-emp-not-inc</td>\n",
       "      <td>Bachelors</td>\n",
       "      <td>13.0</td>\n",
       "      <td>Married-civ-spouse</td>\n",
       "      <td>Exec-managerial</td>\n",
       "      <td>Husband</td>\n",
       "      <td>White</td>\n",
       "      <td>Male</td>\n",
       "      <td>0.0</td>\n",
       "      <td>0.0</td>\n",
       "      <td>13.0</td>\n",
       "      <td>United-States</td>\n",
       "      <td>&lt;=50K</td>\n",
       "    </tr>\n",
       "    <tr>\n",
       "      <th>2</th>\n",
       "      <td>38</td>\n",
       "      <td>Private</td>\n",
       "      <td>HS-grad</td>\n",
       "      <td>9.0</td>\n",
       "      <td>Divorced</td>\n",
       "      <td>Handlers-cleaners</td>\n",
       "      <td>Not-in-family</td>\n",
       "      <td>White</td>\n",
       "      <td>Male</td>\n",
       "      <td>0.0</td>\n",
       "      <td>0.0</td>\n",
       "      <td>40.0</td>\n",
       "      <td>United-States</td>\n",
       "      <td>&lt;=50K</td>\n",
       "    </tr>\n",
       "    <tr>\n",
       "      <th>3</th>\n",
       "      <td>53</td>\n",
       "      <td>Private</td>\n",
       "      <td>11th</td>\n",
       "      <td>7.0</td>\n",
       "      <td>Married-civ-spouse</td>\n",
       "      <td>Handlers-cleaners</td>\n",
       "      <td>Husband</td>\n",
       "      <td>Black</td>\n",
       "      <td>Male</td>\n",
       "      <td>0.0</td>\n",
       "      <td>0.0</td>\n",
       "      <td>40.0</td>\n",
       "      <td>United-States</td>\n",
       "      <td>&lt;=50K</td>\n",
       "    </tr>\n",
       "    <tr>\n",
       "      <th>4</th>\n",
       "      <td>28</td>\n",
       "      <td>Private</td>\n",
       "      <td>Bachelors</td>\n",
       "      <td>13.0</td>\n",
       "      <td>Married-civ-spouse</td>\n",
       "      <td>Prof-specialty</td>\n",
       "      <td>Wife</td>\n",
       "      <td>Black</td>\n",
       "      <td>Female</td>\n",
       "      <td>0.0</td>\n",
       "      <td>0.0</td>\n",
       "      <td>40.0</td>\n",
       "      <td>Cuba</td>\n",
       "      <td>&lt;=50K</td>\n",
       "    </tr>\n",
       "  </tbody>\n",
       "</table>\n",
       "</div>"
      ],
      "text/plain": [
       "   age          workclass education_level  education-num       marital-status  \\\n",
       "0   39          State-gov       Bachelors           13.0        Never-married   \n",
       "1   50   Self-emp-not-inc       Bachelors           13.0   Married-civ-spouse   \n",
       "2   38            Private         HS-grad            9.0             Divorced   \n",
       "3   53            Private            11th            7.0   Married-civ-spouse   \n",
       "4   28            Private       Bachelors           13.0   Married-civ-spouse   \n",
       "\n",
       "           occupation    relationship    race      sex  capital-gain  \\\n",
       "0        Adm-clerical   Not-in-family   White     Male        2174.0   \n",
       "1     Exec-managerial         Husband   White     Male           0.0   \n",
       "2   Handlers-cleaners   Not-in-family   White     Male           0.0   \n",
       "3   Handlers-cleaners         Husband   Black     Male           0.0   \n",
       "4      Prof-specialty            Wife   Black   Female           0.0   \n",
       "\n",
       "   capital-loss  hours-per-week  native-country income  \n",
       "0           0.0            40.0   United-States  <=50K  \n",
       "1           0.0            13.0   United-States  <=50K  \n",
       "2           0.0            40.0   United-States  <=50K  \n",
       "3           0.0            40.0   United-States  <=50K  \n",
       "4           0.0            40.0            Cuba  <=50K  "
      ]
     },
     "execution_count": 75,
     "metadata": {},
     "output_type": "execute_result"
    }
   ],
   "source": [
    "# Print the first 5 rows of data_train\n",
    "data_train.head()"
   ]
  },
  {
   "cell_type": "markdown",
   "metadata": {
    "id": "fEtd9APZpc2B"
   },
   "source": [
    "*Training Dataset Overview:*\n",
    "\n",
    "The train dataset contains information on individuals across 14 features, including age, workclass, education, marital status, occupation, race, sex, capital gain, capital loss, hours worked, native country, and income."
   ]
  },
  {
   "cell_type": "code",
   "execution_count": 76,
   "metadata": {
    "colab": {
     "base_uri": "https://localhost:8080/",
     "height": 434
    },
    "id": "9RKNnWqcREQr",
    "outputId": "f52a0d1f-0213-4bc3-a975-019a6ed3a9b9"
   },
   "outputs": [
    {
     "data": {
      "text/html": [
       "<div>\n",
       "<style scoped>\n",
       "    .dataframe tbody tr th:only-of-type {\n",
       "        vertical-align: middle;\n",
       "    }\n",
       "\n",
       "    .dataframe tbody tr th {\n",
       "        vertical-align: top;\n",
       "    }\n",
       "\n",
       "    .dataframe thead th {\n",
       "        text-align: right;\n",
       "    }\n",
       "</style>\n",
       "<table border=\"1\" class=\"dataframe\">\n",
       "  <thead>\n",
       "    <tr style=\"text-align: right;\">\n",
       "      <th></th>\n",
       "      <th>Unnamed: 0</th>\n",
       "      <th>age</th>\n",
       "      <th>workclass</th>\n",
       "      <th>education_level</th>\n",
       "      <th>education-num</th>\n",
       "      <th>marital-status</th>\n",
       "      <th>occupation</th>\n",
       "      <th>relationship</th>\n",
       "      <th>race</th>\n",
       "      <th>sex</th>\n",
       "      <th>capital-gain</th>\n",
       "      <th>capital-loss</th>\n",
       "      <th>hours-per-week</th>\n",
       "      <th>native-country</th>\n",
       "    </tr>\n",
       "  </thead>\n",
       "  <tbody>\n",
       "    <tr>\n",
       "      <th>0</th>\n",
       "      <td>0</td>\n",
       "      <td>21.0</td>\n",
       "      <td>Private</td>\n",
       "      <td>10th</td>\n",
       "      <td>6.0</td>\n",
       "      <td>Married-civ-spouse</td>\n",
       "      <td>Craft-repair</td>\n",
       "      <td>Husband</td>\n",
       "      <td>White</td>\n",
       "      <td>Male</td>\n",
       "      <td>0.0</td>\n",
       "      <td>0.0</td>\n",
       "      <td>40.0</td>\n",
       "      <td>United-States</td>\n",
       "    </tr>\n",
       "    <tr>\n",
       "      <th>1</th>\n",
       "      <td>1</td>\n",
       "      <td>49.0</td>\n",
       "      <td>Private</td>\n",
       "      <td>Bachelors</td>\n",
       "      <td>13.0</td>\n",
       "      <td>Married-civ-spouse</td>\n",
       "      <td>Adm-clerical</td>\n",
       "      <td>Wife</td>\n",
       "      <td>White</td>\n",
       "      <td>Female</td>\n",
       "      <td>0.0</td>\n",
       "      <td>0.0</td>\n",
       "      <td>40.0</td>\n",
       "      <td>United-States</td>\n",
       "    </tr>\n",
       "    <tr>\n",
       "      <th>2</th>\n",
       "      <td>2</td>\n",
       "      <td>44.0</td>\n",
       "      <td>Self-emp-not-inc</td>\n",
       "      <td>Assoc-acdm</td>\n",
       "      <td>12.0</td>\n",
       "      <td>Married-civ-spouse</td>\n",
       "      <td>Other-service</td>\n",
       "      <td>Wife</td>\n",
       "      <td>White</td>\n",
       "      <td>Female</td>\n",
       "      <td>0.0</td>\n",
       "      <td>0.0</td>\n",
       "      <td>99.0</td>\n",
       "      <td>United-States</td>\n",
       "    </tr>\n",
       "    <tr>\n",
       "      <th>3</th>\n",
       "      <td>3</td>\n",
       "      <td>34.0</td>\n",
       "      <td>Private</td>\n",
       "      <td>Bachelors</td>\n",
       "      <td>13.0</td>\n",
       "      <td>Married-civ-spouse</td>\n",
       "      <td>Sales</td>\n",
       "      <td>Husband</td>\n",
       "      <td>White</td>\n",
       "      <td>Male</td>\n",
       "      <td>7298.0</td>\n",
       "      <td>0.0</td>\n",
       "      <td>46.0</td>\n",
       "      <td>United-States</td>\n",
       "    </tr>\n",
       "    <tr>\n",
       "      <th>4</th>\n",
       "      <td>4</td>\n",
       "      <td>24.0</td>\n",
       "      <td>Private</td>\n",
       "      <td>HS-grad</td>\n",
       "      <td>9.0</td>\n",
       "      <td>Married-civ-spouse</td>\n",
       "      <td>Machine-op-inspct</td>\n",
       "      <td>Husband</td>\n",
       "      <td>White</td>\n",
       "      <td>Male</td>\n",
       "      <td>0.0</td>\n",
       "      <td>0.0</td>\n",
       "      <td>40.0</td>\n",
       "      <td>United-States</td>\n",
       "    </tr>\n",
       "  </tbody>\n",
       "</table>\n",
       "</div>"
      ],
      "text/plain": [
       "   Unnamed: 0   age          workclass education_level  education-num  \\\n",
       "0           0  21.0            Private            10th            6.0   \n",
       "1           1  49.0            Private       Bachelors           13.0   \n",
       "2           2  44.0   Self-emp-not-inc      Assoc-acdm           12.0   \n",
       "3           3  34.0            Private       Bachelors           13.0   \n",
       "4           4  24.0            Private         HS-grad            9.0   \n",
       "\n",
       "        marital-status          occupation relationship    race      sex  \\\n",
       "0   Married-civ-spouse        Craft-repair      Husband   White     Male   \n",
       "1   Married-civ-spouse        Adm-clerical         Wife   White   Female   \n",
       "2   Married-civ-spouse       Other-service         Wife   White   Female   \n",
       "3   Married-civ-spouse               Sales      Husband   White     Male   \n",
       "4   Married-civ-spouse   Machine-op-inspct      Husband   White     Male   \n",
       "\n",
       "   capital-gain  capital-loss  hours-per-week  native-country  \n",
       "0           0.0           0.0            40.0   United-States  \n",
       "1           0.0           0.0            40.0   United-States  \n",
       "2           0.0           0.0            99.0   United-States  \n",
       "3        7298.0           0.0            46.0   United-States  \n",
       "4           0.0           0.0            40.0   United-States  "
      ]
     },
     "execution_count": 76,
     "metadata": {},
     "output_type": "execute_result"
    }
   ],
   "source": [
    "# Print the first 5 rows of data_test\n",
    "data_test.head()"
   ]
  },
  {
   "cell_type": "markdown",
   "metadata": {
    "id": "zBB8-122pc2B"
   },
   "source": [
    "*Test Dataset Overview:*\n",
    "\n",
    "The test dataset contains similar features to data_train, with 14 columns including age, workclass, education_level, education-num, marital-status, occupation, relationship, race, sex, capital-gain, capital-loss, hours-per-week, and native-country.\n",
    "\n",
    "It also seems to contain an Unnamed column which should be cleaned in later steps."
   ]
  },
  {
   "cell_type": "code",
   "execution_count": 77,
   "metadata": {
    "colab": {
     "base_uri": "https://localhost:8080/",
     "height": 320
    },
    "id": "mY-ipTinREQs",
    "outputId": "5853fbd3-2200-4006-b1b7-c808b7fc5733"
   },
   "outputs": [
    {
     "data": {
      "text/html": [
       "<div>\n",
       "<style scoped>\n",
       "    .dataframe tbody tr th:only-of-type {\n",
       "        vertical-align: middle;\n",
       "    }\n",
       "\n",
       "    .dataframe tbody tr th {\n",
       "        vertical-align: top;\n",
       "    }\n",
       "\n",
       "    .dataframe thead th {\n",
       "        text-align: right;\n",
       "    }\n",
       "</style>\n",
       "<table border=\"1\" class=\"dataframe\">\n",
       "  <thead>\n",
       "    <tr style=\"text-align: right;\">\n",
       "      <th></th>\n",
       "      <th>age</th>\n",
       "      <th>education-num</th>\n",
       "      <th>capital-gain</th>\n",
       "      <th>capital-loss</th>\n",
       "      <th>hours-per-week</th>\n",
       "    </tr>\n",
       "  </thead>\n",
       "  <tbody>\n",
       "    <tr>\n",
       "      <th>count</th>\n",
       "      <td>45222.000000</td>\n",
       "      <td>45222.000000</td>\n",
       "      <td>45222.000000</td>\n",
       "      <td>45222.000000</td>\n",
       "      <td>45222.000000</td>\n",
       "    </tr>\n",
       "    <tr>\n",
       "      <th>mean</th>\n",
       "      <td>38.547941</td>\n",
       "      <td>10.118460</td>\n",
       "      <td>1101.430344</td>\n",
       "      <td>88.595418</td>\n",
       "      <td>40.938017</td>\n",
       "    </tr>\n",
       "    <tr>\n",
       "      <th>std</th>\n",
       "      <td>13.217870</td>\n",
       "      <td>2.552881</td>\n",
       "      <td>7506.430084</td>\n",
       "      <td>404.956092</td>\n",
       "      <td>12.007508</td>\n",
       "    </tr>\n",
       "    <tr>\n",
       "      <th>min</th>\n",
       "      <td>17.000000</td>\n",
       "      <td>1.000000</td>\n",
       "      <td>0.000000</td>\n",
       "      <td>0.000000</td>\n",
       "      <td>1.000000</td>\n",
       "    </tr>\n",
       "    <tr>\n",
       "      <th>25%</th>\n",
       "      <td>28.000000</td>\n",
       "      <td>9.000000</td>\n",
       "      <td>0.000000</td>\n",
       "      <td>0.000000</td>\n",
       "      <td>40.000000</td>\n",
       "    </tr>\n",
       "    <tr>\n",
       "      <th>50%</th>\n",
       "      <td>37.000000</td>\n",
       "      <td>10.000000</td>\n",
       "      <td>0.000000</td>\n",
       "      <td>0.000000</td>\n",
       "      <td>40.000000</td>\n",
       "    </tr>\n",
       "    <tr>\n",
       "      <th>75%</th>\n",
       "      <td>47.000000</td>\n",
       "      <td>13.000000</td>\n",
       "      <td>0.000000</td>\n",
       "      <td>0.000000</td>\n",
       "      <td>45.000000</td>\n",
       "    </tr>\n",
       "    <tr>\n",
       "      <th>max</th>\n",
       "      <td>90.000000</td>\n",
       "      <td>16.000000</td>\n",
       "      <td>99999.000000</td>\n",
       "      <td>4356.000000</td>\n",
       "      <td>99.000000</td>\n",
       "    </tr>\n",
       "  </tbody>\n",
       "</table>\n",
       "</div>"
      ],
      "text/plain": [
       "                age  education-num  capital-gain  capital-loss  hours-per-week\n",
       "count  45222.000000   45222.000000  45222.000000  45222.000000    45222.000000\n",
       "mean      38.547941      10.118460   1101.430344     88.595418       40.938017\n",
       "std       13.217870       2.552881   7506.430084    404.956092       12.007508\n",
       "min       17.000000       1.000000      0.000000      0.000000        1.000000\n",
       "25%       28.000000       9.000000      0.000000      0.000000       40.000000\n",
       "50%       37.000000      10.000000      0.000000      0.000000       40.000000\n",
       "75%       47.000000      13.000000      0.000000      0.000000       45.000000\n",
       "max       90.000000      16.000000  99999.000000   4356.000000       99.000000"
      ]
     },
     "execution_count": 77,
     "metadata": {},
     "output_type": "execute_result"
    }
   ],
   "source": [
    "# gain statistics insight for data_train\n",
    "data_train.describe()"
   ]
  },
  {
   "cell_type": "markdown",
   "metadata": {
    "id": "E3Cr8OLZpc2C"
   },
   "source": [
    "*Highlevel overview of Train Dataset statistics:*\n",
    "\n",
    "- The train dataset's summary statistics reveal that the average age is 38.55 years, with a minimum of 17 and a maximum of 90.\n",
    "- The average education level, measured by education-num, is 10.12, indicating most individuals have at least some high school education.\n",
    "- Most individuals report no capital gain or loss, but the average capital gain is 1,101.43 and the capital loss is 88.60.\n",
    "- The typical workweek is around 40.94 hours."
   ]
  },
  {
   "cell_type": "code",
   "execution_count": 78,
   "metadata": {
    "colab": {
     "base_uri": "https://localhost:8080/",
     "height": 320
    },
    "id": "npldMz-ZREQs",
    "outputId": "de071659-2bc3-43c3-d221-a1f182ba7118"
   },
   "outputs": [
    {
     "data": {
      "text/html": [
       "<div>\n",
       "<style scoped>\n",
       "    .dataframe tbody tr th:only-of-type {\n",
       "        vertical-align: middle;\n",
       "    }\n",
       "\n",
       "    .dataframe tbody tr th {\n",
       "        vertical-align: top;\n",
       "    }\n",
       "\n",
       "    .dataframe thead th {\n",
       "        text-align: right;\n",
       "    }\n",
       "</style>\n",
       "<table border=\"1\" class=\"dataframe\">\n",
       "  <thead>\n",
       "    <tr style=\"text-align: right;\">\n",
       "      <th></th>\n",
       "      <th>Unnamed: 0</th>\n",
       "      <th>age</th>\n",
       "      <th>education-num</th>\n",
       "      <th>capital-gain</th>\n",
       "      <th>capital-loss</th>\n",
       "      <th>hours-per-week</th>\n",
       "    </tr>\n",
       "  </thead>\n",
       "  <tbody>\n",
       "    <tr>\n",
       "      <th>count</th>\n",
       "      <td>45222.000000</td>\n",
       "      <td>45205.000000</td>\n",
       "      <td>45208.000000</td>\n",
       "      <td>45207.000000</td>\n",
       "      <td>45205.000000</td>\n",
       "      <td>45209.000000</td>\n",
       "    </tr>\n",
       "    <tr>\n",
       "      <th>mean</th>\n",
       "      <td>22610.500000</td>\n",
       "      <td>38.549983</td>\n",
       "      <td>10.118519</td>\n",
       "      <td>1099.583781</td>\n",
       "      <td>88.595885</td>\n",
       "      <td>40.939348</td>\n",
       "    </tr>\n",
       "    <tr>\n",
       "      <th>std</th>\n",
       "      <td>13054.611273</td>\n",
       "      <td>13.218616</td>\n",
       "      <td>2.552811</td>\n",
       "      <td>7493.227006</td>\n",
       "      <td>404.975547</td>\n",
       "      <td>12.007470</td>\n",
       "    </tr>\n",
       "    <tr>\n",
       "      <th>min</th>\n",
       "      <td>0.000000</td>\n",
       "      <td>17.000000</td>\n",
       "      <td>1.000000</td>\n",
       "      <td>0.000000</td>\n",
       "      <td>0.000000</td>\n",
       "      <td>1.000000</td>\n",
       "    </tr>\n",
       "    <tr>\n",
       "      <th>25%</th>\n",
       "      <td>11305.250000</td>\n",
       "      <td>28.000000</td>\n",
       "      <td>9.000000</td>\n",
       "      <td>0.000000</td>\n",
       "      <td>0.000000</td>\n",
       "      <td>40.000000</td>\n",
       "    </tr>\n",
       "    <tr>\n",
       "      <th>50%</th>\n",
       "      <td>22610.500000</td>\n",
       "      <td>37.000000</td>\n",
       "      <td>10.000000</td>\n",
       "      <td>0.000000</td>\n",
       "      <td>0.000000</td>\n",
       "      <td>40.000000</td>\n",
       "    </tr>\n",
       "    <tr>\n",
       "      <th>75%</th>\n",
       "      <td>33915.750000</td>\n",
       "      <td>47.000000</td>\n",
       "      <td>13.000000</td>\n",
       "      <td>0.000000</td>\n",
       "      <td>0.000000</td>\n",
       "      <td>45.000000</td>\n",
       "    </tr>\n",
       "    <tr>\n",
       "      <th>max</th>\n",
       "      <td>45221.000000</td>\n",
       "      <td>90.000000</td>\n",
       "      <td>16.000000</td>\n",
       "      <td>99999.000000</td>\n",
       "      <td>4356.000000</td>\n",
       "      <td>99.000000</td>\n",
       "    </tr>\n",
       "  </tbody>\n",
       "</table>\n",
       "</div>"
      ],
      "text/plain": [
       "         Unnamed: 0           age  education-num  capital-gain  capital-loss  \\\n",
       "count  45222.000000  45205.000000   45208.000000  45207.000000  45205.000000   \n",
       "mean   22610.500000     38.549983      10.118519   1099.583781     88.595885   \n",
       "std    13054.611273     13.218616       2.552811   7493.227006    404.975547   \n",
       "min        0.000000     17.000000       1.000000      0.000000      0.000000   \n",
       "25%    11305.250000     28.000000       9.000000      0.000000      0.000000   \n",
       "50%    22610.500000     37.000000      10.000000      0.000000      0.000000   \n",
       "75%    33915.750000     47.000000      13.000000      0.000000      0.000000   \n",
       "max    45221.000000     90.000000      16.000000  99999.000000   4356.000000   \n",
       "\n",
       "       hours-per-week  \n",
       "count    45209.000000  \n",
       "mean        40.939348  \n",
       "std         12.007470  \n",
       "min          1.000000  \n",
       "25%         40.000000  \n",
       "50%         40.000000  \n",
       "75%         45.000000  \n",
       "max         99.000000  "
      ]
     },
     "execution_count": 78,
     "metadata": {},
     "output_type": "execute_result"
    }
   ],
   "source": [
    "# gain statistics insight for data_test\n",
    "data_test.describe()"
   ]
  },
  {
   "cell_type": "markdown",
   "metadata": {
    "id": "gnbgAOwgpc2C"
   },
   "source": [
    "*Highlevel overview of Test Dataset statistics:*\n",
    "\n",
    "- The average age is 38.55 years, with a range from 17 to 90.\n",
    "\n",
    "- The average education level is 10.12, indicating that most individuals have at least some high school education.\n",
    "\n",
    "- The average capital gain is 1,099.58, with many individuals reporting no gain.\n",
    "\n",
    "- The average capital loss is 88.60, ranging from 0 to 4,356.\n",
    "\n",
    "- The average workweek is 40.94 hours, with most individuals working around 40 hours."
   ]
  },
  {
   "cell_type": "code",
   "execution_count": 79,
   "metadata": {
    "colab": {
     "base_uri": "https://localhost:8080/"
    },
    "id": "OPER6YZuREQs",
    "outputId": "61bca121-55e0-4ee4-fd89-aa11124d8666"
   },
   "outputs": [
    {
     "name": "stdout",
     "output_type": "stream",
     "text": [
      "<class 'pandas.core.frame.DataFrame'>\n",
      "RangeIndex: 45222 entries, 0 to 45221\n",
      "Data columns (total 14 columns):\n",
      " #   Column           Non-Null Count  Dtype  \n",
      "---  ------           --------------  -----  \n",
      " 0   age              45222 non-null  int64  \n",
      " 1   workclass        45222 non-null  object \n",
      " 2   education_level  45222 non-null  object \n",
      " 3   education-num    45222 non-null  float64\n",
      " 4   marital-status   45222 non-null  object \n",
      " 5   occupation       45222 non-null  object \n",
      " 6   relationship     45222 non-null  object \n",
      " 7   race             45222 non-null  object \n",
      " 8   sex              45222 non-null  object \n",
      " 9   capital-gain     45222 non-null  float64\n",
      " 10  capital-loss     45222 non-null  float64\n",
      " 11  hours-per-week   45222 non-null  float64\n",
      " 12  native-country   45222 non-null  object \n",
      " 13  income           45222 non-null  object \n",
      "dtypes: float64(4), int64(1), object(9)\n",
      "memory usage: 4.8+ MB\n"
     ]
    }
   ],
   "source": [
    "# Check info for train dataset\n",
    "data_train.info()"
   ]
  },
  {
   "cell_type": "markdown",
   "metadata": {
    "id": "StMxQkMppc2C"
   },
   "source": [
    "*Train Dataset Information and datatypes:*\n",
    "\n",
    "- The train dataset contain non-null values.\n",
    "- The dataset includes a mix of data types: one integer column (age), four float columns (education-num, capital-gain, capital-loss, hours-per-week), and nine object columns (workclass, education_level, marital-status, occupation, relationship, race, sex, native-country, income).\n",
    "- This dataset occupies approximately 4.8 MB of memory."
   ]
  },
  {
   "cell_type": "code",
   "execution_count": 80,
   "metadata": {
    "colab": {
     "base_uri": "https://localhost:8080/"
    },
    "id": "bSmyrLLVREQs",
    "outputId": "5118dbe7-be03-498c-f6c9-338643520049"
   },
   "outputs": [
    {
     "name": "stdout",
     "output_type": "stream",
     "text": [
      "<class 'pandas.core.frame.DataFrame'>\n",
      "RangeIndex: 45222 entries, 0 to 45221\n",
      "Data columns (total 14 columns):\n",
      " #   Column           Non-Null Count  Dtype  \n",
      "---  ------           --------------  -----  \n",
      " 0   Unnamed: 0       45222 non-null  int64  \n",
      " 1   age              45205 non-null  float64\n",
      " 2   workclass        45200 non-null  object \n",
      " 3   education_level  45202 non-null  object \n",
      " 4   education-num    45208 non-null  float64\n",
      " 5   marital-status   45201 non-null  object \n",
      " 6   occupation       45200 non-null  object \n",
      " 7   relationship     45206 non-null  object \n",
      " 8   race             45203 non-null  object \n",
      " 9   sex              45203 non-null  object \n",
      " 10  capital-gain     45207 non-null  float64\n",
      " 11  capital-loss     45205 non-null  float64\n",
      " 12  hours-per-week   45209 non-null  float64\n",
      " 13  native-country   45206 non-null  object \n",
      "dtypes: float64(5), int64(1), object(8)\n",
      "memory usage: 4.8+ MB\n"
     ]
    }
   ],
   "source": [
    "# Check info for test dataset\n",
    "data_test.info()"
   ]
  },
  {
   "cell_type": "markdown",
   "metadata": {
    "id": "axkBgfE-pc2C"
   },
   "source": [
    "*Test Dataset Information and datatypes:*\n",
    "\n",
    "- The test dataset contains some missing values in columns such as age, workclass, education_level, and capital-gain.\n",
    "- The dataset includes one integer column, five float columns, and eight object columns\n",
    "- The memory usage is approximately 4.8 MB."
   ]
  },
  {
   "cell_type": "markdown",
   "metadata": {
    "id": "EmZ0cbwvREQs"
   },
   "source": [
    "### Splitting the data"
   ]
  },
  {
   "cell_type": "code",
   "execution_count": 81,
   "metadata": {
    "id": "Cz4Kch7MREQs"
   },
   "outputs": [],
   "source": [
    "from sklearn.model_selection import train_test_split\n",
    "\n",
    "# Divide the training data into training (80%) and validation (20%)\n",
    "data_train, data_val = train_test_split(data_train, train_size=0.8, random_state=random_seed)\n",
    "\n",
    "# Reset the index\n",
    "data_train, data_val = data_train.reset_index(drop=True), data_val.reset_index(drop=True)"
   ]
  },
  {
   "cell_type": "code",
   "execution_count": 82,
   "metadata": {
    "colab": {
     "base_uri": "https://localhost:8080/",
     "height": 100
    },
    "id": "MptSlbFoREQt",
    "outputId": "8eb5c3eb-40c9-4656-d293-f2c5725dbcbf"
   },
   "outputs": [
    {
     "data": {
      "text/html": [
       "<div>\n",
       "<style scoped>\n",
       "    .dataframe tbody tr th:only-of-type {\n",
       "        vertical-align: middle;\n",
       "    }\n",
       "\n",
       "    .dataframe tbody tr th {\n",
       "        vertical-align: top;\n",
       "    }\n",
       "\n",
       "    .dataframe thead th {\n",
       "        text-align: right;\n",
       "    }\n",
       "</style>\n",
       "<table border=\"1\" class=\"dataframe\">\n",
       "  <thead>\n",
       "    <tr style=\"text-align: right;\">\n",
       "      <th></th>\n",
       "      <th># rows</th>\n",
       "      <th># columns</th>\n",
       "    </tr>\n",
       "  </thead>\n",
       "  <tbody>\n",
       "    <tr>\n",
       "      <th>0</th>\n",
       "      <td>36177</td>\n",
       "      <td>14</td>\n",
       "    </tr>\n",
       "  </tbody>\n",
       "</table>\n",
       "</div>"
      ],
      "text/plain": [
       "   # rows  # columns\n",
       "0   36177         14"
      ]
     },
     "execution_count": 82,
     "metadata": {},
     "output_type": "execute_result"
    }
   ],
   "source": [
    "# Print the dimension of data_train\n",
    "pd.DataFrame([[data_train.shape[0], data_train.shape[1]]], columns=['# rows', '# columns'])"
   ]
  },
  {
   "cell_type": "code",
   "execution_count": 83,
   "metadata": {
    "colab": {
     "base_uri": "https://localhost:8080/",
     "height": 100
    },
    "id": "kFLs23-8REQt",
    "outputId": "02eb3dc9-d967-4ccf-b7b7-f05cb95a25ac"
   },
   "outputs": [
    {
     "data": {
      "text/html": [
       "<div>\n",
       "<style scoped>\n",
       "    .dataframe tbody tr th:only-of-type {\n",
       "        vertical-align: middle;\n",
       "    }\n",
       "\n",
       "    .dataframe tbody tr th {\n",
       "        vertical-align: top;\n",
       "    }\n",
       "\n",
       "    .dataframe thead th {\n",
       "        text-align: right;\n",
       "    }\n",
       "</style>\n",
       "<table border=\"1\" class=\"dataframe\">\n",
       "  <thead>\n",
       "    <tr style=\"text-align: right;\">\n",
       "      <th></th>\n",
       "      <th># rows</th>\n",
       "      <th># columns</th>\n",
       "    </tr>\n",
       "  </thead>\n",
       "  <tbody>\n",
       "    <tr>\n",
       "      <th>0</th>\n",
       "      <td>9045</td>\n",
       "      <td>14</td>\n",
       "    </tr>\n",
       "  </tbody>\n",
       "</table>\n",
       "</div>"
      ],
      "text/plain": [
       "   # rows  # columns\n",
       "0    9045         14"
      ]
     },
     "execution_count": 83,
     "metadata": {},
     "output_type": "execute_result"
    }
   ],
   "source": [
    "# Print the dimension of data_val\n",
    "pd.DataFrame([[data_val.shape[0], data_val.shape[1]]], columns=['# rows', '# columns'])"
   ]
  },
  {
   "cell_type": "markdown",
   "metadata": {
    "id": "le7qIX4lpc2D"
   },
   "source": [
    "The train dataset has been split into 80% training data and 20% validation data. The training dataset now contains 36,177 rows and 14 columns, while the validation dataset has 9,045 rows and 14 columns."
   ]
  },
  {
   "cell_type": "markdown",
   "metadata": {
    "id": "MuzKHlhyREQt"
   },
   "source": [
    "### Handling uncommon features"
   ]
  },
  {
   "cell_type": "markdown",
   "metadata": {
    "id": "Ihm07cdFsmYQ"
   },
   "source": [
    "The uncommon features are identified in this step and are removed if not important"
   ]
  },
  {
   "cell_type": "markdown",
   "metadata": {
    "id": "3bLzOKf_REQt"
   },
   "source": [
    "#### Identifying uncommon features\n",
    "\n",
    "Utilising common var checker function mentioned in class to find common variables between the training, validation and test data."
   ]
  },
  {
   "cell_type": "code",
   "execution_count": 84,
   "metadata": {
    "colab": {
     "base_uri": "https://localhost:8080/",
     "height": 508
    },
    "id": "Zfx-p5sTREQt",
    "outputId": "e02669a8-fb9c-4949-a4d0-139682cf5637"
   },
   "outputs": [
    {
     "data": {
      "text/html": [
       "<div>\n",
       "<style scoped>\n",
       "    .dataframe tbody tr th:only-of-type {\n",
       "        vertical-align: middle;\n",
       "    }\n",
       "\n",
       "    .dataframe tbody tr th {\n",
       "        vertical-align: top;\n",
       "    }\n",
       "\n",
       "    .dataframe thead th {\n",
       "        text-align: right;\n",
       "    }\n",
       "</style>\n",
       "<table border=\"1\" class=\"dataframe\">\n",
       "  <thead>\n",
       "    <tr style=\"text-align: right;\">\n",
       "      <th></th>\n",
       "      <th>common var</th>\n",
       "    </tr>\n",
       "  </thead>\n",
       "  <tbody>\n",
       "    <tr>\n",
       "      <th>0</th>\n",
       "      <td>age</td>\n",
       "    </tr>\n",
       "    <tr>\n",
       "      <th>1</th>\n",
       "      <td>capital-gain</td>\n",
       "    </tr>\n",
       "    <tr>\n",
       "      <th>2</th>\n",
       "      <td>capital-loss</td>\n",
       "    </tr>\n",
       "    <tr>\n",
       "      <th>3</th>\n",
       "      <td>education-num</td>\n",
       "    </tr>\n",
       "    <tr>\n",
       "      <th>4</th>\n",
       "      <td>education_level</td>\n",
       "    </tr>\n",
       "    <tr>\n",
       "      <th>5</th>\n",
       "      <td>hours-per-week</td>\n",
       "    </tr>\n",
       "    <tr>\n",
       "      <th>6</th>\n",
       "      <td>income</td>\n",
       "    </tr>\n",
       "    <tr>\n",
       "      <th>7</th>\n",
       "      <td>marital-status</td>\n",
       "    </tr>\n",
       "    <tr>\n",
       "      <th>8</th>\n",
       "      <td>native-country</td>\n",
       "    </tr>\n",
       "    <tr>\n",
       "      <th>9</th>\n",
       "      <td>occupation</td>\n",
       "    </tr>\n",
       "    <tr>\n",
       "      <th>10</th>\n",
       "      <td>race</td>\n",
       "    </tr>\n",
       "    <tr>\n",
       "      <th>11</th>\n",
       "      <td>relationship</td>\n",
       "    </tr>\n",
       "    <tr>\n",
       "      <th>12</th>\n",
       "      <td>sex</td>\n",
       "    </tr>\n",
       "    <tr>\n",
       "      <th>13</th>\n",
       "      <td>workclass</td>\n",
       "    </tr>\n",
       "  </tbody>\n",
       "</table>\n",
       "</div>"
      ],
      "text/plain": [
       "         common var\n",
       "0               age\n",
       "1      capital-gain\n",
       "2      capital-loss\n",
       "3     education-num\n",
       "4   education_level\n",
       "5    hours-per-week\n",
       "6            income\n",
       "7    marital-status\n",
       "8    native-country\n",
       "9        occupation\n",
       "10             race\n",
       "11     relationship\n",
       "12              sex\n",
       "13        workclass"
      ]
     },
     "execution_count": 84,
     "metadata": {},
     "output_type": "execute_result"
    }
   ],
   "source": [
    "# Utilising common_var_checker mentioned in class\n",
    "\n",
    "def common_var_checker(df_train, data_val, df_test, target):\n",
    "    \"\"\"\n",
    "    The common variables checker\n",
    "\n",
    "    Parameters\n",
    "    ----------\n",
    "    df_train : the dataframe of training data\n",
    "    data_val : the dataframe of validation data\n",
    "    df_test : the dataframe of test data\n",
    "    target : the name of the target\n",
    "\n",
    "    Returns\n",
    "    ----------\n",
    "    The dataframe of common variables between the training, validation and test data\n",
    "    \"\"\"\n",
    "\n",
    "    # Get the dataframe of common variables between the training, validation and test data\n",
    "    df_common_var = pd.DataFrame(np.intersect1d(np.intersect1d(df_train.columns, data_val.columns), np.union1d(df_test.columns, [target])),\n",
    "                                 columns=['common var'])\n",
    "\n",
    "    return df_common_var\n",
    "\n",
    "data_common_var = common_var_checker(data_train, data_val, data_test, target)\n",
    "\n",
    "# Print df_common_var\n",
    "data_common_var"
   ]
  },
  {
   "cell_type": "code",
   "execution_count": 85,
   "metadata": {
    "colab": {
     "base_uri": "https://localhost:8080/",
     "height": 73
    },
    "id": "H1kTkdytREQt",
    "outputId": "ac5321a7-cc66-49ca-ea19-b4fd8547663e"
   },
   "outputs": [
    {
     "data": {
      "text/html": [
       "<div>\n",
       "<style scoped>\n",
       "    .dataframe tbody tr th:only-of-type {\n",
       "        vertical-align: middle;\n",
       "    }\n",
       "\n",
       "    .dataframe tbody tr th {\n",
       "        vertical-align: top;\n",
       "    }\n",
       "\n",
       "    .dataframe thead th {\n",
       "        text-align: right;\n",
       "    }\n",
       "</style>\n",
       "<table border=\"1\" class=\"dataframe\">\n",
       "  <thead>\n",
       "    <tr style=\"text-align: right;\">\n",
       "      <th></th>\n",
       "      <th>uncommon feature</th>\n",
       "    </tr>\n",
       "  </thead>\n",
       "  <tbody>\n",
       "  </tbody>\n",
       "</table>\n",
       "</div>"
      ],
      "text/plain": [
       "Empty DataFrame\n",
       "Columns: [uncommon feature]\n",
       "Index: []"
      ]
     },
     "execution_count": 85,
     "metadata": {},
     "output_type": "execute_result"
    }
   ],
   "source": [
    "# Get the features in the training data but not in the validation or test data\n",
    "uncommon_feature_train_not_val_test = np.setdiff1d(data_train.columns, data_common_var['common var'])\n",
    "\n",
    "# Print the uncommon features\n",
    "pd.DataFrame(uncommon_feature_train_not_val_test, columns=['uncommon feature'])"
   ]
  },
  {
   "cell_type": "markdown",
   "metadata": {
    "id": "ps38ru-fs7VJ"
   },
   "source": [
    "There are 0 features that are in training data but not in validation or test data."
   ]
  },
  {
   "cell_type": "code",
   "execution_count": 86,
   "metadata": {
    "colab": {
     "base_uri": "https://localhost:8080/",
     "height": 73
    },
    "id": "Bq8hVOgpREQu",
    "outputId": "07bc100f-4eec-44e1-cb69-a4de919ed5a4"
   },
   "outputs": [
    {
     "data": {
      "text/html": [
       "<div>\n",
       "<style scoped>\n",
       "    .dataframe tbody tr th:only-of-type {\n",
       "        vertical-align: middle;\n",
       "    }\n",
       "\n",
       "    .dataframe tbody tr th {\n",
       "        vertical-align: top;\n",
       "    }\n",
       "\n",
       "    .dataframe thead th {\n",
       "        text-align: right;\n",
       "    }\n",
       "</style>\n",
       "<table border=\"1\" class=\"dataframe\">\n",
       "  <thead>\n",
       "    <tr style=\"text-align: right;\">\n",
       "      <th></th>\n",
       "      <th>uncommon feature</th>\n",
       "    </tr>\n",
       "  </thead>\n",
       "  <tbody>\n",
       "  </tbody>\n",
       "</table>\n",
       "</div>"
      ],
      "text/plain": [
       "Empty DataFrame\n",
       "Columns: [uncommon feature]\n",
       "Index: []"
      ]
     },
     "execution_count": 86,
     "metadata": {},
     "output_type": "execute_result"
    }
   ],
   "source": [
    "# Get the features in the validation data but not in the training or test data\n",
    "uncommon_feature_val_not_train_test = np.setdiff1d(data_val.columns, data_common_var['common var'])\n",
    "\n",
    "# Print the uncommon features\n",
    "pd.DataFrame(uncommon_feature_val_not_train_test, columns=['uncommon feature'])"
   ]
  },
  {
   "cell_type": "markdown",
   "metadata": {
    "id": "x2c4wzhZREQu"
   },
   "source": [
    "There are 0 features that are in the validation data but not in training or test data:"
   ]
  },
  {
   "cell_type": "code",
   "execution_count": 87,
   "metadata": {
    "colab": {
     "base_uri": "https://localhost:8080/",
     "height": 100
    },
    "id": "I1P-9xYTREQu",
    "outputId": "1fa41292-f8c0-4336-e98e-27e58fcba68d"
   },
   "outputs": [
    {
     "data": {
      "text/html": [
       "<div>\n",
       "<style scoped>\n",
       "    .dataframe tbody tr th:only-of-type {\n",
       "        vertical-align: middle;\n",
       "    }\n",
       "\n",
       "    .dataframe tbody tr th {\n",
       "        vertical-align: top;\n",
       "    }\n",
       "\n",
       "    .dataframe thead th {\n",
       "        text-align: right;\n",
       "    }\n",
       "</style>\n",
       "<table border=\"1\" class=\"dataframe\">\n",
       "  <thead>\n",
       "    <tr style=\"text-align: right;\">\n",
       "      <th></th>\n",
       "      <th>uncommon feature</th>\n",
       "    </tr>\n",
       "  </thead>\n",
       "  <tbody>\n",
       "    <tr>\n",
       "      <th>0</th>\n",
       "      <td>Unnamed: 0</td>\n",
       "    </tr>\n",
       "  </tbody>\n",
       "</table>\n",
       "</div>"
      ],
      "text/plain": [
       "  uncommon feature\n",
       "0       Unnamed: 0"
      ]
     },
     "execution_count": 87,
     "metadata": {},
     "output_type": "execute_result"
    }
   ],
   "source": [
    "# Get the features in the test data but not in the training or validation data\n",
    "uncommon_feature_test_not_train_val = np.setdiff1d(data_test.columns, data_common_var['common var'])\n",
    "\n",
    "# Print the uncommon features\n",
    "pd.DataFrame(uncommon_feature_test_not_train_val, columns=['uncommon feature'])"
   ]
  },
  {
   "cell_type": "markdown",
   "metadata": {
    "id": "sAV1XlgsREQu"
   },
   "source": [
    "There is 1 feature that is in the test data but not in the training or validation data. It is the \"Unnamed:0\" that we noticed in previous step as well. Let us remove this feature."
   ]
  },
  {
   "cell_type": "markdown",
   "metadata": {
    "id": "Ww0x4jfCREQu"
   },
   "source": [
    "#### Removing uncommon features"
   ]
  },
  {
   "cell_type": "code",
   "execution_count": 88,
   "metadata": {
    "colab": {
     "base_uri": "https://localhost:8080/",
     "height": 434
    },
    "id": "y0Biyt_KREQu",
    "outputId": "6eefffff-be87-4ae8-f95b-cf7680cfebd2"
   },
   "outputs": [
    {
     "data": {
      "text/html": [
       "<div>\n",
       "<style scoped>\n",
       "    .dataframe tbody tr th:only-of-type {\n",
       "        vertical-align: middle;\n",
       "    }\n",
       "\n",
       "    .dataframe tbody tr th {\n",
       "        vertical-align: top;\n",
       "    }\n",
       "\n",
       "    .dataframe thead th {\n",
       "        text-align: right;\n",
       "    }\n",
       "</style>\n",
       "<table border=\"1\" class=\"dataframe\">\n",
       "  <thead>\n",
       "    <tr style=\"text-align: right;\">\n",
       "      <th></th>\n",
       "      <th>age</th>\n",
       "      <th>workclass</th>\n",
       "      <th>education_level</th>\n",
       "      <th>education-num</th>\n",
       "      <th>marital-status</th>\n",
       "      <th>occupation</th>\n",
       "      <th>relationship</th>\n",
       "      <th>race</th>\n",
       "      <th>sex</th>\n",
       "      <th>capital-gain</th>\n",
       "      <th>capital-loss</th>\n",
       "      <th>hours-per-week</th>\n",
       "      <th>native-country</th>\n",
       "    </tr>\n",
       "  </thead>\n",
       "  <tbody>\n",
       "    <tr>\n",
       "      <th>0</th>\n",
       "      <td>21.0</td>\n",
       "      <td>Private</td>\n",
       "      <td>10th</td>\n",
       "      <td>6.0</td>\n",
       "      <td>Married-civ-spouse</td>\n",
       "      <td>Craft-repair</td>\n",
       "      <td>Husband</td>\n",
       "      <td>White</td>\n",
       "      <td>Male</td>\n",
       "      <td>0.0</td>\n",
       "      <td>0.0</td>\n",
       "      <td>40.0</td>\n",
       "      <td>United-States</td>\n",
       "    </tr>\n",
       "    <tr>\n",
       "      <th>1</th>\n",
       "      <td>49.0</td>\n",
       "      <td>Private</td>\n",
       "      <td>Bachelors</td>\n",
       "      <td>13.0</td>\n",
       "      <td>Married-civ-spouse</td>\n",
       "      <td>Adm-clerical</td>\n",
       "      <td>Wife</td>\n",
       "      <td>White</td>\n",
       "      <td>Female</td>\n",
       "      <td>0.0</td>\n",
       "      <td>0.0</td>\n",
       "      <td>40.0</td>\n",
       "      <td>United-States</td>\n",
       "    </tr>\n",
       "    <tr>\n",
       "      <th>2</th>\n",
       "      <td>44.0</td>\n",
       "      <td>Self-emp-not-inc</td>\n",
       "      <td>Assoc-acdm</td>\n",
       "      <td>12.0</td>\n",
       "      <td>Married-civ-spouse</td>\n",
       "      <td>Other-service</td>\n",
       "      <td>Wife</td>\n",
       "      <td>White</td>\n",
       "      <td>Female</td>\n",
       "      <td>0.0</td>\n",
       "      <td>0.0</td>\n",
       "      <td>99.0</td>\n",
       "      <td>United-States</td>\n",
       "    </tr>\n",
       "    <tr>\n",
       "      <th>3</th>\n",
       "      <td>34.0</td>\n",
       "      <td>Private</td>\n",
       "      <td>Bachelors</td>\n",
       "      <td>13.0</td>\n",
       "      <td>Married-civ-spouse</td>\n",
       "      <td>Sales</td>\n",
       "      <td>Husband</td>\n",
       "      <td>White</td>\n",
       "      <td>Male</td>\n",
       "      <td>7298.0</td>\n",
       "      <td>0.0</td>\n",
       "      <td>46.0</td>\n",
       "      <td>United-States</td>\n",
       "    </tr>\n",
       "    <tr>\n",
       "      <th>4</th>\n",
       "      <td>24.0</td>\n",
       "      <td>Private</td>\n",
       "      <td>HS-grad</td>\n",
       "      <td>9.0</td>\n",
       "      <td>Married-civ-spouse</td>\n",
       "      <td>Machine-op-inspct</td>\n",
       "      <td>Husband</td>\n",
       "      <td>White</td>\n",
       "      <td>Male</td>\n",
       "      <td>0.0</td>\n",
       "      <td>0.0</td>\n",
       "      <td>40.0</td>\n",
       "      <td>United-States</td>\n",
       "    </tr>\n",
       "  </tbody>\n",
       "</table>\n",
       "</div>"
      ],
      "text/plain": [
       "    age          workclass education_level  education-num  \\\n",
       "0  21.0            Private            10th            6.0   \n",
       "1  49.0            Private       Bachelors           13.0   \n",
       "2  44.0   Self-emp-not-inc      Assoc-acdm           12.0   \n",
       "3  34.0            Private       Bachelors           13.0   \n",
       "4  24.0            Private         HS-grad            9.0   \n",
       "\n",
       "        marital-status          occupation relationship    race      sex  \\\n",
       "0   Married-civ-spouse        Craft-repair      Husband   White     Male   \n",
       "1   Married-civ-spouse        Adm-clerical         Wife   White   Female   \n",
       "2   Married-civ-spouse       Other-service         Wife   White   Female   \n",
       "3   Married-civ-spouse               Sales      Husband   White     Male   \n",
       "4   Married-civ-spouse   Machine-op-inspct      Husband   White     Male   \n",
       "\n",
       "   capital-gain  capital-loss  hours-per-week  native-country  \n",
       "0           0.0           0.0            40.0   United-States  \n",
       "1           0.0           0.0            40.0   United-States  \n",
       "2           0.0           0.0            99.0   United-States  \n",
       "3        7298.0           0.0            46.0   United-States  \n",
       "4           0.0           0.0            40.0   United-States  "
      ]
     },
     "execution_count": 88,
     "metadata": {},
     "output_type": "execute_result"
    }
   ],
   "source": [
    "# Remove the uncommon features from the test data\n",
    "data_test = data_test.drop(columns=uncommon_feature_test_not_train_val)\n",
    "\n",
    "# Print the first 5 rows of data_test\n",
    "data_test.head()"
   ]
  },
  {
   "cell_type": "markdown",
   "metadata": {
    "id": "kO5W3NCOtp1Z"
   },
   "source": [
    "The uncommon feature \"Unnamed:0\" is removed from the test data."
   ]
  },
  {
   "cell_type": "markdown",
   "metadata": {
    "id": "cGUmvlEKREQv"
   },
   "source": [
    "### Handling identifiers"
   ]
  },
  {
   "cell_type": "markdown",
   "metadata": {
    "id": "RcWoqe4et0Fm"
   },
   "source": [
    "in this step, we checked for Identifiers, which are unique attributes or variables used to uniquely distinguish records (rows) from one another."
   ]
  },
  {
   "cell_type": "markdown",
   "metadata": {
    "id": "Q0GLQPtCREQv"
   },
   "source": [
    "#### Combining the training, validation and test data\n",
    "Combining the training, validation and test data to look for identifiers"
   ]
  },
  {
   "cell_type": "code",
   "execution_count": 89,
   "metadata": {
    "id": "NPjV-zEFREQv"
   },
   "outputs": [],
   "source": [
    "# Combine data_train, data_val and data_test\n",
    "data = pd.concat([data_train, data_val, data_test], sort=False)"
   ]
  },
  {
   "cell_type": "markdown",
   "metadata": {
    "id": "zxwb9ZlwREQv"
   },
   "source": [
    "#### Identifying identifiers\n",
    "Utilising id checker function mentioned in class to check for identifiers"
   ]
  },
  {
   "cell_type": "code",
   "execution_count": 90,
   "metadata": {
    "colab": {
     "base_uri": "https://localhost:8080/",
     "height": 209
    },
    "id": "JgY3ecmuREQw",
    "outputId": "4b6d005a-e024-4e5c-bd60-9d6a3b021232"
   },
   "outputs": [
    {
     "data": {
      "text/html": [
       "<div>\n",
       "<style scoped>\n",
       "    .dataframe tbody tr th:only-of-type {\n",
       "        vertical-align: middle;\n",
       "    }\n",
       "\n",
       "    .dataframe tbody tr th {\n",
       "        vertical-align: top;\n",
       "    }\n",
       "\n",
       "    .dataframe thead th {\n",
       "        text-align: right;\n",
       "    }\n",
       "</style>\n",
       "<table border=\"1\" class=\"dataframe\">\n",
       "  <thead>\n",
       "    <tr style=\"text-align: right;\">\n",
       "      <th></th>\n",
       "    </tr>\n",
       "  </thead>\n",
       "  <tbody>\n",
       "    <tr>\n",
       "      <th>0</th>\n",
       "    </tr>\n",
       "    <tr>\n",
       "      <th>1</th>\n",
       "    </tr>\n",
       "    <tr>\n",
       "      <th>2</th>\n",
       "    </tr>\n",
       "    <tr>\n",
       "      <th>3</th>\n",
       "    </tr>\n",
       "    <tr>\n",
       "      <th>4</th>\n",
       "    </tr>\n",
       "  </tbody>\n",
       "</table>\n",
       "</div>"
      ],
      "text/plain": [
       "Empty DataFrame\n",
       "Columns: []\n",
       "Index: [0, 1, 2, 3, 4]"
      ]
     },
     "execution_count": 90,
     "metadata": {},
     "output_type": "execute_result"
    }
   ],
   "source": [
    "#utilising id-checker as mentioned in class\n",
    "def id_checker(df, dtype='float'):\n",
    "    \"\"\"\n",
    "    The identifier checker\n",
    "\n",
    "    Parameters\n",
    "    ----------\n",
    "    df : dataframe\n",
    "    dtype : the data type identifiers cannot have, 'float' by default\n",
    "            i.e., if a feature has this data type, it cannot be an identifier\n",
    "\n",
    "    Returns\n",
    "    ----------\n",
    "    The dataframe of identifiers\n",
    "    \"\"\"\n",
    "\n",
    "    # Get the dataframe of identifiers\n",
    "    df_id = df[[var for var in df.columns\n",
    "                # If the data type is not dtype\n",
    "                if (df[var].dtype != dtype\n",
    "                    # If the value is unique for each sample\n",
    "                    and df[var].nunique(dropna=True) == df[var].notnull().sum())]]\n",
    "\n",
    "    return df_id\n",
    "df_id = id_checker(data)\n",
    "\n",
    "# Print the first 5 rows of df_id\n",
    "df_id.head()"
   ]
  },
  {
   "cell_type": "markdown",
   "metadata": {
    "id": "LnVpgbLCpc2G"
   },
   "source": [
    "Since no identifiers are found in above step, no data manipulation is done on training, validation and test data. Hence we can directly proceed with next step without splitting back the combined data because data_test, data_val and data_train are same from above step and are not changed."
   ]
  },
  {
   "cell_type": "markdown",
   "metadata": {
    "id": "8RgyCr_xREQw"
   },
   "source": [
    "### Handling missing data"
   ]
  },
  {
   "cell_type": "markdown",
   "metadata": {
    "id": "VoqN8fLNuPqb"
   },
   "source": [
    "In this step, we checked for missing values."
   ]
  },
  {
   "cell_type": "markdown",
   "metadata": {
    "id": "RudECgO9REQw"
   },
   "source": [
    "#### Identifying missing values\n",
    "\n",
    "Utilising NaN checker mentioned in class to find variables with NaN, their proportion of NaN and data type."
   ]
  },
  {
   "cell_type": "code",
   "execution_count": 91,
   "metadata": {
    "id": "8KcpSZXKREQw"
   },
   "outputs": [],
   "source": [
    "# Utilising nan_checker from class\n",
    "def nan_checker(df):\n",
    "    \"\"\"\n",
    "    The NaN checker\n",
    "\n",
    "    Parameters\n",
    "    ----------\n",
    "    df : the dataframe\n",
    "\n",
    "    Returns\n",
    "    ----------\n",
    "    The dataframe of variables with NaN, their proportion of NaN and data type\n",
    "    \"\"\"\n",
    "\n",
    "    # Get the dataframe of variables with NaN, their proportion of NaN and data type\n",
    "    df_nan = pd.DataFrame([[var, df[var].isna().sum() / df.shape[0], df[var].dtype]\n",
    "                           for var in df.columns if df[var].isna().sum() > 0],\n",
    "                          columns=['var', 'proportion', 'dtype'])\n",
    "\n",
    "    # Sort df_nan in accending order of the proportion of NaN\n",
    "    df_nan = df_nan.sort_values(by='proportion', ascending=False).reset_index(drop=True)\n",
    "\n",
    "    return df_nan"
   ]
  },
  {
   "cell_type": "code",
   "execution_count": 92,
   "metadata": {
    "colab": {
     "base_uri": "https://localhost:8080/",
     "height": 109
    },
    "id": "Xemu-rwHREQw",
    "outputId": "a48eb81b-5ddc-4a74-dd39-bd7ea20f7411"
   },
   "outputs": [
    {
     "data": {
      "text/html": [
       "<div>\n",
       "<style scoped>\n",
       "    .dataframe tbody tr th:only-of-type {\n",
       "        vertical-align: middle;\n",
       "    }\n",
       "\n",
       "    .dataframe tbody tr th {\n",
       "        vertical-align: top;\n",
       "    }\n",
       "\n",
       "    .dataframe thead th {\n",
       "        text-align: right;\n",
       "    }\n",
       "</style>\n",
       "<table border=\"1\" class=\"dataframe\">\n",
       "  <thead>\n",
       "    <tr style=\"text-align: right;\">\n",
       "      <th></th>\n",
       "      <th>var</th>\n",
       "      <th>proportion</th>\n",
       "      <th>dtype</th>\n",
       "    </tr>\n",
       "  </thead>\n",
       "  <tbody>\n",
       "  </tbody>\n",
       "</table>\n",
       "</div>"
      ],
      "text/plain": [
       "Empty DataFrame\n",
       "Columns: [var, proportion, dtype]\n",
       "Index: []"
      ]
     },
     "execution_count": 92,
     "metadata": {},
     "output_type": "execute_result"
    }
   ],
   "source": [
    "# Checking for missing values in training data\n",
    "missing_train_df = nan_checker(data_train)\n",
    "missing_train_df"
   ]
  },
  {
   "cell_type": "code",
   "execution_count": 93,
   "metadata": {
    "colab": {
     "base_uri": "https://localhost:8080/",
     "height": 109
    },
    "id": "a0tyv_-AREQw",
    "outputId": "74d7b33f-c65c-49f9-969c-63cc323430a4"
   },
   "outputs": [
    {
     "data": {
      "text/html": [
       "<div>\n",
       "<style scoped>\n",
       "    .dataframe tbody tr th:only-of-type {\n",
       "        vertical-align: middle;\n",
       "    }\n",
       "\n",
       "    .dataframe tbody tr th {\n",
       "        vertical-align: top;\n",
       "    }\n",
       "\n",
       "    .dataframe thead th {\n",
       "        text-align: right;\n",
       "    }\n",
       "</style>\n",
       "<table border=\"1\" class=\"dataframe\">\n",
       "  <thead>\n",
       "    <tr style=\"text-align: right;\">\n",
       "      <th></th>\n",
       "      <th>var</th>\n",
       "      <th>proportion</th>\n",
       "      <th>dtype</th>\n",
       "    </tr>\n",
       "  </thead>\n",
       "  <tbody>\n",
       "  </tbody>\n",
       "</table>\n",
       "</div>"
      ],
      "text/plain": [
       "Empty DataFrame\n",
       "Columns: [var, proportion, dtype]\n",
       "Index: []"
      ]
     },
     "execution_count": 93,
     "metadata": {},
     "output_type": "execute_result"
    }
   ],
   "source": [
    "# Checking for missing values in validation data\n",
    "missing_val_df = nan_checker(data_val)\n",
    "missing_val_df"
   ]
  },
  {
   "cell_type": "markdown",
   "metadata": {
    "id": "gGJlVwKSpc2G"
   },
   "source": [
    "As observed, there are no missing values in the training and validation datasets. The nan_checker function confirms that all variables are complete, ensuring the datasets are ready for analysis."
   ]
  },
  {
   "cell_type": "code",
   "execution_count": 94,
   "metadata": {
    "colab": {
     "base_uri": "https://localhost:8080/",
     "height": 477
    },
    "id": "_TIg8tHgREQw",
    "outputId": "9867e27f-c28c-49e5-ef84-7c0b36bc2f99"
   },
   "outputs": [
    {
     "data": {
      "text/html": [
       "<div>\n",
       "<style scoped>\n",
       "    .dataframe tbody tr th:only-of-type {\n",
       "        vertical-align: middle;\n",
       "    }\n",
       "\n",
       "    .dataframe tbody tr th {\n",
       "        vertical-align: top;\n",
       "    }\n",
       "\n",
       "    .dataframe thead th {\n",
       "        text-align: right;\n",
       "    }\n",
       "</style>\n",
       "<table border=\"1\" class=\"dataframe\">\n",
       "  <thead>\n",
       "    <tr style=\"text-align: right;\">\n",
       "      <th></th>\n",
       "      <th>var</th>\n",
       "      <th>proportion</th>\n",
       "      <th>dtype</th>\n",
       "    </tr>\n",
       "  </thead>\n",
       "  <tbody>\n",
       "    <tr>\n",
       "      <th>0</th>\n",
       "      <td>workclass</td>\n",
       "      <td>0.000486</td>\n",
       "      <td>object</td>\n",
       "    </tr>\n",
       "    <tr>\n",
       "      <th>1</th>\n",
       "      <td>occupation</td>\n",
       "      <td>0.000486</td>\n",
       "      <td>object</td>\n",
       "    </tr>\n",
       "    <tr>\n",
       "      <th>2</th>\n",
       "      <td>marital-status</td>\n",
       "      <td>0.000464</td>\n",
       "      <td>object</td>\n",
       "    </tr>\n",
       "    <tr>\n",
       "      <th>3</th>\n",
       "      <td>education_level</td>\n",
       "      <td>0.000442</td>\n",
       "      <td>object</td>\n",
       "    </tr>\n",
       "    <tr>\n",
       "      <th>4</th>\n",
       "      <td>race</td>\n",
       "      <td>0.000420</td>\n",
       "      <td>object</td>\n",
       "    </tr>\n",
       "    <tr>\n",
       "      <th>5</th>\n",
       "      <td>sex</td>\n",
       "      <td>0.000420</td>\n",
       "      <td>object</td>\n",
       "    </tr>\n",
       "    <tr>\n",
       "      <th>6</th>\n",
       "      <td>age</td>\n",
       "      <td>0.000376</td>\n",
       "      <td>float64</td>\n",
       "    </tr>\n",
       "    <tr>\n",
       "      <th>7</th>\n",
       "      <td>capital-loss</td>\n",
       "      <td>0.000376</td>\n",
       "      <td>float64</td>\n",
       "    </tr>\n",
       "    <tr>\n",
       "      <th>8</th>\n",
       "      <td>relationship</td>\n",
       "      <td>0.000354</td>\n",
       "      <td>object</td>\n",
       "    </tr>\n",
       "    <tr>\n",
       "      <th>9</th>\n",
       "      <td>native-country</td>\n",
       "      <td>0.000354</td>\n",
       "      <td>object</td>\n",
       "    </tr>\n",
       "    <tr>\n",
       "      <th>10</th>\n",
       "      <td>capital-gain</td>\n",
       "      <td>0.000332</td>\n",
       "      <td>float64</td>\n",
       "    </tr>\n",
       "    <tr>\n",
       "      <th>11</th>\n",
       "      <td>education-num</td>\n",
       "      <td>0.000310</td>\n",
       "      <td>float64</td>\n",
       "    </tr>\n",
       "    <tr>\n",
       "      <th>12</th>\n",
       "      <td>hours-per-week</td>\n",
       "      <td>0.000287</td>\n",
       "      <td>float64</td>\n",
       "    </tr>\n",
       "  </tbody>\n",
       "</table>\n",
       "</div>"
      ],
      "text/plain": [
       "                var  proportion    dtype\n",
       "0         workclass    0.000486   object\n",
       "1        occupation    0.000486   object\n",
       "2    marital-status    0.000464   object\n",
       "3   education_level    0.000442   object\n",
       "4              race    0.000420   object\n",
       "5               sex    0.000420   object\n",
       "6               age    0.000376  float64\n",
       "7      capital-loss    0.000376  float64\n",
       "8      relationship    0.000354   object\n",
       "9    native-country    0.000354   object\n",
       "10     capital-gain    0.000332  float64\n",
       "11    education-num    0.000310  float64\n",
       "12   hours-per-week    0.000287  float64"
      ]
     },
     "execution_count": 94,
     "metadata": {},
     "output_type": "execute_result"
    }
   ],
   "source": [
    "# Checking for missing values in test data\n",
    "missing_test_df = nan_checker(data_test)\n",
    "missing_test_df"
   ]
  },
  {
   "cell_type": "markdown",
   "metadata": {
    "id": "EARW6pifu4aT"
   },
   "source": [
    "There are null values in test dataset, which we also noticed in above step while checking dataset information. Let us check the type of variables that have missing values."
   ]
  },
  {
   "cell_type": "code",
   "execution_count": 95,
   "metadata": {
    "colab": {
     "base_uri": "https://localhost:8080/",
     "height": 132
    },
    "id": "__bdqmxBREQw",
    "outputId": "1a846e1a-ff2d-4f99-c057-d8c4b3f08ee4"
   },
   "outputs": [
    {
     "data": {
      "text/html": [
       "<div>\n",
       "<style scoped>\n",
       "    .dataframe tbody tr th:only-of-type {\n",
       "        vertical-align: middle;\n",
       "    }\n",
       "\n",
       "    .dataframe tbody tr th {\n",
       "        vertical-align: top;\n",
       "    }\n",
       "\n",
       "    .dataframe thead th {\n",
       "        text-align: right;\n",
       "    }\n",
       "</style>\n",
       "<table border=\"1\" class=\"dataframe\">\n",
       "  <thead>\n",
       "    <tr style=\"text-align: right;\">\n",
       "      <th></th>\n",
       "      <th>dtype</th>\n",
       "    </tr>\n",
       "  </thead>\n",
       "  <tbody>\n",
       "    <tr>\n",
       "      <th>0</th>\n",
       "      <td>object</td>\n",
       "    </tr>\n",
       "    <tr>\n",
       "      <th>1</th>\n",
       "      <td>float64</td>\n",
       "    </tr>\n",
       "  </tbody>\n",
       "</table>\n",
       "</div>"
      ],
      "text/plain": [
       "     dtype\n",
       "0   object\n",
       "1  float64"
      ]
     },
     "execution_count": 95,
     "metadata": {},
     "output_type": "execute_result"
    }
   ],
   "source": [
    "# Print the unique data type of variables with NaN in test dataframe\n",
    "pd.DataFrame(missing_test_df['dtype'].unique(), columns=['dtype'])"
   ]
  },
  {
   "cell_type": "markdown",
   "metadata": {
    "id": "pY8mg6ZHvINL"
   },
   "source": [
    "The missing values are of object and float datatype."
   ]
  },
  {
   "cell_type": "code",
   "execution_count": 96,
   "metadata": {
    "colab": {
     "base_uri": "https://localhost:8080/"
    },
    "id": "VhqF1qSqREQx",
    "outputId": "3690b66c-542d-4973-f770-4d9190004d46"
   },
   "outputs": [
    {
     "name": "stdout",
     "output_type": "stream",
     "text": [
      "age                17\n",
      "workclass          22\n",
      "education_level    20\n",
      "education-num      14\n",
      "marital-status     21\n",
      "occupation         22\n",
      "relationship       16\n",
      "race               19\n",
      "sex                19\n",
      "capital-gain       15\n",
      "capital-loss       17\n",
      "hours-per-week     13\n",
      "native-country     16\n",
      "dtype: int64\n"
     ]
    }
   ],
   "source": [
    "# Checking the number of null values in each column\n",
    "null_counts = data_test.isnull().sum()\n",
    "print(null_counts)"
   ]
  },
  {
   "cell_type": "markdown",
   "metadata": {
    "id": "dLy_ywk2vOGT"
   },
   "source": [
    "Count of Null values in each column are identified as follows:\n",
    "\n",
    "- age                : 17\n",
    "- workclass          : 22\n",
    "- education_level    : 20\n",
    "- education-num      : 14\n",
    "- marital-status     : 21\n",
    "- occupation         : 22\n",
    "- relationship       : 16\n",
    "- race               : 19\n",
    "- sex                : 19\n",
    "- capital-gain       : 15\n",
    "- capital-loss       : 17\n",
    "- hours-per-week     : 13\n",
    "- native-country     : 16"
   ]
  },
  {
   "cell_type": "markdown",
   "metadata": {
    "id": "upF5aj6AREQx"
   },
   "source": [
    "#### Imputing missing values"
   ]
  },
  {
   "cell_type": "markdown",
   "metadata": {
    "id": "udxyHG3QREQx"
   },
   "source": [
    "Since there are missing values in test data, let us check the distribution of feature data (from train & validation datasets) and impute values based on it."
   ]
  },
  {
   "cell_type": "markdown",
   "metadata": {
    "id": "bLwsF2wUREQx"
   },
   "source": [
    "##### Combining the training and validation data\n",
    "\n",
    "Combining the training and validation data so that distribution of data can be checked and missing values can be imputed based on it"
   ]
  },
  {
   "cell_type": "code",
   "execution_count": 97,
   "metadata": {
    "id": "NX-AfGvUREQx"
   },
   "outputs": [],
   "source": [
    "# Combine data_train, data_val\n",
    "data_trv = pd.concat([data_train, data_val], sort=False)"
   ]
  },
  {
   "cell_type": "markdown",
   "metadata": {
    "id": "k5gNdnFJREQx"
   },
   "source": [
    "##### Identifying categorical and continuous data columns\n"
   ]
  },
  {
   "cell_type": "code",
   "execution_count": 98,
   "metadata": {
    "colab": {
     "base_uri": "https://localhost:8080/"
    },
    "id": "6U5zX3v3REQx",
    "outputId": "e7b4a53e-9370-473e-9a61-a62e2da4a952"
   },
   "outputs": [
    {
     "name": "stdout",
     "output_type": "stream",
     "text": [
      "Non-categorical/continuous columns are: ['age', 'education-num', 'capital-gain', 'capital-loss', 'hours-per-week']\n"
     ]
    }
   ],
   "source": [
    "# Utilising describe method in pandas to find out continuous or numerical variables in the dataframe\n",
    "continuous = list(data_trv.describe().columns)\n",
    "print(\"Non-categorical/continuous columns are:\", continuous)"
   ]
  },
  {
   "cell_type": "code",
   "execution_count": 99,
   "metadata": {
    "colab": {
     "base_uri": "https://localhost:8080/",
     "height": 351
    },
    "id": "MXHOaL07REQx",
    "outputId": "8c8fe1fd-c421-41a5-8e77-817aef9e52a7"
   },
   "outputs": [
    {
     "data": {
      "text/html": [
       "<div>\n",
       "<style scoped>\n",
       "    .dataframe tbody tr th:only-of-type {\n",
       "        vertical-align: middle;\n",
       "    }\n",
       "\n",
       "    .dataframe tbody tr th {\n",
       "        vertical-align: top;\n",
       "    }\n",
       "\n",
       "    .dataframe thead th {\n",
       "        text-align: right;\n",
       "    }\n",
       "</style>\n",
       "<table border=\"1\" class=\"dataframe\">\n",
       "  <thead>\n",
       "    <tr style=\"text-align: right;\">\n",
       "      <th></th>\n",
       "      <th>var</th>\n",
       "      <th>nunique</th>\n",
       "    </tr>\n",
       "  </thead>\n",
       "  <tbody>\n",
       "    <tr>\n",
       "      <th>0</th>\n",
       "      <td>native-country</td>\n",
       "      <td>41</td>\n",
       "    </tr>\n",
       "    <tr>\n",
       "      <th>1</th>\n",
       "      <td>education_level</td>\n",
       "      <td>16</td>\n",
       "    </tr>\n",
       "    <tr>\n",
       "      <th>2</th>\n",
       "      <td>occupation</td>\n",
       "      <td>14</td>\n",
       "    </tr>\n",
       "    <tr>\n",
       "      <th>3</th>\n",
       "      <td>workclass</td>\n",
       "      <td>7</td>\n",
       "    </tr>\n",
       "    <tr>\n",
       "      <th>4</th>\n",
       "      <td>marital-status</td>\n",
       "      <td>7</td>\n",
       "    </tr>\n",
       "    <tr>\n",
       "      <th>5</th>\n",
       "      <td>relationship</td>\n",
       "      <td>6</td>\n",
       "    </tr>\n",
       "    <tr>\n",
       "      <th>6</th>\n",
       "      <td>race</td>\n",
       "      <td>5</td>\n",
       "    </tr>\n",
       "    <tr>\n",
       "      <th>7</th>\n",
       "      <td>sex</td>\n",
       "      <td>2</td>\n",
       "    </tr>\n",
       "    <tr>\n",
       "      <th>8</th>\n",
       "      <td>income</td>\n",
       "      <td>2</td>\n",
       "    </tr>\n",
       "  </tbody>\n",
       "</table>\n",
       "</div>"
      ],
      "text/plain": [
       "               var  nunique\n",
       "0   native-country       41\n",
       "1  education_level       16\n",
       "2       occupation       14\n",
       "3        workclass        7\n",
       "4   marital-status        7\n",
       "5     relationship        6\n",
       "6             race        5\n",
       "7              sex        2\n",
       "8           income        2"
      ]
     },
     "execution_count": 99,
     "metadata": {},
     "output_type": "execute_result"
    }
   ],
   "source": [
    "## Utilising cat_var_checker as mentioned in class for finding categorical variables\n",
    "def cat_var_checker(df, dtype='object'):\n",
    "    \"\"\"\n",
    "    The categorical variable checker\n",
    "\n",
    "    Parameters\n",
    "    ----------\n",
    "    df : the dataframe\n",
    "    dtype : the data type categorical variables should have, 'object' by default\n",
    "            i.e., if a variable has this data type, it should be a categorical variable\n",
    "\n",
    "    Returns\n",
    "    ----------\n",
    "    The dataframe of categorical variables and their number of unique value\n",
    "    \"\"\"\n",
    "\n",
    "    # Get the dataframe of categorical variables and their number of unique value\n",
    "    df_cat = pd.DataFrame([[var, df[var].nunique(dropna=False)]\n",
    "                           # If the data type is dtype\n",
    "                           for var in df.columns if df[var].dtype == dtype],\n",
    "                          columns=['var', 'nunique'])\n",
    "\n",
    "    # Sort df_cat in accending order of the number of unique value\n",
    "    df_cat = df_cat.sort_values(by='nunique', ascending=False).reset_index(drop=True)\n",
    "\n",
    "    return df_cat\n",
    "\n",
    "data_cat = cat_var_checker(data_trv)\n",
    "\n",
    "# Print the dataframe containing categorical column names and count of unique values\n",
    "data_cat"
   ]
  },
  {
   "cell_type": "code",
   "execution_count": 100,
   "metadata": {
    "colab": {
     "base_uri": "https://localhost:8080/"
    },
    "id": "y-Ya0lTRREQy",
    "outputId": "02ae6627-5044-4374-c011-7009714f698f"
   },
   "outputs": [
    {
     "name": "stdout",
     "output_type": "stream",
     "text": [
      "workclass:  Private,  Self-emp-not-inc,  Local-gov,  State-gov,  Self-emp-inc,  Federal-gov,  Without-pay\n",
      "\n",
      "\n",
      "education_level:  HS-grad,  Some-college,  Bachelors,  Masters,  Assoc-voc,  11th,  Assoc-acdm,  10th,  7th-8th,  Prof-school,  9th,  12th,  Doctorate,  5th-6th,  1st-4th,  Preschool\n",
      "\n",
      "\n",
      "marital-status:  Married-civ-spouse,  Never-married,  Divorced,  Separated,  Widowed,  Married-spouse-absent,  Married-AF-spouse\n",
      "\n",
      "\n",
      "occupation:  Craft-repair,  Prof-specialty,  Exec-managerial,  Adm-clerical,  Sales,  Other-service,  Machine-op-inspct,  Transport-moving,  Handlers-cleaners,  Farming-fishing,  Tech-support,  Protective-serv,  Priv-house-serv,  Armed-Forces\n",
      "\n",
      "\n",
      "relationship:  Husband,  Not-in-family,  Own-child,  Unmarried,  Wife,  Other-relative\n",
      "\n",
      "\n",
      "race:  White,  Black,  Asian-Pac-Islander,  Amer-Indian-Eskimo,  Other\n",
      "\n",
      "\n",
      "sex:  Male,  Female\n",
      "\n",
      "\n",
      "native-country:  United-States,  Mexico,  Philippines,  Germany,  Puerto-Rico,  Canada,  El-Salvador,  India,  Cuba,  England,  China,  Jamaica,  South,  Italy,  Dominican-Republic,  Japan,  Guatemala,  Vietnam,  Columbia,  Poland,  Haiti,  Portugal,  Iran,  Taiwan,  Greece,  Nicaragua,  Peru,  Ecuador,  France,  Ireland,  Thailand,  Hong,  Trinadad&Tobago,  Cambodia,  Yugoslavia,  Outlying-US(Guam-USVI-etc),  Laos,  Scotland,  Honduras,  Hungary,  Holand-Netherlands\n",
      "\n",
      "\n",
      "income: <=50K, >50K\n",
      "\n",
      "\n"
     ]
    }
   ],
   "source": [
    "categorical = data_cat['var'].tolist()\n",
    "\n",
    "# checking unique values in each categorical column\n",
    "for col in data_trv.columns:\n",
    "    if col in categorical:\n",
    "        values = list(data_trv[col].value_counts().index)\n",
    "        print('{}: {}'.format(col, ', '.join(values)))\n",
    "        print('\\n')"
   ]
  },
  {
   "cell_type": "markdown",
   "metadata": {
    "id": "hGLtiSp5REQy"
   },
   "source": [
    "##### Summary of features in terms of datatype:\n",
    "\n",
    "* **age**: ```continuous```\n",
    "* **workclass**: ```categorical``` [Private, Self-emp-not-inc, Self-emp-inc, Federal-gov, Local-gov, State-gov, Without-pay, Never-worked]\n",
    "* **education**: ```categorical``` [Bachelors, Some-college, 11th, HS-grad, Prof-school, Assoc-acdm, Assoc-voc, 9th, 7th-8th, 12th, Masters, 1st-4th, 10th, Doctorate, 5th-6th, Preschool]\n",
    "* **education-num**: ```continuous```\n",
    "* **marital-status**: ```categorical``` [Married-civ-spouse, Divorced, Never-married, Separated, Widowed, Married-spouse-absent, Married-AF-spouse]\n",
    "* **occupation**: ```categorical``` [Tech-support, Craft-repair, Other-service, Sales, Exec-managerial, Prof-specialty, Handlers-cleaners, Machine-op-inspct, Adm-clerical, Farming-fishing, Transport-moving, Priv-house-serv, Protective-serv, Armed-Forces]\n",
    "* **relationship**: ```categorical``` [Wife, Own-child, Husband, Not-in-family, Other-relative, Unmarried]\n",
    "* **race**: ```categorical``` [Black, White, Asian-Pac-Islander, Amer-Indian-Eskimo, Other]\n",
    "* **sex**: ```categorical``` [Female, Male]\n",
    "* **capital-gain**: ```continuous```\n",
    "* **capital-loss**: ```continuous```\n",
    "* **hours-per-week**: ```continuous```\n",
    "* **native-country**: ```categorical``` [United-States, Cambodia, England, Puerto-Rico, Canada, Germany, Outlying-US(Guam-USVI-etc), India, Japan, Greece, South, China, Cuba, Iran, Honduras, Philippines, Italy, Poland, Jamaica, Vietnam, Mexico, Portugal, Ireland, France, Dominican-Republic, Laos, Ecuador, Taiwan, Haiti, Columbia, Hungary, Guatemala, Nicaragua, Scotland, Thailand, Yugoslavia, El-Salvador, Trinadad&Tobago, Peru, Hong, Holand-Netherlands]"
   ]
  },
  {
   "cell_type": "markdown",
   "metadata": {
    "id": "VibLYjPIREQy"
   },
   "source": [
    "##### Distribution check of features\n",
    "\n",
    "Checking the distribution for deciding about missing values imputation"
   ]
  },
  {
   "cell_type": "code",
   "execution_count": 101,
   "metadata": {
    "colab": {
     "base_uri": "https://localhost:8080/",
     "height": 1000
    },
    "id": "Pt2Moi2pREQy",
    "outputId": "2fb9772f-3e57-4416-96f4-439f92d66b9f"
   },
   "outputs": [
    {
     "name": "stdout",
     "output_type": "stream",
     "text": [
      "age skew: 0.5328158942555791\n",
      "education-num skew: -0.3106209464770188\n",
      "capital-gain skew: 11.789002180291192\n",
      "capital-loss skew: 4.516304152981587\n",
      "hours-per-week skew: 0.34054514378520867\n"
     ]
    },
    {
     "data": {
      "image/png": "[encoded data removed]",
      "text/plain": [
       "<Figure size 1600x800 with 1 Axes>"
      ]
     },
     "metadata": {},
     "output_type": "display_data"
    },
    {
     "data": {
      "image/png": "[encoded data removed]",
      "text/plain": [
       "<Figure size 1600x800 with 1 Axes>"
      ]
     },
     "metadata": {},
     "output_type": "display_data"
    },
    {
     "data": {
      "image/png": "[encoded data removed]",
      "text/plain": [
       "<Figure size 1600x800 with 1 Axes>"
      ]
     },
     "metadata": {},
     "output_type": "display_data"
    },
    {
     "data": {
      "image/png": "[encoded data removed]",
      "text/plain": [
       "<Figure size 1600x800 with 1 Axes>"
      ]
     },
     "metadata": {},
     "output_type": "display_data"
    },
    {
     "data": {
      "image/png": "[encoded data removed]",
      "text/plain": [
       "<Figure size 1600x800 with 1 Axes>"
      ]
     },
     "metadata": {},
     "output_type": "display_data"
    }
   ],
   "source": [
    "# importing seaborn for visualisations\n",
    "import seaborn as sns\n",
    "\n",
    "# check the distributions of continuous features\n",
    "for col in continuous:\n",
    "    a = sns.FacetGrid(data_trv, height=8, aspect=2)\n",
    "    a.map(sns.histplot, col, kde_kws={'bw': 25})\n",
    "    a.add_legend\n",
    "    print('{} skew: {}'.format(col, data_trv[col].skew()))"
   ]
  },
  {
   "cell_type": "markdown",
   "metadata": {
    "id": "Z1xP-EgDREQy"
   },
   "source": [
    "From the above skew and graphs, we can see that 'capital-loss' and 'capital-gain' features are highly skewed and so let us try to apply log transformation for these two variables such that they do not negatively affect the classification results."
   ]
  },
  {
   "cell_type": "markdown",
   "metadata": {
    "id": "IC51hx8uREQy"
   },
   "source": [
    "##### Log-transform highly skewed features"
   ]
  },
  {
   "cell_type": "code",
   "execution_count": 102,
   "metadata": {
    "id": "7uWdq1jEREQy"
   },
   "outputs": [],
   "source": [
    "# Log-transform the skewed features\n",
    "skewed = ['capital-gain', 'capital-loss']\n",
    "features_log_transformed = pd.DataFrame(data = data_trv)\n",
    "features_log_transformed[skewed] = data_trv[skewed].apply(lambda x: np.log(x + 1))"
   ]
  },
  {
   "cell_type": "code",
   "execution_count": 103,
   "metadata": {
    "colab": {
     "base_uri": "https://localhost:8080/"
    },
    "id": "OfB_-iH7REQy",
    "outputId": "5d434acf-470a-4caa-caf5-28f599671687"
   },
   "outputs": [
    {
     "name": "stdout",
     "output_type": "stream",
     "text": [
      "capital-gain skew: 3.0823859202151755\n",
      "capital-loss skew: 4.271194769830899\n"
     ]
    }
   ],
   "source": [
    "# checking the skew after applying log transformation\n",
    "for col in skewed:\n",
    "    print('{} skew: {}'.format(col, features_log_transformed[col].skew()))"
   ]
  },
  {
   "cell_type": "code",
   "execution_count": 104,
   "metadata": {
    "colab": {
     "base_uri": "https://localhost:8080/",
     "height": 494
    },
    "id": "k3qlb7J6REQy",
    "outputId": "145305cf-c53d-48c9-ae9a-b09528733bf0"
   },
   "outputs": [
    {
     "data": {
      "image/png": "[encoded data removed]",
      "text/plain": [
       "<Figure size 1100x500 with 2 Axes>"
      ]
     },
     "metadata": {},
     "output_type": "display_data"
    }
   ],
   "source": [
    "# Displaying the distributions after log-transform\n",
    "sns.set()\n",
    "fig = plt.figure(figsize=(11,5))\n",
    "fig.suptitle(\"Log-transformed Distributions of Continuous Census Data Features\", fontsize=16)\n",
    "\n",
    "for i, feature in enumerate(skewed):\n",
    "    ax = fig.add_subplot(1, 2, i+1)\n",
    "    ax.hist(features_log_transformed[feature], bins=25)\n",
    "    ax.set_title(\"{} Feature Distribution\".format(feature), fontsize=14)\n",
    "    ax.set_xlabel(\"Value\")\n",
    "    ax.set_ylabel(\"Number of Records\")\n",
    "    ax.set_ylim((0,2000))\n",
    "    ax.set_yticks([0, 500, 1000, 1500, 2000])\n",
    "    ax.set_yticklabels([0, 500, 1000, 1500, \">2000\"])"
   ]
  },
  {
   "cell_type": "markdown",
   "metadata": {
    "id": "DFfU_3lcREQy"
   },
   "source": [
    "##### Splitting train and validation data"
   ]
  },
  {
   "cell_type": "code",
   "execution_count": 105,
   "metadata": {
    "id": "i6dpK1AwREQz"
   },
   "outputs": [],
   "source": [
    "# Separating the training data\n",
    "data_train = data_trv.iloc[:data_train.shape[0], :]\n",
    "\n",
    "# Separating the validation data\n",
    "data_val = data_trv.iloc[data_train.shape[0]:data_train.shape[0] + data_val.shape[0], :]"
   ]
  },
  {
   "cell_type": "code",
   "execution_count": 106,
   "metadata": {
    "colab": {
     "base_uri": "https://localhost:8080/",
     "height": 100
    },
    "id": "aVjaejlRREQz",
    "outputId": "5072728d-4d49-41d3-aa56-512b082cf92b"
   },
   "outputs": [
    {
     "data": {
      "text/html": [
       "<div>\n",
       "<style scoped>\n",
       "    .dataframe tbody tr th:only-of-type {\n",
       "        vertical-align: middle;\n",
       "    }\n",
       "\n",
       "    .dataframe tbody tr th {\n",
       "        vertical-align: top;\n",
       "    }\n",
       "\n",
       "    .dataframe thead th {\n",
       "        text-align: right;\n",
       "    }\n",
       "</style>\n",
       "<table border=\"1\" class=\"dataframe\">\n",
       "  <thead>\n",
       "    <tr style=\"text-align: right;\">\n",
       "      <th></th>\n",
       "      <th># rows</th>\n",
       "      <th># columns</th>\n",
       "    </tr>\n",
       "  </thead>\n",
       "  <tbody>\n",
       "    <tr>\n",
       "      <th>0</th>\n",
       "      <td>36177</td>\n",
       "      <td>14</td>\n",
       "    </tr>\n",
       "  </tbody>\n",
       "</table>\n",
       "</div>"
      ],
      "text/plain": [
       "   # rows  # columns\n",
       "0   36177         14"
      ]
     },
     "execution_count": 106,
     "metadata": {},
     "output_type": "execute_result"
    }
   ],
   "source": [
    "# Print the dimension of data_train\n",
    "pd.DataFrame([[data_train.shape[0], data_train.shape[1]]], columns=['# rows', '# columns'])"
   ]
  },
  {
   "cell_type": "code",
   "execution_count": 107,
   "metadata": {
    "colab": {
     "base_uri": "https://localhost:8080/",
     "height": 100
    },
    "id": "m3hWWTsbREQz",
    "outputId": "ccaeed4e-5246-457a-d83c-cf66da08c11a"
   },
   "outputs": [
    {
     "data": {
      "text/html": [
       "<div>\n",
       "<style scoped>\n",
       "    .dataframe tbody tr th:only-of-type {\n",
       "        vertical-align: middle;\n",
       "    }\n",
       "\n",
       "    .dataframe tbody tr th {\n",
       "        vertical-align: top;\n",
       "    }\n",
       "\n",
       "    .dataframe thead th {\n",
       "        text-align: right;\n",
       "    }\n",
       "</style>\n",
       "<table border=\"1\" class=\"dataframe\">\n",
       "  <thead>\n",
       "    <tr style=\"text-align: right;\">\n",
       "      <th></th>\n",
       "      <th># rows</th>\n",
       "      <th># columns</th>\n",
       "    </tr>\n",
       "  </thead>\n",
       "  <tbody>\n",
       "    <tr>\n",
       "      <th>0</th>\n",
       "      <td>9045</td>\n",
       "      <td>14</td>\n",
       "    </tr>\n",
       "  </tbody>\n",
       "</table>\n",
       "</div>"
      ],
      "text/plain": [
       "   # rows  # columns\n",
       "0    9045         14"
      ]
     },
     "execution_count": 107,
     "metadata": {},
     "output_type": "execute_result"
    }
   ],
   "source": [
    "# Print the dimension of data_val\n",
    "pd.DataFrame([[data_val.shape[0], data_val.shape[1]]], columns=['# rows', '# columns'])"
   ]
  },
  {
   "cell_type": "markdown",
   "metadata": {
    "id": "2dTXWyWgpc2I"
   },
   "source": [
    "The data is now splitted back to training and validation data of 36,177 rows * 14 columns and 9,045 rows * 14 columns respectively."
   ]
  },
  {
   "cell_type": "markdown",
   "metadata": {
    "id": "V9Vz4H5LREQz"
   },
   "source": [
    "##### Imputing the null values"
   ]
  },
  {
   "cell_type": "code",
   "execution_count": 108,
   "metadata": {
    "colab": {
     "base_uri": "https://localhost:8080/"
    },
    "id": "UttXUDrBREQz",
    "outputId": "cafa498e-aad0-42b5-ca92-4c59d6a74dc5"
   },
   "outputs": [
    {
     "name": "stdout",
     "output_type": "stream",
     "text": [
      "Continuous data columns: ['age', 'education-num', 'capital-gain', 'capital-loss', 'hours-per-week']\n",
      "----\n",
      "Skewed data columns: ['capital-gain', 'capital-loss']\n",
      "----\n",
      "Categorical data columns: ['native-country', 'education_level', 'occupation', 'workclass', 'marital-status', 'relationship', 'race', 'sex', 'income']\n",
      "----\n",
      "Categorical without target data columns: ['native-country', 'education_level', 'occupation', 'workclass', 'marital-status', 'relationship', 'race', 'sex']\n",
      "----\n",
      "Continuous but not skewed data columns: ['hours-per-week', 'education-num', 'age']\n"
     ]
    }
   ],
   "source": [
    "print(f'Continuous data columns: {continuous}')\n",
    "print(\"----\")\n",
    "print(f'Skewed data columns: {skewed}')\n",
    "print(\"----\")\n",
    "print(f'Categorical data columns: {categorical}')\n",
    "print(\"----\")\n",
    "cat_nottarget = [item for item in categorical if item != target]\n",
    "print(f'Categorical without target data columns: {cat_nottarget}')\n",
    "print(\"----\")\n",
    "cont_notskewed = list(set(continuous) - set(skewed))\n",
    "print(f'Continuous but not skewed data columns: {cont_notskewed}')\n"
   ]
  },
  {
   "cell_type": "code",
   "execution_count": 109,
   "metadata": {
    "id": "qtuGaM_3REQz"
   },
   "outputs": [],
   "source": [
    "from sklearn.impute import SimpleImputer\n",
    "\n",
    "# for imputing missing values with mean for continuous features except skewed data columns\n",
    "mean_imputer = SimpleImputer(strategy='mean')\n",
    "\n",
    "# for imputing missing values with median for skewed features\n",
    "median_imputer = SimpleImputer(strategy='median')\n",
    "\n",
    "# for imputing missing values with mode for categorical features\n",
    "most_frequent_imputer = SimpleImputer(strategy='most_frequent')\n",
    "\n",
    "data_test[cont_notskewed] = mean_imputer.fit_transform(data_test[cont_notskewed])\n",
    "data_test[skewed] = median_imputer.fit_transform(data_test[skewed])\n",
    "data_test[cat_nottarget] = most_frequent_imputer.fit_transform(data_test[cat_nottarget])"
   ]
  },
  {
   "cell_type": "markdown",
   "metadata": {
    "id": "ii8EjFZipc2I"
   },
   "source": [
    "Based on the distribution of data, null values for continuous non-skewed features are imputed with mean, skewed features with the median, and categorical features with the most frequent value."
   ]
  },
  {
   "cell_type": "markdown",
   "metadata": {
    "id": "dPXfsgBhREQz"
   },
   "source": [
    "### Scaling the data"
   ]
  },
  {
   "cell_type": "markdown",
   "metadata": {
    "id": "NZxjjZmuyZuI"
   },
   "source": [
    "Since the numeric variables contain data of various ranges, we scaled it using Min Max Scaler"
   ]
  },
  {
   "cell_type": "markdown",
   "metadata": {
    "id": "JszBzjJBREQz"
   },
   "source": [
    "#### Standardization\n"
   ]
  },
  {
   "cell_type": "code",
   "execution_count": 110,
   "metadata": {
    "id": "Fmv2Vz3ZREQz"
   },
   "outputs": [],
   "source": [
    "# Importing Min Max Scaler from sklearn.preprocessing\n",
    "from sklearn.preprocessing import MinMaxScaler\n",
    "\n",
    "# Initialize a scaler, then apply it to the features\n",
    "scaler = MinMaxScaler()\n",
    "\n",
    "# Standardize the training data\n",
    "data_train[continuous] = scaler.fit_transform(data_train[continuous])\n",
    "\n",
    "# Standardize the validation data\n",
    "data_val[continuous] = scaler.fit_transform(data_val[continuous])\n",
    "\n",
    "# Standardize the test data\n",
    "data_test[continuous] = scaler.fit_transform(data_test[continuous])"
   ]
  },
  {
   "cell_type": "markdown",
   "metadata": {
    "id": "c46eD62mREQz"
   },
   "source": [
    "### Encoding the data"
   ]
  },
  {
   "cell_type": "markdown",
   "metadata": {
    "id": "kztiqFIpzBXd"
   },
   "source": [
    "In this step, we encoded the categorical data and target as well."
   ]
  },
  {
   "cell_type": "markdown",
   "metadata": {
    "id": "tPUW6xB-REQz"
   },
   "source": [
    "#### Combining the training, validation and test data"
   ]
  },
  {
   "cell_type": "code",
   "execution_count": 111,
   "metadata": {
    "colab": {
     "base_uri": "https://localhost:8080/",
     "height": 132
    },
    "id": "WmUK6fpjREQz",
    "outputId": "298350c2-60a6-4241-fba0-37415cb9349f"
   },
   "outputs": [
    {
     "data": {
      "text/html": [
       "<div>\n",
       "<style scoped>\n",
       "    .dataframe tbody tr th:only-of-type {\n",
       "        vertical-align: middle;\n",
       "    }\n",
       "\n",
       "    .dataframe tbody tr th {\n",
       "        vertical-align: top;\n",
       "    }\n",
       "\n",
       "    .dataframe thead th {\n",
       "        text-align: right;\n",
       "    }\n",
       "</style>\n",
       "<table border=\"1\" class=\"dataframe\">\n",
       "  <thead>\n",
       "    <tr style=\"text-align: right;\">\n",
       "      <th></th>\n",
       "      <th>dtype</th>\n",
       "    </tr>\n",
       "  </thead>\n",
       "  <tbody>\n",
       "    <tr>\n",
       "      <th>0</th>\n",
       "      <td>float64</td>\n",
       "    </tr>\n",
       "    <tr>\n",
       "      <th>1</th>\n",
       "      <td>object</td>\n",
       "    </tr>\n",
       "  </tbody>\n",
       "</table>\n",
       "</div>"
      ],
      "text/plain": [
       "     dtype\n",
       "0  float64\n",
       "1   object"
      ]
     },
     "execution_count": 111,
     "metadata": {},
     "output_type": "execute_result"
    }
   ],
   "source": [
    "# Combine data_train, data_val and data_test\n",
    "data = pd.concat([data_train, data_val, data_test], sort=False)\n",
    "\n",
    "# Print the unique data type of variables in df\n",
    "pd.DataFrame(data.dtypes.unique(), columns=['dtype'])"
   ]
  },
  {
   "cell_type": "markdown",
   "metadata": {
    "id": "x4Kr2wYvREQz"
   },
   "source": [
    "#### Identifying categorical variables\n",
    "\n",
    "Since we already found this in above step, just printing the categorical variables here."
   ]
  },
  {
   "cell_type": "code",
   "execution_count": 112,
   "metadata": {
    "colab": {
     "base_uri": "https://localhost:8080/",
     "height": 351
    },
    "id": "Tf5sXoWrREQ0",
    "outputId": "e5fb45f8-0bc7-4d42-e0ea-ca2b8b9f2b99"
   },
   "outputs": [
    {
     "data": {
      "text/html": [
       "<div>\n",
       "<style scoped>\n",
       "    .dataframe tbody tr th:only-of-type {\n",
       "        vertical-align: middle;\n",
       "    }\n",
       "\n",
       "    .dataframe tbody tr th {\n",
       "        vertical-align: top;\n",
       "    }\n",
       "\n",
       "    .dataframe thead th {\n",
       "        text-align: right;\n",
       "    }\n",
       "</style>\n",
       "<table border=\"1\" class=\"dataframe\">\n",
       "  <thead>\n",
       "    <tr style=\"text-align: right;\">\n",
       "      <th></th>\n",
       "      <th>var</th>\n",
       "      <th>nunique</th>\n",
       "    </tr>\n",
       "  </thead>\n",
       "  <tbody>\n",
       "    <tr>\n",
       "      <th>0</th>\n",
       "      <td>native-country</td>\n",
       "      <td>41</td>\n",
       "    </tr>\n",
       "    <tr>\n",
       "      <th>1</th>\n",
       "      <td>education_level</td>\n",
       "      <td>16</td>\n",
       "    </tr>\n",
       "    <tr>\n",
       "      <th>2</th>\n",
       "      <td>occupation</td>\n",
       "      <td>14</td>\n",
       "    </tr>\n",
       "    <tr>\n",
       "      <th>3</th>\n",
       "      <td>workclass</td>\n",
       "      <td>7</td>\n",
       "    </tr>\n",
       "    <tr>\n",
       "      <th>4</th>\n",
       "      <td>marital-status</td>\n",
       "      <td>7</td>\n",
       "    </tr>\n",
       "    <tr>\n",
       "      <th>5</th>\n",
       "      <td>relationship</td>\n",
       "      <td>6</td>\n",
       "    </tr>\n",
       "    <tr>\n",
       "      <th>6</th>\n",
       "      <td>race</td>\n",
       "      <td>5</td>\n",
       "    </tr>\n",
       "    <tr>\n",
       "      <th>7</th>\n",
       "      <td>sex</td>\n",
       "      <td>2</td>\n",
       "    </tr>\n",
       "    <tr>\n",
       "      <th>8</th>\n",
       "      <td>income</td>\n",
       "      <td>2</td>\n",
       "    </tr>\n",
       "  </tbody>\n",
       "</table>\n",
       "</div>"
      ],
      "text/plain": [
       "               var  nunique\n",
       "0   native-country       41\n",
       "1  education_level       16\n",
       "2       occupation       14\n",
       "3        workclass        7\n",
       "4   marital-status        7\n",
       "5     relationship        6\n",
       "6             race        5\n",
       "7              sex        2\n",
       "8           income        2"
      ]
     },
     "execution_count": 112,
     "metadata": {},
     "output_type": "execute_result"
    }
   ],
   "source": [
    "# categorical variables are already identified in above step\n",
    "data_cat"
   ]
  },
  {
   "cell_type": "markdown",
   "metadata": {
    "id": "1AD-GHckREQ0"
   },
   "source": [
    "#### Encoding categorical features\n",
    "\n",
    "Using One hot enconding for categorical features"
   ]
  },
  {
   "cell_type": "code",
   "execution_count": 113,
   "metadata": {
    "colab": {
     "base_uri": "https://localhost:8080/",
     "height": 307
    },
    "id": "2UO4HxL8REQ0",
    "outputId": "8775d8cb-627b-471c-ecf3-7691a74baede"
   },
   "outputs": [
    {
     "data": {
      "text/html": [
       "<div>\n",
       "<style scoped>\n",
       "    .dataframe tbody tr th:only-of-type {\n",
       "        vertical-align: middle;\n",
       "    }\n",
       "\n",
       "    .dataframe tbody tr th {\n",
       "        vertical-align: top;\n",
       "    }\n",
       "\n",
       "    .dataframe thead th {\n",
       "        text-align: right;\n",
       "    }\n",
       "</style>\n",
       "<table border=\"1\" class=\"dataframe\">\n",
       "  <thead>\n",
       "    <tr style=\"text-align: right;\">\n",
       "      <th></th>\n",
       "      <th>age</th>\n",
       "      <th>education-num</th>\n",
       "      <th>capital-gain</th>\n",
       "      <th>capital-loss</th>\n",
       "      <th>hours-per-week</th>\n",
       "      <th>income</th>\n",
       "      <th>native-country_ Cambodia</th>\n",
       "      <th>native-country_ Canada</th>\n",
       "      <th>native-country_ China</th>\n",
       "      <th>native-country_ Columbia</th>\n",
       "      <th>...</th>\n",
       "      <th>relationship_ Own-child</th>\n",
       "      <th>relationship_ Unmarried</th>\n",
       "      <th>relationship_ Wife</th>\n",
       "      <th>race_ Amer-Indian-Eskimo</th>\n",
       "      <th>race_ Asian-Pac-Islander</th>\n",
       "      <th>race_ Black</th>\n",
       "      <th>race_ Other</th>\n",
       "      <th>race_ White</th>\n",
       "      <th>sex_ Female</th>\n",
       "      <th>sex_ Male</th>\n",
       "    </tr>\n",
       "  </thead>\n",
       "  <tbody>\n",
       "    <tr>\n",
       "      <th>0</th>\n",
       "      <td>0.205479</td>\n",
       "      <td>0.800000</td>\n",
       "      <td>0.0</td>\n",
       "      <td>0.0</td>\n",
       "      <td>0.397959</td>\n",
       "      <td>&lt;=50K</td>\n",
       "      <td>False</td>\n",
       "      <td>False</td>\n",
       "      <td>False</td>\n",
       "      <td>False</td>\n",
       "      <td>...</td>\n",
       "      <td>False</td>\n",
       "      <td>False</td>\n",
       "      <td>False</td>\n",
       "      <td>False</td>\n",
       "      <td>False</td>\n",
       "      <td>False</td>\n",
       "      <td>False</td>\n",
       "      <td>True</td>\n",
       "      <td>True</td>\n",
       "      <td>False</td>\n",
       "    </tr>\n",
       "    <tr>\n",
       "      <th>1</th>\n",
       "      <td>0.383562</td>\n",
       "      <td>0.733333</td>\n",
       "      <td>0.0</td>\n",
       "      <td>0.0</td>\n",
       "      <td>0.663265</td>\n",
       "      <td>&lt;=50K</td>\n",
       "      <td>False</td>\n",
       "      <td>False</td>\n",
       "      <td>False</td>\n",
       "      <td>False</td>\n",
       "      <td>...</td>\n",
       "      <td>False</td>\n",
       "      <td>False</td>\n",
       "      <td>False</td>\n",
       "      <td>False</td>\n",
       "      <td>False</td>\n",
       "      <td>False</td>\n",
       "      <td>False</td>\n",
       "      <td>True</td>\n",
       "      <td>False</td>\n",
       "      <td>True</td>\n",
       "    </tr>\n",
       "    <tr>\n",
       "      <th>2</th>\n",
       "      <td>0.383562</td>\n",
       "      <td>0.400000</td>\n",
       "      <td>0.0</td>\n",
       "      <td>0.0</td>\n",
       "      <td>0.500000</td>\n",
       "      <td>&lt;=50K</td>\n",
       "      <td>False</td>\n",
       "      <td>False</td>\n",
       "      <td>False</td>\n",
       "      <td>False</td>\n",
       "      <td>...</td>\n",
       "      <td>False</td>\n",
       "      <td>False</td>\n",
       "      <td>False</td>\n",
       "      <td>False</td>\n",
       "      <td>False</td>\n",
       "      <td>False</td>\n",
       "      <td>False</td>\n",
       "      <td>True</td>\n",
       "      <td>False</td>\n",
       "      <td>True</td>\n",
       "    </tr>\n",
       "    <tr>\n",
       "      <th>3</th>\n",
       "      <td>0.301370</td>\n",
       "      <td>0.533333</td>\n",
       "      <td>0.0</td>\n",
       "      <td>0.0</td>\n",
       "      <td>0.704082</td>\n",
       "      <td>&lt;=50K</td>\n",
       "      <td>False</td>\n",
       "      <td>False</td>\n",
       "      <td>False</td>\n",
       "      <td>False</td>\n",
       "      <td>...</td>\n",
       "      <td>False</td>\n",
       "      <td>False</td>\n",
       "      <td>False</td>\n",
       "      <td>False</td>\n",
       "      <td>False</td>\n",
       "      <td>False</td>\n",
       "      <td>False</td>\n",
       "      <td>True</td>\n",
       "      <td>False</td>\n",
       "      <td>True</td>\n",
       "    </tr>\n",
       "    <tr>\n",
       "      <th>4</th>\n",
       "      <td>0.465753</td>\n",
       "      <td>0.533333</td>\n",
       "      <td>0.0</td>\n",
       "      <td>0.0</td>\n",
       "      <td>0.377551</td>\n",
       "      <td>&lt;=50K</td>\n",
       "      <td>False</td>\n",
       "      <td>False</td>\n",
       "      <td>False</td>\n",
       "      <td>False</td>\n",
       "      <td>...</td>\n",
       "      <td>False</td>\n",
       "      <td>False</td>\n",
       "      <td>False</td>\n",
       "      <td>False</td>\n",
       "      <td>False</td>\n",
       "      <td>False</td>\n",
       "      <td>False</td>\n",
       "      <td>True</td>\n",
       "      <td>True</td>\n",
       "      <td>False</td>\n",
       "    </tr>\n",
       "  </tbody>\n",
       "</table>\n",
       "<p>5 rows × 104 columns</p>\n",
       "</div>"
      ],
      "text/plain": [
       "        age  education-num  capital-gain  capital-loss  hours-per-week income  \\\n",
       "0  0.205479       0.800000           0.0           0.0        0.397959  <=50K   \n",
       "1  0.383562       0.733333           0.0           0.0        0.663265  <=50K   \n",
       "2  0.383562       0.400000           0.0           0.0        0.500000  <=50K   \n",
       "3  0.301370       0.533333           0.0           0.0        0.704082  <=50K   \n",
       "4  0.465753       0.533333           0.0           0.0        0.377551  <=50K   \n",
       "\n",
       "   native-country_ Cambodia  native-country_ Canada  native-country_ China  \\\n",
       "0                     False                   False                  False   \n",
       "1                     False                   False                  False   \n",
       "2                     False                   False                  False   \n",
       "3                     False                   False                  False   \n",
       "4                     False                   False                  False   \n",
       "\n",
       "   native-country_ Columbia  ...  relationship_ Own-child  \\\n",
       "0                     False  ...                    False   \n",
       "1                     False  ...                    False   \n",
       "2                     False  ...                    False   \n",
       "3                     False  ...                    False   \n",
       "4                     False  ...                    False   \n",
       "\n",
       "   relationship_ Unmarried  relationship_ Wife  race_ Amer-Indian-Eskimo  \\\n",
       "0                    False               False                     False   \n",
       "1                    False               False                     False   \n",
       "2                    False               False                     False   \n",
       "3                    False               False                     False   \n",
       "4                    False               False                     False   \n",
       "\n",
       "   race_ Asian-Pac-Islander  race_ Black  race_ Other  race_ White  \\\n",
       "0                     False        False        False         True   \n",
       "1                     False        False        False         True   \n",
       "2                     False        False        False         True   \n",
       "3                     False        False        False         True   \n",
       "4                     False        False        False         True   \n",
       "\n",
       "   sex_ Female  sex_ Male  \n",
       "0         True      False  \n",
       "1        False       True  \n",
       "2        False       True  \n",
       "3        False       True  \n",
       "4         True      False  \n",
       "\n",
       "[5 rows x 104 columns]"
      ]
     },
     "execution_count": 113,
     "metadata": {},
     "output_type": "execute_result"
    }
   ],
   "source": [
    "# One-hot-encode the categorical features in the combined data\n",
    "data = pd.get_dummies(data, columns= cat_nottarget)\n",
    "# Print the first 5 rows of df\n",
    "data.head()"
   ]
  },
  {
   "cell_type": "markdown",
   "metadata": {
    "id": "dqXeLeW9REQ0"
   },
   "source": [
    "#### Encoding categorical target\n",
    "\n",
    "We tried to encode target using inbuilt encoding techniques but based on the features of the dataset, the target variable was somehow encoded into 3 or more classes which is not desired in our case, hence we proceeded with manual encoding of target. We encoded the categorical target with \"0\" for income less than or equal to 50k and \"1\" for income more than 50k."
   ]
  },
  {
   "cell_type": "code",
   "execution_count": 114,
   "metadata": {
    "id": "gAZP4Dr_REQ0"
   },
   "outputs": [],
   "source": [
    "data['income'] = data['income'].map({\"<=50K\":0, \">50K\":1})"
   ]
  },
  {
   "cell_type": "code",
   "execution_count": 115,
   "metadata": {
    "colab": {
     "base_uri": "https://localhost:8080/"
    },
    "id": "QwbMZKtYREQ0",
    "outputId": "5ac82119-71cb-4ce8-f9b0-9db87e3da19f"
   },
   "outputs": [
    {
     "data": {
      "text/plain": [
       "array([ 0.,  1., nan])"
      ]
     },
     "execution_count": 115,
     "metadata": {},
     "output_type": "execute_result"
    }
   ],
   "source": [
    "data['income'].unique()"
   ]
  },
  {
   "cell_type": "markdown",
   "metadata": {
    "id": "5o8RQa5LREQ0"
   },
   "source": [
    "After encoding, the unique values in the income column are 0, 1, and NaN, with the NaN representing missing income data in the test set, this is an expected outcome."
   ]
  },
  {
   "cell_type": "markdown",
   "metadata": {
    "id": "Q_QLXwoeREQ0"
   },
   "source": [
    "#### Separating the training, validation and test data\n",
    "Let us now separate the training, validation and test data back."
   ]
  },
  {
   "cell_type": "code",
   "execution_count": 116,
   "metadata": {
    "id": "_NO7o8eSREQ0"
   },
   "outputs": [],
   "source": [
    "# Separating the training data\n",
    "data_train = data.iloc[:data_train.shape[0], :]\n",
    "\n",
    "# Separating the validation data\n",
    "data_val = data.iloc[data_train.shape[0]:data_train.shape[0] + data_val.shape[0], :]\n",
    "\n",
    "# Separating the test data\n",
    "data_test = data.iloc[data_train.shape[0] + data_val.shape[0]:, :]"
   ]
  },
  {
   "cell_type": "code",
   "execution_count": 117,
   "metadata": {
    "colab": {
     "base_uri": "https://localhost:8080/",
     "height": 100
    },
    "id": "bZdIzqqMREQ0",
    "outputId": "c3ec8e2a-986b-4fc9-865a-2a1e005c9c53"
   },
   "outputs": [
    {
     "data": {
      "text/html": [
       "<div>\n",
       "<style scoped>\n",
       "    .dataframe tbody tr th:only-of-type {\n",
       "        vertical-align: middle;\n",
       "    }\n",
       "\n",
       "    .dataframe tbody tr th {\n",
       "        vertical-align: top;\n",
       "    }\n",
       "\n",
       "    .dataframe thead th {\n",
       "        text-align: right;\n",
       "    }\n",
       "</style>\n",
       "<table border=\"1\" class=\"dataframe\">\n",
       "  <thead>\n",
       "    <tr style=\"text-align: right;\">\n",
       "      <th></th>\n",
       "      <th># rows</th>\n",
       "      <th># columns</th>\n",
       "    </tr>\n",
       "  </thead>\n",
       "  <tbody>\n",
       "    <tr>\n",
       "      <th>0</th>\n",
       "      <td>36177</td>\n",
       "      <td>104</td>\n",
       "    </tr>\n",
       "  </tbody>\n",
       "</table>\n",
       "</div>"
      ],
      "text/plain": [
       "   # rows  # columns\n",
       "0   36177        104"
      ]
     },
     "execution_count": 117,
     "metadata": {},
     "output_type": "execute_result"
    }
   ],
   "source": [
    "# Print the dimension of data_train\n",
    "pd.DataFrame([[data_train.shape[0], data_train.shape[1]]], columns=['# rows', '# columns'])"
   ]
  },
  {
   "cell_type": "code",
   "execution_count": 118,
   "metadata": {
    "colab": {
     "base_uri": "https://localhost:8080/",
     "height": 100
    },
    "id": "DSRBTvpNREQ0",
    "outputId": "7662a3e1-9d45-46aa-be85-7caa9bd18667"
   },
   "outputs": [
    {
     "data": {
      "text/html": [
       "<div>\n",
       "<style scoped>\n",
       "    .dataframe tbody tr th:only-of-type {\n",
       "        vertical-align: middle;\n",
       "    }\n",
       "\n",
       "    .dataframe tbody tr th {\n",
       "        vertical-align: top;\n",
       "    }\n",
       "\n",
       "    .dataframe thead th {\n",
       "        text-align: right;\n",
       "    }\n",
       "</style>\n",
       "<table border=\"1\" class=\"dataframe\">\n",
       "  <thead>\n",
       "    <tr style=\"text-align: right;\">\n",
       "      <th></th>\n",
       "      <th># rows</th>\n",
       "      <th># columns</th>\n",
       "    </tr>\n",
       "  </thead>\n",
       "  <tbody>\n",
       "    <tr>\n",
       "      <th>0</th>\n",
       "      <td>9045</td>\n",
       "      <td>104</td>\n",
       "    </tr>\n",
       "  </tbody>\n",
       "</table>\n",
       "</div>"
      ],
      "text/plain": [
       "   # rows  # columns\n",
       "0    9045        104"
      ]
     },
     "execution_count": 118,
     "metadata": {},
     "output_type": "execute_result"
    }
   ],
   "source": [
    "# Print the dimension of data_val\n",
    "pd.DataFrame([[data_val.shape[0], data_val.shape[1]]], columns=['# rows', '# columns'])"
   ]
  },
  {
   "cell_type": "code",
   "execution_count": 119,
   "metadata": {
    "colab": {
     "base_uri": "https://localhost:8080/",
     "height": 100
    },
    "id": "yAjCWRaBREQ0",
    "outputId": "8c44f1c4-98fb-4410-c02d-032be4243bdb"
   },
   "outputs": [
    {
     "data": {
      "text/html": [
       "<div>\n",
       "<style scoped>\n",
       "    .dataframe tbody tr th:only-of-type {\n",
       "        vertical-align: middle;\n",
       "    }\n",
       "\n",
       "    .dataframe tbody tr th {\n",
       "        vertical-align: top;\n",
       "    }\n",
       "\n",
       "    .dataframe thead th {\n",
       "        text-align: right;\n",
       "    }\n",
       "</style>\n",
       "<table border=\"1\" class=\"dataframe\">\n",
       "  <thead>\n",
       "    <tr style=\"text-align: right;\">\n",
       "      <th></th>\n",
       "      <th># rows</th>\n",
       "      <th># columns</th>\n",
       "    </tr>\n",
       "  </thead>\n",
       "  <tbody>\n",
       "    <tr>\n",
       "      <th>0</th>\n",
       "      <td>45222</td>\n",
       "      <td>104</td>\n",
       "    </tr>\n",
       "  </tbody>\n",
       "</table>\n",
       "</div>"
      ],
      "text/plain": [
       "   # rows  # columns\n",
       "0   45222        104"
      ]
     },
     "execution_count": 119,
     "metadata": {},
     "output_type": "execute_result"
    }
   ],
   "source": [
    "# Print the dimension of data_test\n",
    "pd.DataFrame([[data_test.shape[0], data_test.shape[1]]], columns=['# rows', '# columns'])"
   ]
  },
  {
   "cell_type": "markdown",
   "metadata": {
    "id": "F5kQl1PNREQ0"
   },
   "source": [
    "### Splitting the feature and target\n",
    "\n",
    "The data is now split into feature and target before proceeding to modelling stage."
   ]
  },
  {
   "cell_type": "code",
   "execution_count": 120,
   "metadata": {
    "id": "rSgye9_vREQ0"
   },
   "outputs": [],
   "source": [
    "# Get the feature matrix\n",
    "X_train = data_train[np.setdiff1d(data_train.columns, [target])].values\n",
    "X_val = data_val[np.setdiff1d(data_val.columns, [target])].values\n",
    "X_test = data_test[np.setdiff1d(data_test.columns, [target])].values\n",
    "\n",
    "# Get the target vector\n",
    "y_train = data_train[target].values\n",
    "y_val = data_val[target].values\n",
    "y_test = data_test[target].values"
   ]
  },
  {
   "cell_type": "code",
   "execution_count": 121,
   "metadata": {
    "colab": {
     "base_uri": "https://localhost:8080/"
    },
    "id": "pKFAYSSbREQ0",
    "outputId": "e751a082-b809-42c8-e7c6-8e98261c866a"
   },
   "outputs": [
    {
     "data": {
      "text/plain": [
       "array([nan])"
      ]
     },
     "execution_count": 121,
     "metadata": {},
     "output_type": "execute_result"
    }
   ],
   "source": [
    "data_test['income'].unique()"
   ]
  },
  {
   "cell_type": "markdown",
   "metadata": {
    "id": "snCvJehVpc2K"
   },
   "source": [
    "\n",
    "The dataset is now split into features (X_train, X_val, X_test) and target (y_train, y_val, y_test) by excluding the target column from the feature matrix. The income column in the data_test contains only nan, indicating missing target values in the test data."
   ]
  },
  {
   "cell_type": "markdown",
   "metadata": {
    "id": "o4eJC20aREQ1"
   },
   "source": [
    "### Class Imbalance"
   ]
  },
  {
   "cell_type": "code",
   "execution_count": 122,
   "metadata": {
    "colab": {
     "base_uri": "https://localhost:8080/",
     "height": 167
    },
    "id": "ZBEj4Z50REQ1",
    "outputId": "4f0d280b-4284-46cc-c515-90440f7c4773"
   },
   "outputs": [
    {
     "data": {
      "text/plain": [
       "0.0    27269\n",
       "1.0     8908\n",
       "Name: count, dtype: int64"
      ]
     },
     "execution_count": 122,
     "metadata": {},
     "output_type": "execute_result"
    }
   ],
   "source": [
    "pd.Series(y_train).value_counts()"
   ]
  },
  {
   "cell_type": "markdown",
   "metadata": {
    "id": "xsZB2m7pREQ1"
   },
   "source": [
    "- Class 0 and 1 are in 3:1 ratio, which is not a severe class imbalance.\n",
    "- Additionally, the for using techniques like SMOTE, we need to use a different library called imbalanced-learn which is not covered in class.\n",
    "- Hence, we proceeded with the modelling without any class imbalance handling techniques."
   ]
  },
  {
   "cell_type": "markdown",
   "metadata": {
    "id": "dgrjjkaKREQ1"
   },
   "source": [
    "## Hyperparameter Tuning"
   ]
  },
  {
   "cell_type": "markdown",
   "metadata": {
    "id": "XjamKczU1ShO"
   },
   "source": [
    "In this stage, we decided to follow pipeline method for hyperparameter tuning and modelling as it allows reusability of code and have a maintained flow. We created pipeline of models that we would like to test and then implemented tuning, modeling etc methods on this pipeline.  "
   ]
  },
  {
   "cell_type": "markdown",
   "metadata": {
    "id": "1Gq7QQTLSAeF"
   },
   "source": [
    "### Creating the dictionary of the models"
   ]
  },
  {
   "cell_type": "markdown",
   "metadata": {
    "id": "BH0IePtd5KcG"
   },
   "source": [
    "Since, target is a binary(2 classes) variable, we wanted to check how most common classification models work for this dataset and find out which one works best for this project. Hence, we implemented following classification models:\n",
    "\n",
    "- Gaussian Naive Bayes\n",
    "- KNeighbors Classifier\n",
    "- Logistic Regression Classifer\n",
    "- Decision Tree Classifier\n",
    "- Random Forest Classifier\n",
    "- GradientBoosting Classifier\n",
    "- AdaBoost Classifier"
   ]
  },
  {
   "cell_type": "code",
   "execution_count": 123,
   "metadata": {
    "id": "V_i-WHUdREQ1"
   },
   "outputs": [],
   "source": [
    "# Import the supervised learning models from sklearn\n",
    "from sklearn.naive_bayes import GaussianNB\n",
    "from sklearn.neighbors import KNeighborsClassifier\n",
    "from sklearn.linear_model import LogisticRegression\n",
    "from sklearn.tree import DecisionTreeClassifier\n",
    "from sklearn.ensemble import RandomForestClassifier\n",
    "from sklearn.ensemble import GradientBoostingClassifier\n",
    "from sklearn.ensemble import AdaBoostClassifier\n",
    "\n",
    "models = {'Gaussian Naive Bayes' : GaussianNB(),\n",
    "          'KNeighbors Classifier' : KNeighborsClassifier(),\n",
    "          'Logistic Regression Classifer': LogisticRegression(class_weight='balanced', random_state=random_seed),\n",
    "          'Decision Tree Classifier' : DecisionTreeClassifier(class_weight='balanced', random_state=random_seed),\n",
    "          'Random Forest Classifier': RandomForestClassifier(class_weight='balanced', random_state=random_seed),\n",
    "          'GradientBoosting Classifier' : GradientBoostingClassifier(random_state = random_seed),\n",
    "          'AdaBoost Classifier' : AdaBoostClassifier(random_state = random_seed, learning_rate=0.5, n_estimators=100)\n",
    "          }"
   ]
  },
  {
   "cell_type": "markdown",
   "metadata": {
    "id": "OEXhm-_2Tv3A"
   },
   "source": [
    "### Creating the dictionary of the pipelines"
   ]
  },
  {
   "cell_type": "code",
   "execution_count": 124,
   "metadata": {
    "id": "nziRCylSTwkt"
   },
   "outputs": [],
   "source": [
    "from sklearn.pipeline import Pipeline\n",
    "\n",
    "pipes = {}\n",
    "\n",
    "for acronym, model in models.items():\n",
    "    pipes[acronym] = Pipeline([('model', model)])"
   ]
  },
  {
   "cell_type": "markdown",
   "metadata": {},
   "source": [
    "### Getting the predefined split cross-validator"
   ]
  },
  {
   "cell_type": "code",
   "execution_count": 125,
   "metadata": {},
   "outputs": [],
   "source": [
    "# Get the:\n",
    "# feature matrix and target velctor in the combined training and validation data\n",
    "# target vector in the combined training and validation data\n",
    "# PredefinedSplit\n",
    "# See the implementation in pmlm_utilities.ipynb\n",
    "\n",
    "## utilising function defined in class for predefined split cross-validator\n",
    "\n",
    "from sklearn.model_selection import PredefinedSplit\n",
    "\n",
    "def get_train_val_ps(X_train, y_train, X_val, y_val):\n",
    "    \"\"\"\n",
    "    Get the:\n",
    "    feature matrix and target velctor in the combined training and validation data\n",
    "    target vector in the combined training and validation data\n",
    "    PredefinedSplit\n",
    "\n",
    "    Parameters\n",
    "    ----------\n",
    "    X_train : the feature matrix in the training data\n",
    "    y_train : the target vector in the training data\n",
    "    X_val : the feature matrix in the validation data\n",
    "    y_val : the target vector in the validation data\n",
    "\n",
    "    Return\n",
    "    ----------\n",
    "    The feature matrix in the combined training and validation data\n",
    "    The target vector in the combined training and validation data\n",
    "    PredefinedSplit\n",
    "    \"\"\"\n",
    "\n",
    "    # Combine the feature matrix in the training and validation data\n",
    "    X_train_val = np.vstack((X_train, X_val))\n",
    "\n",
    "    # Combine the target vector in the training and validation data\n",
    "    y_train_val = np.vstack((y_train.reshape(-1, 1), y_val.reshape(-1, 1))).reshape(-1)\n",
    "\n",
    "    # Get the indices of training and validation data\n",
    "    train_val_idxs = np.append(np.full(X_train.shape[0], -1), np.full(X_val.shape[0], 0))\n",
    "\n",
    "    # The PredefinedSplit\n",
    "    ps = PredefinedSplit(train_val_idxs)\n",
    "\n",
    "    return X_train_val, y_train_val, ps\n",
    "\n",
    "\n",
    "# calling the function for obtaining predefined split cross validator\n",
    "X_train_val, y_train_val, ps = get_train_val_ps(X_train, y_train, X_val, y_val)"
   ]
  },
  {
   "cell_type": "markdown",
   "metadata": {
    "id": "mTsBuo1wUJt-"
   },
   "source": [
    "### GridSearchCV"
   ]
  },
  {
   "cell_type": "markdown",
   "metadata": {
    "id": "Zv4mexUlUPOg"
   },
   "source": [
    "#### Creating the dictionary of the parameter grids\n",
    "- In the dictionary:\n",
    "    - the key is the acronym of the model\n",
    "    - the value is the parameter grid of the model"
   ]
  },
  {
   "cell_type": "code",
   "execution_count": 126,
   "metadata": {
    "id": "MZ-ARo4TUI8W"
   },
   "outputs": [],
   "source": [
    "param_grids = {}"
   ]
  },
  {
   "cell_type": "markdown",
   "metadata": {
    "id": "-cBT4f6LKGNo"
   },
   "source": [
    "##### The parameter grid for Gaussian Naive Bayes"
   ]
  },
  {
   "cell_type": "markdown",
   "metadata": {
    "id": "TzC0OrXh6d-U"
   },
   "source": [
    "The hyper parameter we want to finetune here are:\n",
    "\n",
    "- var_smoothing: Portion of the largest variance of all features that is added to variances for calculation stability.\n",
    "  \n",
    "*Why we chose this hyperparameter*: This helps prevent division by very small numbers when calculating probabilities, which can lead to numerical instability."
   ]
  },
  {
   "cell_type": "code",
   "execution_count": 127,
   "metadata": {
    "id": "tXkI4hNJK-Fv"
   },
   "outputs": [],
   "source": [
    "# The parameter grid for var_smoothing\n",
    "var_smoothing_gnbc = np.logspace(-12, -6, num=7)\n",
    "\n",
    "# Update param_grids\n",
    "param_grids['Gaussian Naive Bayes'] = [{'model__var_smoothing' : var_smoothing_gnbc}]"
   ]
  },
  {
   "cell_type": "markdown",
   "metadata": {
    "id": "WnPk2GoAUVQh"
   },
   "source": [
    "##### The parameter grid for LogisticRegression\n",
    "The hyperparameters we want to fine-tune are:\n",
    "\n",
    "- tol: Tolerance for stopping criteria\n",
    "- C: Inverse of regularization strength\n",
    "\n",
    "*Why we chose these hyperparameters*: The tolerance parameter helps the algorithm stop when the loss function converges, while the regularization strength parameter helps prevent overfitting by penalizing large coefficients."
   ]
  },
  {
   "cell_type": "code",
   "execution_count": 128,
   "metadata": {
    "id": "5ZtyuF6NUWO2"
   },
   "outputs": [],
   "source": [
    "# The parameter grid for tol\n",
    "tol_lr = [10 ** -6, 10 ** -5, 10 ** -4]\n",
    "\n",
    "# The parameter grid for C\n",
    "C_lr = [8, 10, 13, 15]\n",
    "\n",
    "# Update param_grids\n",
    "param_grids['Logistic Regression Classifer'] = [{'model__tol': tol_lr,\n",
    "                      'model__C': C_lr}]"
   ]
  },
  {
   "cell_type": "markdown",
   "metadata": {},
   "source": [
    "> NOTE: After experimenting with different values, We found that tol values of 10e-7 and 10e-3 did not produce favorable results. Similarly, adjustments to C showed better performance with higher values, and the chosen values reflect the best results from this experimentation."
   ]
  },
  {
   "cell_type": "markdown",
   "metadata": {
    "id": "l-uSv-NxKHBb"
   },
   "source": [
    "##### The parameter grid for KNeighbors Classification"
   ]
  },
  {
   "cell_type": "markdown",
   "metadata": {
    "id": "p1yANJAA_UUG"
   },
   "source": [
    "The hyperparameters we want to finetune here are:\n",
    "\n",
    "- n_neighbors: Number of neighbors to use by default for kneighbors queries\n",
    "- weights: Weight function used in prediction\n",
    "- metric: Metric to use for distance computation\n",
    "\n",
    "*Why we chose these hyperparameters*: The number of neighbors, weight function, and distance metrics are chosen because they directly influence the model's performance and behavior, so we want to find the best combination of these hyperparameters."
   ]
  },
  {
   "cell_type": "code",
   "execution_count": 129,
   "metadata": {
    "id": "nP8373_ZLe_P"
   },
   "outputs": [],
   "source": [
    "# The parameter grid for n_neighbors\n",
    "n_neighbors_knbc = [10, 20, 30]\n",
    "\n",
    "# The parameter grid for weights\n",
    "weights_knbc = ['uniform', 'distance']\n",
    "\n",
    "# The parameter grid for metric\n",
    "metric_knbc = ['euclidean', 'manhattan']\n",
    "\n",
    "# Update param_grids\n",
    "param_grids['KNeighbors Classifier'] = [{'model__n_neighbors': n_neighbors_knbc,\n",
    "                        'model__weights': weights_knbc,\n",
    "                        'model__metric': metric_knbc}]"
   ]
  },
  {
   "cell_type": "markdown",
   "metadata": {
    "id": "rI5ZtOtgCvM8"
   },
   "source": [
    "> NOTE: We tried the Minkowski metric as well, it took so much time to run and the results were also not satisfactory, so we decided to remove it."
   ]
  },
  {
   "cell_type": "markdown",
   "metadata": {
    "id": "-r4ACHARGUFA"
   },
   "source": [
    "##### The parameter grid for Decision Tree Classifier\n",
    "The hyperparameters we want to fine-tune are:\n",
    "\n",
    "- min_samples_split: The minimum number of samples required to split an internal node\n",
    "- min_samples_leaf: The minimum number of samples required to be at a leaf node\n",
    "\n",
    "*Why we chose these hyperparameters*: These hyperparameters help control the model's complexity (growth of the tree) and prevent overfitting by setting the minimum number of samples required to split an internal node and be at a leaf node."
   ]
  },
  {
   "cell_type": "code",
   "execution_count": 130,
   "metadata": {
    "id": "6h0pG-6KG9rU"
   },
   "outputs": [],
   "source": [
    "# The parameter grid for min_samples_split\n",
    "min_samples_split_dtc = [2, 5, 10]\n",
    "\n",
    "# The parameter grid for min_samples_leaf\n",
    "min_samples_leaf_dtc = [50, 75, 100]\n",
    "\n",
    "# Update param_grids\n",
    "param_grids['Decision Tree Classifier'] = [{'model__min_samples_split': min_samples_split_dtc,\n",
    "                       'model__min_samples_leaf': min_samples_leaf_dtc}]"
   ]
  },
  {
   "cell_type": "markdown",
   "metadata": {
    "id": "If3KnVWTUgt7"
   },
   "source": [
    "##### The parameter grid for Random Forest\n",
    "The hyperparameters we want to fine-tune are:\n",
    "\n",
    "- min_samples_split: The minimum number of samples required to split an internal node\n",
    "- min_samples_leaf: The minimum number of samples required to be at a leaf node\n",
    "\n",
    "*Why we chose these hyperparameters*: Since Random Forest is an ensemble of decision trees, we use the same hyperparameters as the Decision Tree Classifier."
   ]
  },
  {
   "cell_type": "code",
   "execution_count": 131,
   "metadata": {
    "id": "G73LbDZqUhT3"
   },
   "outputs": [],
   "source": [
    "# The parameter grid for min_samples_split\n",
    "min_samples_split_rfc = [10, 50, 100]\n",
    "\n",
    "# The parameter grid for min_samples_leaf\n",
    "min_samples_leaf_rfc = [0.9, 1, 3, 5]\n",
    "\n",
    "# Update param_grids\n",
    "param_grids['Random Forest Classifier'] = [{'model__min_samples_split': min_samples_split_rfc,\n",
    "                       'model__min_samples_leaf': min_samples_leaf_rfc}]"
   ]
  },
  {
   "cell_type": "markdown",
   "metadata": {
    "id": "_kk-pdwYCIAI"
   },
   "source": [
    "##### The parameter grid for Adaboost Classifier\n",
    "\n",
    "The hyperparameters we want to fine-tune are:\n",
    "\n",
    "- n_estimators: The maximum number of estimators at which boosting is terminated\n",
    "\n",
    "\n",
    "*Why we chose this hyperparameter*: The number of estimators controls the number of weak learners (decision trees) used in the ensemble, so we want to find the **optimal** number of estimators for the best performance.\n"
   ]
  },
  {
   "cell_type": "code",
   "execution_count": 132,
   "metadata": {
    "id": "_QFg9KAVCHAv"
   },
   "outputs": [],
   "source": [
    "# The parameter grid for n_estimators\n",
    "n_estimators_abc = list(range(50, 201, 25))\n",
    "\n",
    "# Update param_grids\n",
    "param_grids['AdaBoost Classifier'] = [{ 'model__n_estimators': n_estimators_abc}]"
   ]
  },
  {
   "cell_type": "markdown",
   "metadata": {
    "id": "h-XhhDXWbfYY"
   },
   "source": [
    "##### The parameter grid for Gradient Boosting\n",
    "The hyperparameters we want to fine-tune are:\n",
    "\n",
    "- n_estimators: The number of boosting stages to perform\n",
    "- learning_rate: Learning rate shrinks the contribution of each tree by learning_rate\n",
    "- min_samples_split: The minimum number of samples required to split an internal node\n",
    "- min_samples_leaf: The minimum number of samples required to be at a leaf node\n",
    "- max depth: Maximum depth of the individual regression estimators\n",
    "- subsample: The fraction of samples to be used for fitting the individual base learners\n",
    "\n",
    "\n",
    "*Why we chose these hyperparameters*: These hyperparameters control the number of boosting stages, the learning rate, the tree's complexity, and the fraction of samples used for fitting the individual base learners, so we want to find the best combination of these hyperparameters for optimal performance."
   ]
  },
  {
   "cell_type": "code",
   "execution_count": 133,
   "metadata": {
    "id": "OaprRjDTdxf8"
   },
   "outputs": [],
   "source": [
    "# The parameter grid for n_estimators\n",
    "n_estimators_gbc = [40]\n",
    "\n",
    "# The parameter grid for learning_rate\n",
    "learning_rate_gbc = [0.3]\n",
    "\n",
    "# The parameter grid for min_samples_split\n",
    "min_samples_split_gbc = [100, 250, 500]\n",
    "\n",
    "# The parameter grid for min_samples_leaf\n",
    "min_samples_leaf_gbc = [25, 50, 75, 100]\n",
    "\n",
    "# The parameter grid for max_depth\n",
    "max_depth_gbc = [8]\n",
    "\n",
    "# The parameter grid for subsample\n",
    "subsample_gbc = [0.8]\n",
    "\n",
    "# update param_grids\n",
    "param_grids['GradientBoosting Classifier'] = [{'model__n_estimators': n_estimators_gbc,\n",
    "                       'model__learning_rate': learning_rate_gbc,\n",
    "                       'model__min_samples_split': min_samples_split_gbc,\n",
    "                       'model__min_samples_leaf' : min_samples_leaf_gbc,\n",
    "                       'model__max_depth' : max_depth_gbc,\n",
    "                       'model__subsample' : subsample_gbc}]"
   ]
  },
  {
   "cell_type": "markdown",
   "metadata": {
    "id": "MravlMPJU2MS"
   },
   "source": [
    "#### Tuning the hyperparameters\n",
    "\n",
    "Finetuning the hyperparameters using gridsearchcv"
   ]
  },
  {
   "cell_type": "code",
   "execution_count": 134,
   "metadata": {
    "colab": {
     "base_uri": "https://localhost:8080/"
    },
    "id": "oXgLeNE7U4C6",
    "outputId": "70a80d23-888c-48d2-ca71-b0b04c6d2d7d"
   },
   "outputs": [
    {
     "name": "stdout",
     "output_type": "stream",
     "text": [
      "Gaussian Naive Bayes:\n",
      "Parameter tuning started for Gaussian Naive Bayes\n",
      "Fitting 1 folds for each of 7 candidates, totalling 7 fits\n",
      "Parameter tuning is done for Gaussian Naive Bayes\n",
      "Execution time for Gaussian Naive Bayes: 8.2264 seconds \n",
      "\n"
     ]
    },
    {
     "data": {
      "text/html": [
       "<div>\n",
       "<style scoped>\n",
       "    .dataframe tbody tr th:only-of-type {\n",
       "        vertical-align: middle;\n",
       "    }\n",
       "\n",
       "    .dataframe tbody tr th {\n",
       "        vertical-align: top;\n",
       "    }\n",
       "\n",
       "    .dataframe thead th {\n",
       "        text-align: right;\n",
       "    }\n",
       "</style>\n",
       "<table border=\"1\" class=\"dataframe\">\n",
       "  <thead>\n",
       "    <tr style=\"text-align: right;\">\n",
       "      <th></th>\n",
       "      <th>rank_test_score</th>\n",
       "      <th>mean_test_score</th>\n",
       "      <th>std_test_score</th>\n",
       "      <th>mean_train_score</th>\n",
       "      <th>std_train_score</th>\n",
       "      <th>mean_fit_time</th>\n",
       "      <th>std_fit_time</th>\n",
       "      <th>mean_score_time</th>\n",
       "      <th>std_score_time</th>\n",
       "      <th>param_model__var_smoothing</th>\n",
       "      <th>params</th>\n",
       "      <th>split0_test_score</th>\n",
       "      <th>split0_train_score</th>\n",
       "    </tr>\n",
       "  </thead>\n",
       "  <tbody>\n",
       "    <tr>\n",
       "      <th>6</th>\n",
       "      <td>1</td>\n",
       "      <td>0.647918</td>\n",
       "      <td>0.0</td>\n",
       "      <td>0.637177</td>\n",
       "      <td>0.0</td>\n",
       "      <td>0.200689</td>\n",
       "      <td>0.0</td>\n",
       "      <td>0.057572</td>\n",
       "      <td>0.0</td>\n",
       "      <td>1.000000e-06</td>\n",
       "      <td>{'model__var_smoothing': 1e-06}</td>\n",
       "      <td>0.647918</td>\n",
       "      <td>0.637177</td>\n",
       "    </tr>\n",
       "    <tr>\n",
       "      <th>5</th>\n",
       "      <td>2</td>\n",
       "      <td>0.642795</td>\n",
       "      <td>0.0</td>\n",
       "      <td>0.630785</td>\n",
       "      <td>0.0</td>\n",
       "      <td>0.239884</td>\n",
       "      <td>0.0</td>\n",
       "      <td>0.050012</td>\n",
       "      <td>0.0</td>\n",
       "      <td>1.000000e-07</td>\n",
       "      <td>{'model__var_smoothing': 1e-07}</td>\n",
       "      <td>0.642795</td>\n",
       "      <td>0.630785</td>\n",
       "    </tr>\n",
       "    <tr>\n",
       "      <th>4</th>\n",
       "      <td>3</td>\n",
       "      <td>0.634789</td>\n",
       "      <td>0.0</td>\n",
       "      <td>0.624228</td>\n",
       "      <td>0.0</td>\n",
       "      <td>0.235980</td>\n",
       "      <td>0.0</td>\n",
       "      <td>0.063560</td>\n",
       "      <td>0.0</td>\n",
       "      <td>1.000000e-08</td>\n",
       "      <td>{'model__var_smoothing': 1e-08}</td>\n",
       "      <td>0.634789</td>\n",
       "      <td>0.624228</td>\n",
       "    </tr>\n",
       "    <tr>\n",
       "      <th>3</th>\n",
       "      <td>4</td>\n",
       "      <td>0.627703</td>\n",
       "      <td>0.0</td>\n",
       "      <td>0.618466</td>\n",
       "      <td>0.0</td>\n",
       "      <td>0.245632</td>\n",
       "      <td>0.0</td>\n",
       "      <td>0.068480</td>\n",
       "      <td>0.0</td>\n",
       "      <td>1.000000e-09</td>\n",
       "      <td>{'model__var_smoothing': 1e-09}</td>\n",
       "      <td>0.627703</td>\n",
       "      <td>0.618466</td>\n",
       "    </tr>\n",
       "    <tr>\n",
       "      <th>2</th>\n",
       "      <td>5</td>\n",
       "      <td>0.623973</td>\n",
       "      <td>0.0</td>\n",
       "      <td>0.613738</td>\n",
       "      <td>0.0</td>\n",
       "      <td>0.290623</td>\n",
       "      <td>0.0</td>\n",
       "      <td>0.060556</td>\n",
       "      <td>0.0</td>\n",
       "      <td>1.000000e-10</td>\n",
       "      <td>{'model__var_smoothing': 1e-10}</td>\n",
       "      <td>0.623973</td>\n",
       "      <td>0.613738</td>\n",
       "    </tr>\n",
       "    <tr>\n",
       "      <th>1</th>\n",
       "      <td>6</td>\n",
       "      <td>0.619126</td>\n",
       "      <td>0.0</td>\n",
       "      <td>0.610720</td>\n",
       "      <td>0.0</td>\n",
       "      <td>0.252528</td>\n",
       "      <td>0.0</td>\n",
       "      <td>0.062383</td>\n",
       "      <td>0.0</td>\n",
       "      <td>1.000000e-11</td>\n",
       "      <td>{'model__var_smoothing': 1e-11}</td>\n",
       "      <td>0.619126</td>\n",
       "      <td>0.610720</td>\n",
       "    </tr>\n",
       "    <tr>\n",
       "      <th>0</th>\n",
       "      <td>7</td>\n",
       "      <td>0.616548</td>\n",
       "      <td>0.0</td>\n",
       "      <td>0.607055</td>\n",
       "      <td>0.0</td>\n",
       "      <td>0.263637</td>\n",
       "      <td>0.0</td>\n",
       "      <td>0.067887</td>\n",
       "      <td>0.0</td>\n",
       "      <td>1.000000e-12</td>\n",
       "      <td>{'model__var_smoothing': 1e-12}</td>\n",
       "      <td>0.616548</td>\n",
       "      <td>0.607055</td>\n",
       "    </tr>\n",
       "  </tbody>\n",
       "</table>\n",
       "</div>"
      ],
      "text/plain": [
       "   rank_test_score  mean_test_score  std_test_score  mean_train_score  \\\n",
       "6                1         0.647918             0.0          0.637177   \n",
       "5                2         0.642795             0.0          0.630785   \n",
       "4                3         0.634789             0.0          0.624228   \n",
       "3                4         0.627703             0.0          0.618466   \n",
       "2                5         0.623973             0.0          0.613738   \n",
       "1                6         0.619126             0.0          0.610720   \n",
       "0                7         0.616548             0.0          0.607055   \n",
       "\n",
       "   std_train_score  mean_fit_time  std_fit_time  mean_score_time  \\\n",
       "6              0.0       0.200689           0.0         0.057572   \n",
       "5              0.0       0.239884           0.0         0.050012   \n",
       "4              0.0       0.235980           0.0         0.063560   \n",
       "3              0.0       0.245632           0.0         0.068480   \n",
       "2              0.0       0.290623           0.0         0.060556   \n",
       "1              0.0       0.252528           0.0         0.062383   \n",
       "0              0.0       0.263637           0.0         0.067887   \n",
       "\n",
       "   std_score_time  param_model__var_smoothing  \\\n",
       "6             0.0                1.000000e-06   \n",
       "5             0.0                1.000000e-07   \n",
       "4             0.0                1.000000e-08   \n",
       "3             0.0                1.000000e-09   \n",
       "2             0.0                1.000000e-10   \n",
       "1             0.0                1.000000e-11   \n",
       "0             0.0                1.000000e-12   \n",
       "\n",
       "                            params  split0_test_score  split0_train_score  \n",
       "6  {'model__var_smoothing': 1e-06}           0.647918            0.637177  \n",
       "5  {'model__var_smoothing': 1e-07}           0.642795            0.630785  \n",
       "4  {'model__var_smoothing': 1e-08}           0.634789            0.624228  \n",
       "3  {'model__var_smoothing': 1e-09}           0.627703            0.618466  \n",
       "2  {'model__var_smoothing': 1e-10}           0.623973            0.613738  \n",
       "1  {'model__var_smoothing': 1e-11}           0.619126            0.610720  \n",
       "0  {'model__var_smoothing': 1e-12}           0.616548            0.607055  "
      ]
     },
     "metadata": {},
     "output_type": "display_data"
    },
    {
     "name": "stdout",
     "output_type": "stream",
     "text": [
      "\n",
      "----------------------------------------------------------------------------------------------------------------------------------------------------------------------------------------------\n",
      "\n",
      "KNeighbors Classifier:\n",
      "Parameter tuning started for KNeighbors Classifier\n",
      "Fitting 1 folds for each of 12 candidates, totalling 12 fits\n",
      "Parameter tuning is done for KNeighbors Classifier\n",
      "Execution time for KNeighbors Classifier: 188.9343 seconds \n",
      "\n"
     ]
    },
    {
     "data": {
      "text/html": [
       "<div>\n",
       "<style scoped>\n",
       "    .dataframe tbody tr th:only-of-type {\n",
       "        vertical-align: middle;\n",
       "    }\n",
       "\n",
       "    .dataframe tbody tr th {\n",
       "        vertical-align: top;\n",
       "    }\n",
       "\n",
       "    .dataframe thead th {\n",
       "        text-align: right;\n",
       "    }\n",
       "</style>\n",
       "<table border=\"1\" class=\"dataframe\">\n",
       "  <thead>\n",
       "    <tr style=\"text-align: right;\">\n",
       "      <th></th>\n",
       "      <th>rank_test_score</th>\n",
       "      <th>mean_test_score</th>\n",
       "      <th>std_test_score</th>\n",
       "      <th>mean_train_score</th>\n",
       "      <th>std_train_score</th>\n",
       "      <th>mean_fit_time</th>\n",
       "      <th>std_fit_time</th>\n",
       "      <th>mean_score_time</th>\n",
       "      <th>std_score_time</th>\n",
       "      <th>param_model__metric</th>\n",
       "      <th>param_model__n_neighbors</th>\n",
       "      <th>param_model__weights</th>\n",
       "      <th>params</th>\n",
       "      <th>split0_test_score</th>\n",
       "      <th>split0_train_score</th>\n",
       "    </tr>\n",
       "  </thead>\n",
       "  <tbody>\n",
       "    <tr>\n",
       "      <th>8</th>\n",
       "      <td>1</td>\n",
       "      <td>0.756003</td>\n",
       "      <td>0.0</td>\n",
       "      <td>0.774393</td>\n",
       "      <td>0.0</td>\n",
       "      <td>0.170373</td>\n",
       "      <td>0.0</td>\n",
       "      <td>10.826124</td>\n",
       "      <td>0.0</td>\n",
       "      <td>manhattan</td>\n",
       "      <td>20</td>\n",
       "      <td>uniform</td>\n",
       "      <td>{'model__metric': 'manhattan', 'model__n_neigh...</td>\n",
       "      <td>0.756003</td>\n",
       "      <td>0.774393</td>\n",
       "    </tr>\n",
       "    <tr>\n",
       "      <th>4</th>\n",
       "      <td>2</td>\n",
       "      <td>0.755242</td>\n",
       "      <td>0.0</td>\n",
       "      <td>0.769807</td>\n",
       "      <td>0.0</td>\n",
       "      <td>0.179639</td>\n",
       "      <td>0.0</td>\n",
       "      <td>1.779021</td>\n",
       "      <td>0.0</td>\n",
       "      <td>euclidean</td>\n",
       "      <td>30</td>\n",
       "      <td>uniform</td>\n",
       "      <td>{'model__metric': 'euclidean', 'model__n_neigh...</td>\n",
       "      <td>0.755242</td>\n",
       "      <td>0.769807</td>\n",
       "    </tr>\n",
       "    <tr>\n",
       "      <th>2</th>\n",
       "      <td>3</td>\n",
       "      <td>0.754691</td>\n",
       "      <td>0.0</td>\n",
       "      <td>0.776388</td>\n",
       "      <td>0.0</td>\n",
       "      <td>0.169055</td>\n",
       "      <td>0.0</td>\n",
       "      <td>1.371828</td>\n",
       "      <td>0.0</td>\n",
       "      <td>euclidean</td>\n",
       "      <td>20</td>\n",
       "      <td>uniform</td>\n",
       "      <td>{'model__metric': 'euclidean', 'model__n_neigh...</td>\n",
       "      <td>0.754691</td>\n",
       "      <td>0.776388</td>\n",
       "    </tr>\n",
       "    <tr>\n",
       "      <th>10</th>\n",
       "      <td>4</td>\n",
       "      <td>0.754428</td>\n",
       "      <td>0.0</td>\n",
       "      <td>0.769568</td>\n",
       "      <td>0.0</td>\n",
       "      <td>0.160955</td>\n",
       "      <td>0.0</td>\n",
       "      <td>10.122170</td>\n",
       "      <td>0.0</td>\n",
       "      <td>manhattan</td>\n",
       "      <td>30</td>\n",
       "      <td>uniform</td>\n",
       "      <td>{'model__metric': 'manhattan', 'model__n_neigh...</td>\n",
       "      <td>0.754428</td>\n",
       "      <td>0.769568</td>\n",
       "    </tr>\n",
       "    <tr>\n",
       "      <th>5</th>\n",
       "      <td>5</td>\n",
       "      <td>0.754354</td>\n",
       "      <td>0.0</td>\n",
       "      <td>0.961486</td>\n",
       "      <td>0.0</td>\n",
       "      <td>0.162438</td>\n",
       "      <td>0.0</td>\n",
       "      <td>1.438892</td>\n",
       "      <td>0.0</td>\n",
       "      <td>euclidean</td>\n",
       "      <td>30</td>\n",
       "      <td>distance</td>\n",
       "      <td>{'model__metric': 'euclidean', 'model__n_neigh...</td>\n",
       "      <td>0.754354</td>\n",
       "      <td>0.961486</td>\n",
       "    </tr>\n",
       "    <tr>\n",
       "      <th>3</th>\n",
       "      <td>6</td>\n",
       "      <td>0.753519</td>\n",
       "      <td>0.0</td>\n",
       "      <td>0.961486</td>\n",
       "      <td>0.0</td>\n",
       "      <td>0.200519</td>\n",
       "      <td>0.0</td>\n",
       "      <td>1.682414</td>\n",
       "      <td>0.0</td>\n",
       "      <td>euclidean</td>\n",
       "      <td>20</td>\n",
       "      <td>distance</td>\n",
       "      <td>{'model__metric': 'euclidean', 'model__n_neigh...</td>\n",
       "      <td>0.753519</td>\n",
       "      <td>0.961486</td>\n",
       "    </tr>\n",
       "    <tr>\n",
       "      <th>1</th>\n",
       "      <td>7</td>\n",
       "      <td>0.753397</td>\n",
       "      <td>0.0</td>\n",
       "      <td>0.961453</td>\n",
       "      <td>0.0</td>\n",
       "      <td>0.163555</td>\n",
       "      <td>0.0</td>\n",
       "      <td>1.750763</td>\n",
       "      <td>0.0</td>\n",
       "      <td>euclidean</td>\n",
       "      <td>10</td>\n",
       "      <td>distance</td>\n",
       "      <td>{'model__metric': 'euclidean', 'model__n_neigh...</td>\n",
       "      <td>0.753397</td>\n",
       "      <td>0.961453</td>\n",
       "    </tr>\n",
       "    <tr>\n",
       "      <th>7</th>\n",
       "      <td>8</td>\n",
       "      <td>0.751266</td>\n",
       "      <td>0.0</td>\n",
       "      <td>0.961398</td>\n",
       "      <td>0.0</td>\n",
       "      <td>0.184966</td>\n",
       "      <td>0.0</td>\n",
       "      <td>9.837932</td>\n",
       "      <td>0.0</td>\n",
       "      <td>manhattan</td>\n",
       "      <td>10</td>\n",
       "      <td>distance</td>\n",
       "      <td>{'model__metric': 'manhattan', 'model__n_neigh...</td>\n",
       "      <td>0.751266</td>\n",
       "      <td>0.961398</td>\n",
       "    </tr>\n",
       "    <tr>\n",
       "      <th>11</th>\n",
       "      <td>9</td>\n",
       "      <td>0.750819</td>\n",
       "      <td>0.0</td>\n",
       "      <td>0.961434</td>\n",
       "      <td>0.0</td>\n",
       "      <td>0.168707</td>\n",
       "      <td>0.0</td>\n",
       "      <td>10.179976</td>\n",
       "      <td>0.0</td>\n",
       "      <td>manhattan</td>\n",
       "      <td>30</td>\n",
       "      <td>distance</td>\n",
       "      <td>{'model__metric': 'manhattan', 'model__n_neigh...</td>\n",
       "      <td>0.750819</td>\n",
       "      <td>0.961434</td>\n",
       "    </tr>\n",
       "    <tr>\n",
       "      <th>9</th>\n",
       "      <td>10</td>\n",
       "      <td>0.750659</td>\n",
       "      <td>0.0</td>\n",
       "      <td>0.961434</td>\n",
       "      <td>0.0</td>\n",
       "      <td>0.154550</td>\n",
       "      <td>0.0</td>\n",
       "      <td>10.395100</td>\n",
       "      <td>0.0</td>\n",
       "      <td>manhattan</td>\n",
       "      <td>20</td>\n",
       "      <td>distance</td>\n",
       "      <td>{'model__metric': 'manhattan', 'model__n_neigh...</td>\n",
       "      <td>0.750659</td>\n",
       "      <td>0.961434</td>\n",
       "    </tr>\n",
       "    <tr>\n",
       "      <th>0</th>\n",
       "      <td>11</td>\n",
       "      <td>0.745135</td>\n",
       "      <td>0.0</td>\n",
       "      <td>0.787930</td>\n",
       "      <td>0.0</td>\n",
       "      <td>0.159826</td>\n",
       "      <td>0.0</td>\n",
       "      <td>2.191112</td>\n",
       "      <td>0.0</td>\n",
       "      <td>euclidean</td>\n",
       "      <td>10</td>\n",
       "      <td>uniform</td>\n",
       "      <td>{'model__metric': 'euclidean', 'model__n_neigh...</td>\n",
       "      <td>0.745135</td>\n",
       "      <td>0.787930</td>\n",
       "    </tr>\n",
       "    <tr>\n",
       "      <th>6</th>\n",
       "      <td>12</td>\n",
       "      <td>0.742126</td>\n",
       "      <td>0.0</td>\n",
       "      <td>0.788557</td>\n",
       "      <td>0.0</td>\n",
       "      <td>0.178821</td>\n",
       "      <td>0.0</td>\n",
       "      <td>10.353799</td>\n",
       "      <td>0.0</td>\n",
       "      <td>manhattan</td>\n",
       "      <td>10</td>\n",
       "      <td>uniform</td>\n",
       "      <td>{'model__metric': 'manhattan', 'model__n_neigh...</td>\n",
       "      <td>0.742126</td>\n",
       "      <td>0.788557</td>\n",
       "    </tr>\n",
       "  </tbody>\n",
       "</table>\n",
       "</div>"
      ],
      "text/plain": [
       "    rank_test_score  mean_test_score  std_test_score  mean_train_score  \\\n",
       "8                 1         0.756003             0.0          0.774393   \n",
       "4                 2         0.755242             0.0          0.769807   \n",
       "2                 3         0.754691             0.0          0.776388   \n",
       "10                4         0.754428             0.0          0.769568   \n",
       "5                 5         0.754354             0.0          0.961486   \n",
       "3                 6         0.753519             0.0          0.961486   \n",
       "1                 7         0.753397             0.0          0.961453   \n",
       "7                 8         0.751266             0.0          0.961398   \n",
       "11                9         0.750819             0.0          0.961434   \n",
       "9                10         0.750659             0.0          0.961434   \n",
       "0                11         0.745135             0.0          0.787930   \n",
       "6                12         0.742126             0.0          0.788557   \n",
       "\n",
       "    std_train_score  mean_fit_time  std_fit_time  mean_score_time  \\\n",
       "8               0.0       0.170373           0.0        10.826124   \n",
       "4               0.0       0.179639           0.0         1.779021   \n",
       "2               0.0       0.169055           0.0         1.371828   \n",
       "10              0.0       0.160955           0.0        10.122170   \n",
       "5               0.0       0.162438           0.0         1.438892   \n",
       "3               0.0       0.200519           0.0         1.682414   \n",
       "1               0.0       0.163555           0.0         1.750763   \n",
       "7               0.0       0.184966           0.0         9.837932   \n",
       "11              0.0       0.168707           0.0        10.179976   \n",
       "9               0.0       0.154550           0.0        10.395100   \n",
       "0               0.0       0.159826           0.0         2.191112   \n",
       "6               0.0       0.178821           0.0        10.353799   \n",
       "\n",
       "    std_score_time param_model__metric  param_model__n_neighbors  \\\n",
       "8              0.0           manhattan                        20   \n",
       "4              0.0           euclidean                        30   \n",
       "2              0.0           euclidean                        20   \n",
       "10             0.0           manhattan                        30   \n",
       "5              0.0           euclidean                        30   \n",
       "3              0.0           euclidean                        20   \n",
       "1              0.0           euclidean                        10   \n",
       "7              0.0           manhattan                        10   \n",
       "11             0.0           manhattan                        30   \n",
       "9              0.0           manhattan                        20   \n",
       "0              0.0           euclidean                        10   \n",
       "6              0.0           manhattan                        10   \n",
       "\n",
       "   param_model__weights                                             params  \\\n",
       "8               uniform  {'model__metric': 'manhattan', 'model__n_neigh...   \n",
       "4               uniform  {'model__metric': 'euclidean', 'model__n_neigh...   \n",
       "2               uniform  {'model__metric': 'euclidean', 'model__n_neigh...   \n",
       "10              uniform  {'model__metric': 'manhattan', 'model__n_neigh...   \n",
       "5              distance  {'model__metric': 'euclidean', 'model__n_neigh...   \n",
       "3              distance  {'model__metric': 'euclidean', 'model__n_neigh...   \n",
       "1              distance  {'model__metric': 'euclidean', 'model__n_neigh...   \n",
       "7              distance  {'model__metric': 'manhattan', 'model__n_neigh...   \n",
       "11             distance  {'model__metric': 'manhattan', 'model__n_neigh...   \n",
       "9              distance  {'model__metric': 'manhattan', 'model__n_neigh...   \n",
       "0               uniform  {'model__metric': 'euclidean', 'model__n_neigh...   \n",
       "6               uniform  {'model__metric': 'manhattan', 'model__n_neigh...   \n",
       "\n",
       "    split0_test_score  split0_train_score  \n",
       "8            0.756003            0.774393  \n",
       "4            0.755242            0.769807  \n",
       "2            0.754691            0.776388  \n",
       "10           0.754428            0.769568  \n",
       "5            0.754354            0.961486  \n",
       "3            0.753519            0.961486  \n",
       "1            0.753397            0.961453  \n",
       "7            0.751266            0.961398  \n",
       "11           0.750819            0.961434  \n",
       "9            0.750659            0.961434  \n",
       "0            0.745135            0.787930  \n",
       "6            0.742126            0.788557  "
      ]
     },
     "metadata": {},
     "output_type": "display_data"
    },
    {
     "name": "stdout",
     "output_type": "stream",
     "text": [
      "\n",
      "----------------------------------------------------------------------------------------------------------------------------------------------------------------------------------------------\n",
      "\n",
      "Logistic Regression Classifer:\n",
      "Parameter tuning started for Logistic Regression Classifer\n",
      "Fitting 1 folds for each of 12 candidates, totalling 12 fits\n",
      "Parameter tuning is done for Logistic Regression Classifer\n",
      "Execution time for Logistic Regression Classifer: 9.0568 seconds \n",
      "\n"
     ]
    },
    {
     "data": {
      "text/html": [
       "<div>\n",
       "<style scoped>\n",
       "    .dataframe tbody tr th:only-of-type {\n",
       "        vertical-align: middle;\n",
       "    }\n",
       "\n",
       "    .dataframe tbody tr th {\n",
       "        vertical-align: top;\n",
       "    }\n",
       "\n",
       "    .dataframe thead th {\n",
       "        text-align: right;\n",
       "    }\n",
       "</style>\n",
       "<table border=\"1\" class=\"dataframe\">\n",
       "  <thead>\n",
       "    <tr style=\"text-align: right;\">\n",
       "      <th></th>\n",
       "      <th>rank_test_score</th>\n",
       "      <th>mean_test_score</th>\n",
       "      <th>std_test_score</th>\n",
       "      <th>mean_train_score</th>\n",
       "      <th>std_train_score</th>\n",
       "      <th>mean_fit_time</th>\n",
       "      <th>std_fit_time</th>\n",
       "      <th>mean_score_time</th>\n",
       "      <th>std_score_time</th>\n",
       "      <th>param_model__C</th>\n",
       "      <th>param_model__tol</th>\n",
       "      <th>params</th>\n",
       "      <th>split0_test_score</th>\n",
       "      <th>split0_train_score</th>\n",
       "    </tr>\n",
       "  </thead>\n",
       "  <tbody>\n",
       "    <tr>\n",
       "      <th>8</th>\n",
       "      <td>1</td>\n",
       "      <td>0.782308</td>\n",
       "      <td>0.0</td>\n",
       "      <td>0.771391</td>\n",
       "      <td>0.0</td>\n",
       "      <td>0.716677</td>\n",
       "      <td>0.0</td>\n",
       "      <td>0.039024</td>\n",
       "      <td>0.0</td>\n",
       "      <td>13</td>\n",
       "      <td>0.000100</td>\n",
       "      <td>{'model__C': 13, 'model__tol': 0.0001}</td>\n",
       "      <td>0.782308</td>\n",
       "      <td>0.771391</td>\n",
       "    </tr>\n",
       "    <tr>\n",
       "      <th>9</th>\n",
       "      <td>2</td>\n",
       "      <td>0.782200</td>\n",
       "      <td>0.0</td>\n",
       "      <td>0.771751</td>\n",
       "      <td>0.0</td>\n",
       "      <td>0.806934</td>\n",
       "      <td>0.0</td>\n",
       "      <td>0.035851</td>\n",
       "      <td>0.0</td>\n",
       "      <td>15</td>\n",
       "      <td>0.000001</td>\n",
       "      <td>{'model__C': 15, 'model__tol': 1e-06}</td>\n",
       "      <td>0.782200</td>\n",
       "      <td>0.771751</td>\n",
       "    </tr>\n",
       "    <tr>\n",
       "      <th>10</th>\n",
       "      <td>2</td>\n",
       "      <td>0.782200</td>\n",
       "      <td>0.0</td>\n",
       "      <td>0.771751</td>\n",
       "      <td>0.0</td>\n",
       "      <td>0.845628</td>\n",
       "      <td>0.0</td>\n",
       "      <td>0.042376</td>\n",
       "      <td>0.0</td>\n",
       "      <td>15</td>\n",
       "      <td>0.000010</td>\n",
       "      <td>{'model__C': 15, 'model__tol': 1e-05}</td>\n",
       "      <td>0.782200</td>\n",
       "      <td>0.771751</td>\n",
       "    </tr>\n",
       "    <tr>\n",
       "      <th>3</th>\n",
       "      <td>4</td>\n",
       "      <td>0.782048</td>\n",
       "      <td>0.0</td>\n",
       "      <td>0.771667</td>\n",
       "      <td>0.0</td>\n",
       "      <td>0.969281</td>\n",
       "      <td>0.0</td>\n",
       "      <td>0.046206</td>\n",
       "      <td>0.0</td>\n",
       "      <td>10</td>\n",
       "      <td>0.000001</td>\n",
       "      <td>{'model__C': 10, 'model__tol': 1e-06}</td>\n",
       "      <td>0.782048</td>\n",
       "      <td>0.771667</td>\n",
       "    </tr>\n",
       "    <tr>\n",
       "      <th>4</th>\n",
       "      <td>4</td>\n",
       "      <td>0.782048</td>\n",
       "      <td>0.0</td>\n",
       "      <td>0.771667</td>\n",
       "      <td>0.0</td>\n",
       "      <td>0.805568</td>\n",
       "      <td>0.0</td>\n",
       "      <td>0.040276</td>\n",
       "      <td>0.0</td>\n",
       "      <td>10</td>\n",
       "      <td>0.000010</td>\n",
       "      <td>{'model__C': 10, 'model__tol': 1e-05}</td>\n",
       "      <td>0.782048</td>\n",
       "      <td>0.771667</td>\n",
       "    </tr>\n",
       "    <tr>\n",
       "      <th>6</th>\n",
       "      <td>4</td>\n",
       "      <td>0.782048</td>\n",
       "      <td>0.0</td>\n",
       "      <td>0.771674</td>\n",
       "      <td>0.0</td>\n",
       "      <td>0.812758</td>\n",
       "      <td>0.0</td>\n",
       "      <td>0.045614</td>\n",
       "      <td>0.0</td>\n",
       "      <td>13</td>\n",
       "      <td>0.000001</td>\n",
       "      <td>{'model__C': 13, 'model__tol': 1e-06}</td>\n",
       "      <td>0.782048</td>\n",
       "      <td>0.771674</td>\n",
       "    </tr>\n",
       "    <tr>\n",
       "      <th>7</th>\n",
       "      <td>4</td>\n",
       "      <td>0.782048</td>\n",
       "      <td>0.0</td>\n",
       "      <td>0.771674</td>\n",
       "      <td>0.0</td>\n",
       "      <td>0.814858</td>\n",
       "      <td>0.0</td>\n",
       "      <td>0.036132</td>\n",
       "      <td>0.0</td>\n",
       "      <td>13</td>\n",
       "      <td>0.000010</td>\n",
       "      <td>{'model__C': 13, 'model__tol': 1e-05}</td>\n",
       "      <td>0.782048</td>\n",
       "      <td>0.771674</td>\n",
       "    </tr>\n",
       "    <tr>\n",
       "      <th>5</th>\n",
       "      <td>8</td>\n",
       "      <td>0.782004</td>\n",
       "      <td>0.0</td>\n",
       "      <td>0.771406</td>\n",
       "      <td>0.0</td>\n",
       "      <td>0.729433</td>\n",
       "      <td>0.0</td>\n",
       "      <td>0.037260</td>\n",
       "      <td>0.0</td>\n",
       "      <td>10</td>\n",
       "      <td>0.000100</td>\n",
       "      <td>{'model__C': 10, 'model__tol': 0.0001}</td>\n",
       "      <td>0.782004</td>\n",
       "      <td>0.771406</td>\n",
       "    </tr>\n",
       "    <tr>\n",
       "      <th>0</th>\n",
       "      <td>9</td>\n",
       "      <td>0.781940</td>\n",
       "      <td>0.0</td>\n",
       "      <td>0.771483</td>\n",
       "      <td>0.0</td>\n",
       "      <td>1.129106</td>\n",
       "      <td>0.0</td>\n",
       "      <td>0.041819</td>\n",
       "      <td>0.0</td>\n",
       "      <td>8</td>\n",
       "      <td>0.000001</td>\n",
       "      <td>{'model__C': 8, 'model__tol': 1e-06}</td>\n",
       "      <td>0.781940</td>\n",
       "      <td>0.771483</td>\n",
       "    </tr>\n",
       "    <tr>\n",
       "      <th>1</th>\n",
       "      <td>9</td>\n",
       "      <td>0.781940</td>\n",
       "      <td>0.0</td>\n",
       "      <td>0.771483</td>\n",
       "      <td>0.0</td>\n",
       "      <td>1.134537</td>\n",
       "      <td>0.0</td>\n",
       "      <td>0.038162</td>\n",
       "      <td>0.0</td>\n",
       "      <td>8</td>\n",
       "      <td>0.000010</td>\n",
       "      <td>{'model__C': 8, 'model__tol': 1e-05}</td>\n",
       "      <td>0.781940</td>\n",
       "      <td>0.771483</td>\n",
       "    </tr>\n",
       "    <tr>\n",
       "      <th>11</th>\n",
       "      <td>9</td>\n",
       "      <td>0.781940</td>\n",
       "      <td>0.0</td>\n",
       "      <td>0.771391</td>\n",
       "      <td>0.0</td>\n",
       "      <td>0.721066</td>\n",
       "      <td>0.0</td>\n",
       "      <td>0.038878</td>\n",
       "      <td>0.0</td>\n",
       "      <td>15</td>\n",
       "      <td>0.000100</td>\n",
       "      <td>{'model__C': 15, 'model__tol': 0.0001}</td>\n",
       "      <td>0.781940</td>\n",
       "      <td>0.771391</td>\n",
       "    </tr>\n",
       "    <tr>\n",
       "      <th>2</th>\n",
       "      <td>12</td>\n",
       "      <td>0.781355</td>\n",
       "      <td>0.0</td>\n",
       "      <td>0.771177</td>\n",
       "      <td>0.0</td>\n",
       "      <td>0.815686</td>\n",
       "      <td>0.0</td>\n",
       "      <td>0.043849</td>\n",
       "      <td>0.0</td>\n",
       "      <td>8</td>\n",
       "      <td>0.000100</td>\n",
       "      <td>{'model__C': 8, 'model__tol': 0.0001}</td>\n",
       "      <td>0.781355</td>\n",
       "      <td>0.771177</td>\n",
       "    </tr>\n",
       "  </tbody>\n",
       "</table>\n",
       "</div>"
      ],
      "text/plain": [
       "    rank_test_score  mean_test_score  std_test_score  mean_train_score  \\\n",
       "8                 1         0.782308             0.0          0.771391   \n",
       "9                 2         0.782200             0.0          0.771751   \n",
       "10                2         0.782200             0.0          0.771751   \n",
       "3                 4         0.782048             0.0          0.771667   \n",
       "4                 4         0.782048             0.0          0.771667   \n",
       "6                 4         0.782048             0.0          0.771674   \n",
       "7                 4         0.782048             0.0          0.771674   \n",
       "5                 8         0.782004             0.0          0.771406   \n",
       "0                 9         0.781940             0.0          0.771483   \n",
       "1                 9         0.781940             0.0          0.771483   \n",
       "11                9         0.781940             0.0          0.771391   \n",
       "2                12         0.781355             0.0          0.771177   \n",
       "\n",
       "    std_train_score  mean_fit_time  std_fit_time  mean_score_time  \\\n",
       "8               0.0       0.716677           0.0         0.039024   \n",
       "9               0.0       0.806934           0.0         0.035851   \n",
       "10              0.0       0.845628           0.0         0.042376   \n",
       "3               0.0       0.969281           0.0         0.046206   \n",
       "4               0.0       0.805568           0.0         0.040276   \n",
       "6               0.0       0.812758           0.0         0.045614   \n",
       "7               0.0       0.814858           0.0         0.036132   \n",
       "5               0.0       0.729433           0.0         0.037260   \n",
       "0               0.0       1.129106           0.0         0.041819   \n",
       "1               0.0       1.134537           0.0         0.038162   \n",
       "11              0.0       0.721066           0.0         0.038878   \n",
       "2               0.0       0.815686           0.0         0.043849   \n",
       "\n",
       "    std_score_time  param_model__C  param_model__tol  \\\n",
       "8              0.0              13          0.000100   \n",
       "9              0.0              15          0.000001   \n",
       "10             0.0              15          0.000010   \n",
       "3              0.0              10          0.000001   \n",
       "4              0.0              10          0.000010   \n",
       "6              0.0              13          0.000001   \n",
       "7              0.0              13          0.000010   \n",
       "5              0.0              10          0.000100   \n",
       "0              0.0               8          0.000001   \n",
       "1              0.0               8          0.000010   \n",
       "11             0.0              15          0.000100   \n",
       "2              0.0               8          0.000100   \n",
       "\n",
       "                                    params  split0_test_score  \\\n",
       "8   {'model__C': 13, 'model__tol': 0.0001}           0.782308   \n",
       "9    {'model__C': 15, 'model__tol': 1e-06}           0.782200   \n",
       "10   {'model__C': 15, 'model__tol': 1e-05}           0.782200   \n",
       "3    {'model__C': 10, 'model__tol': 1e-06}           0.782048   \n",
       "4    {'model__C': 10, 'model__tol': 1e-05}           0.782048   \n",
       "6    {'model__C': 13, 'model__tol': 1e-06}           0.782048   \n",
       "7    {'model__C': 13, 'model__tol': 1e-05}           0.782048   \n",
       "5   {'model__C': 10, 'model__tol': 0.0001}           0.782004   \n",
       "0     {'model__C': 8, 'model__tol': 1e-06}           0.781940   \n",
       "1     {'model__C': 8, 'model__tol': 1e-05}           0.781940   \n",
       "11  {'model__C': 15, 'model__tol': 0.0001}           0.781940   \n",
       "2    {'model__C': 8, 'model__tol': 0.0001}           0.781355   \n",
       "\n",
       "    split0_train_score  \n",
       "8             0.771391  \n",
       "9             0.771751  \n",
       "10            0.771751  \n",
       "3             0.771667  \n",
       "4             0.771667  \n",
       "6             0.771674  \n",
       "7             0.771674  \n",
       "5             0.771406  \n",
       "0             0.771483  \n",
       "1             0.771483  \n",
       "11            0.771391  \n",
       "2             0.771177  "
      ]
     },
     "metadata": {},
     "output_type": "display_data"
    },
    {
     "name": "stdout",
     "output_type": "stream",
     "text": [
      "\n",
      "----------------------------------------------------------------------------------------------------------------------------------------------------------------------------------------------\n",
      "\n",
      "Decision Tree Classifier:\n",
      "Parameter tuning started for Decision Tree Classifier\n",
      "Fitting 1 folds for each of 9 candidates, totalling 9 fits\n",
      "Parameter tuning is done for Decision Tree Classifier\n",
      "Execution time for Decision Tree Classifier: 5.3405 seconds \n",
      "\n"
     ]
    },
    {
     "data": {
      "text/html": [
       "<div>\n",
       "<style scoped>\n",
       "    .dataframe tbody tr th:only-of-type {\n",
       "        vertical-align: middle;\n",
       "    }\n",
       "\n",
       "    .dataframe tbody tr th {\n",
       "        vertical-align: top;\n",
       "    }\n",
       "\n",
       "    .dataframe thead th {\n",
       "        text-align: right;\n",
       "    }\n",
       "</style>\n",
       "<table border=\"1\" class=\"dataframe\">\n",
       "  <thead>\n",
       "    <tr style=\"text-align: right;\">\n",
       "      <th></th>\n",
       "      <th>rank_test_score</th>\n",
       "      <th>mean_test_score</th>\n",
       "      <th>std_test_score</th>\n",
       "      <th>mean_train_score</th>\n",
       "      <th>std_train_score</th>\n",
       "      <th>mean_fit_time</th>\n",
       "      <th>std_fit_time</th>\n",
       "      <th>mean_score_time</th>\n",
       "      <th>std_score_time</th>\n",
       "      <th>param_model__min_samples_leaf</th>\n",
       "      <th>param_model__min_samples_split</th>\n",
       "      <th>params</th>\n",
       "      <th>split0_test_score</th>\n",
       "      <th>split0_train_score</th>\n",
       "    </tr>\n",
       "  </thead>\n",
       "  <tbody>\n",
       "    <tr>\n",
       "      <th>6</th>\n",
       "      <td>1</td>\n",
       "      <td>0.777969</td>\n",
       "      <td>0.0</td>\n",
       "      <td>0.771858</td>\n",
       "      <td>0.0</td>\n",
       "      <td>0.443637</td>\n",
       "      <td>0.0</td>\n",
       "      <td>0.041894</td>\n",
       "      <td>0.0</td>\n",
       "      <td>100</td>\n",
       "      <td>2</td>\n",
       "      <td>{'model__min_samples_leaf': 100, 'model__min_s...</td>\n",
       "      <td>0.777969</td>\n",
       "      <td>0.771858</td>\n",
       "    </tr>\n",
       "    <tr>\n",
       "      <th>7</th>\n",
       "      <td>1</td>\n",
       "      <td>0.777969</td>\n",
       "      <td>0.0</td>\n",
       "      <td>0.771858</td>\n",
       "      <td>0.0</td>\n",
       "      <td>0.428084</td>\n",
       "      <td>0.0</td>\n",
       "      <td>0.037903</td>\n",
       "      <td>0.0</td>\n",
       "      <td>100</td>\n",
       "      <td>5</td>\n",
       "      <td>{'model__min_samples_leaf': 100, 'model__min_s...</td>\n",
       "      <td>0.777969</td>\n",
       "      <td>0.771858</td>\n",
       "    </tr>\n",
       "    <tr>\n",
       "      <th>8</th>\n",
       "      <td>1</td>\n",
       "      <td>0.777969</td>\n",
       "      <td>0.0</td>\n",
       "      <td>0.771858</td>\n",
       "      <td>0.0</td>\n",
       "      <td>0.404086</td>\n",
       "      <td>0.0</td>\n",
       "      <td>0.038292</td>\n",
       "      <td>0.0</td>\n",
       "      <td>100</td>\n",
       "      <td>10</td>\n",
       "      <td>{'model__min_samples_leaf': 100, 'model__min_s...</td>\n",
       "      <td>0.777969</td>\n",
       "      <td>0.771858</td>\n",
       "    </tr>\n",
       "    <tr>\n",
       "      <th>0</th>\n",
       "      <td>4</td>\n",
       "      <td>0.777925</td>\n",
       "      <td>0.0</td>\n",
       "      <td>0.783718</td>\n",
       "      <td>0.0</td>\n",
       "      <td>0.532796</td>\n",
       "      <td>0.0</td>\n",
       "      <td>0.047931</td>\n",
       "      <td>0.0</td>\n",
       "      <td>50</td>\n",
       "      <td>2</td>\n",
       "      <td>{'model__min_samples_leaf': 50, 'model__min_sa...</td>\n",
       "      <td>0.777925</td>\n",
       "      <td>0.783718</td>\n",
       "    </tr>\n",
       "    <tr>\n",
       "      <th>1</th>\n",
       "      <td>4</td>\n",
       "      <td>0.777925</td>\n",
       "      <td>0.0</td>\n",
       "      <td>0.783718</td>\n",
       "      <td>0.0</td>\n",
       "      <td>0.525226</td>\n",
       "      <td>0.0</td>\n",
       "      <td>0.045173</td>\n",
       "      <td>0.0</td>\n",
       "      <td>50</td>\n",
       "      <td>5</td>\n",
       "      <td>{'model__min_samples_leaf': 50, 'model__min_sa...</td>\n",
       "      <td>0.777925</td>\n",
       "      <td>0.783718</td>\n",
       "    </tr>\n",
       "    <tr>\n",
       "      <th>2</th>\n",
       "      <td>4</td>\n",
       "      <td>0.777925</td>\n",
       "      <td>0.0</td>\n",
       "      <td>0.783718</td>\n",
       "      <td>0.0</td>\n",
       "      <td>0.523500</td>\n",
       "      <td>0.0</td>\n",
       "      <td>0.046729</td>\n",
       "      <td>0.0</td>\n",
       "      <td>50</td>\n",
       "      <td>10</td>\n",
       "      <td>{'model__min_samples_leaf': 50, 'model__min_sa...</td>\n",
       "      <td>0.777925</td>\n",
       "      <td>0.783718</td>\n",
       "    </tr>\n",
       "    <tr>\n",
       "      <th>3</th>\n",
       "      <td>7</td>\n",
       "      <td>0.772367</td>\n",
       "      <td>0.0</td>\n",
       "      <td>0.773796</td>\n",
       "      <td>0.0</td>\n",
       "      <td>0.507775</td>\n",
       "      <td>0.0</td>\n",
       "      <td>0.041900</td>\n",
       "      <td>0.0</td>\n",
       "      <td>75</td>\n",
       "      <td>2</td>\n",
       "      <td>{'model__min_samples_leaf': 75, 'model__min_sa...</td>\n",
       "      <td>0.772367</td>\n",
       "      <td>0.773796</td>\n",
       "    </tr>\n",
       "    <tr>\n",
       "      <th>4</th>\n",
       "      <td>7</td>\n",
       "      <td>0.772367</td>\n",
       "      <td>0.0</td>\n",
       "      <td>0.773796</td>\n",
       "      <td>0.0</td>\n",
       "      <td>0.480251</td>\n",
       "      <td>0.0</td>\n",
       "      <td>0.039921</td>\n",
       "      <td>0.0</td>\n",
       "      <td>75</td>\n",
       "      <td>5</td>\n",
       "      <td>{'model__min_samples_leaf': 75, 'model__min_sa...</td>\n",
       "      <td>0.772367</td>\n",
       "      <td>0.773796</td>\n",
       "    </tr>\n",
       "    <tr>\n",
       "      <th>5</th>\n",
       "      <td>7</td>\n",
       "      <td>0.772367</td>\n",
       "      <td>0.0</td>\n",
       "      <td>0.773796</td>\n",
       "      <td>0.0</td>\n",
       "      <td>0.454637</td>\n",
       "      <td>0.0</td>\n",
       "      <td>0.039043</td>\n",
       "      <td>0.0</td>\n",
       "      <td>75</td>\n",
       "      <td>10</td>\n",
       "      <td>{'model__min_samples_leaf': 75, 'model__min_sa...</td>\n",
       "      <td>0.772367</td>\n",
       "      <td>0.773796</td>\n",
       "    </tr>\n",
       "  </tbody>\n",
       "</table>\n",
       "</div>"
      ],
      "text/plain": [
       "   rank_test_score  mean_test_score  std_test_score  mean_train_score  \\\n",
       "6                1         0.777969             0.0          0.771858   \n",
       "7                1         0.777969             0.0          0.771858   \n",
       "8                1         0.777969             0.0          0.771858   \n",
       "0                4         0.777925             0.0          0.783718   \n",
       "1                4         0.777925             0.0          0.783718   \n",
       "2                4         0.777925             0.0          0.783718   \n",
       "3                7         0.772367             0.0          0.773796   \n",
       "4                7         0.772367             0.0          0.773796   \n",
       "5                7         0.772367             0.0          0.773796   \n",
       "\n",
       "   std_train_score  mean_fit_time  std_fit_time  mean_score_time  \\\n",
       "6              0.0       0.443637           0.0         0.041894   \n",
       "7              0.0       0.428084           0.0         0.037903   \n",
       "8              0.0       0.404086           0.0         0.038292   \n",
       "0              0.0       0.532796           0.0         0.047931   \n",
       "1              0.0       0.525226           0.0         0.045173   \n",
       "2              0.0       0.523500           0.0         0.046729   \n",
       "3              0.0       0.507775           0.0         0.041900   \n",
       "4              0.0       0.480251           0.0         0.039921   \n",
       "5              0.0       0.454637           0.0         0.039043   \n",
       "\n",
       "   std_score_time  param_model__min_samples_leaf  \\\n",
       "6             0.0                            100   \n",
       "7             0.0                            100   \n",
       "8             0.0                            100   \n",
       "0             0.0                             50   \n",
       "1             0.0                             50   \n",
       "2             0.0                             50   \n",
       "3             0.0                             75   \n",
       "4             0.0                             75   \n",
       "5             0.0                             75   \n",
       "\n",
       "   param_model__min_samples_split  \\\n",
       "6                               2   \n",
       "7                               5   \n",
       "8                              10   \n",
       "0                               2   \n",
       "1                               5   \n",
       "2                              10   \n",
       "3                               2   \n",
       "4                               5   \n",
       "5                              10   \n",
       "\n",
       "                                              params  split0_test_score  \\\n",
       "6  {'model__min_samples_leaf': 100, 'model__min_s...           0.777969   \n",
       "7  {'model__min_samples_leaf': 100, 'model__min_s...           0.777969   \n",
       "8  {'model__min_samples_leaf': 100, 'model__min_s...           0.777969   \n",
       "0  {'model__min_samples_leaf': 50, 'model__min_sa...           0.777925   \n",
       "1  {'model__min_samples_leaf': 50, 'model__min_sa...           0.777925   \n",
       "2  {'model__min_samples_leaf': 50, 'model__min_sa...           0.777925   \n",
       "3  {'model__min_samples_leaf': 75, 'model__min_sa...           0.772367   \n",
       "4  {'model__min_samples_leaf': 75, 'model__min_sa...           0.772367   \n",
       "5  {'model__min_samples_leaf': 75, 'model__min_sa...           0.772367   \n",
       "\n",
       "   split0_train_score  \n",
       "6            0.771858  \n",
       "7            0.771858  \n",
       "8            0.771858  \n",
       "0            0.783718  \n",
       "1            0.783718  \n",
       "2            0.783718  \n",
       "3            0.773796  \n",
       "4            0.773796  \n",
       "5            0.773796  "
      ]
     },
     "metadata": {},
     "output_type": "display_data"
    },
    {
     "name": "stdout",
     "output_type": "stream",
     "text": [
      "\n",
      "----------------------------------------------------------------------------------------------------------------------------------------------------------------------------------------------\n",
      "\n",
      "Random Forest Classifier:\n",
      "Parameter tuning started for Random Forest Classifier\n",
      "Fitting 1 folds for each of 12 candidates, totalling 12 fits\n",
      "Parameter tuning is done for Random Forest Classifier\n",
      "Execution time for Random Forest Classifier: 28.9782 seconds \n",
      "\n"
     ]
    },
    {
     "data": {
      "text/html": [
       "<div>\n",
       "<style scoped>\n",
       "    .dataframe tbody tr th:only-of-type {\n",
       "        vertical-align: middle;\n",
       "    }\n",
       "\n",
       "    .dataframe tbody tr th {\n",
       "        vertical-align: top;\n",
       "    }\n",
       "\n",
       "    .dataframe thead th {\n",
       "        text-align: right;\n",
       "    }\n",
       "</style>\n",
       "<table border=\"1\" class=\"dataframe\">\n",
       "  <thead>\n",
       "    <tr style=\"text-align: right;\">\n",
       "      <th></th>\n",
       "      <th>rank_test_score</th>\n",
       "      <th>mean_test_score</th>\n",
       "      <th>std_test_score</th>\n",
       "      <th>mean_train_score</th>\n",
       "      <th>std_train_score</th>\n",
       "      <th>mean_fit_time</th>\n",
       "      <th>std_fit_time</th>\n",
       "      <th>mean_score_time</th>\n",
       "      <th>std_score_time</th>\n",
       "      <th>param_model__min_samples_leaf</th>\n",
       "      <th>param_model__min_samples_split</th>\n",
       "      <th>params</th>\n",
       "      <th>split0_test_score</th>\n",
       "      <th>split0_train_score</th>\n",
       "    </tr>\n",
       "  </thead>\n",
       "  <tbody>\n",
       "    <tr>\n",
       "      <th>4</th>\n",
       "      <td>1</td>\n",
       "      <td>0.796564</td>\n",
       "      <td>0.0</td>\n",
       "      <td>0.825241</td>\n",
       "      <td>0.0</td>\n",
       "      <td>3.739510</td>\n",
       "      <td>0.0</td>\n",
       "      <td>0.168113</td>\n",
       "      <td>0.0</td>\n",
       "      <td>1.0</td>\n",
       "      <td>50</td>\n",
       "      <td>{'model__min_samples_leaf': 1, 'model__min_sam...</td>\n",
       "      <td>0.796564</td>\n",
       "      <td>0.825241</td>\n",
       "    </tr>\n",
       "    <tr>\n",
       "      <th>3</th>\n",
       "      <td>2</td>\n",
       "      <td>0.795629</td>\n",
       "      <td>0.0</td>\n",
       "      <td>0.889979</td>\n",
       "      <td>0.0</td>\n",
       "      <td>4.372025</td>\n",
       "      <td>0.0</td>\n",
       "      <td>0.194828</td>\n",
       "      <td>0.0</td>\n",
       "      <td>1.0</td>\n",
       "      <td>10</td>\n",
       "      <td>{'model__min_samples_leaf': 1, 'model__min_sam...</td>\n",
       "      <td>0.795629</td>\n",
       "      <td>0.889979</td>\n",
       "    </tr>\n",
       "    <tr>\n",
       "      <th>5</th>\n",
       "      <td>3</td>\n",
       "      <td>0.792938</td>\n",
       "      <td>0.0</td>\n",
       "      <td>0.808658</td>\n",
       "      <td>0.0</td>\n",
       "      <td>3.749197</td>\n",
       "      <td>0.0</td>\n",
       "      <td>0.153605</td>\n",
       "      <td>0.0</td>\n",
       "      <td>1.0</td>\n",
       "      <td>100</td>\n",
       "      <td>{'model__min_samples_leaf': 1, 'model__min_sam...</td>\n",
       "      <td>0.792938</td>\n",
       "      <td>0.808658</td>\n",
       "    </tr>\n",
       "    <tr>\n",
       "      <th>6</th>\n",
       "      <td>4</td>\n",
       "      <td>0.792703</td>\n",
       "      <td>0.0</td>\n",
       "      <td>0.811290</td>\n",
       "      <td>0.0</td>\n",
       "      <td>3.781244</td>\n",
       "      <td>0.0</td>\n",
       "      <td>0.170853</td>\n",
       "      <td>0.0</td>\n",
       "      <td>3.0</td>\n",
       "      <td>10</td>\n",
       "      <td>{'model__min_samples_leaf': 3, 'model__min_sam...</td>\n",
       "      <td>0.792703</td>\n",
       "      <td>0.811290</td>\n",
       "    </tr>\n",
       "    <tr>\n",
       "      <th>7</th>\n",
       "      <td>5</td>\n",
       "      <td>0.787059</td>\n",
       "      <td>0.0</td>\n",
       "      <td>0.799534</td>\n",
       "      <td>0.0</td>\n",
       "      <td>3.473020</td>\n",
       "      <td>0.0</td>\n",
       "      <td>0.135167</td>\n",
       "      <td>0.0</td>\n",
       "      <td>3.0</td>\n",
       "      <td>50</td>\n",
       "      <td>{'model__min_samples_leaf': 3, 'model__min_sam...</td>\n",
       "      <td>0.787059</td>\n",
       "      <td>0.799534</td>\n",
       "    </tr>\n",
       "    <tr>\n",
       "      <th>10</th>\n",
       "      <td>6</td>\n",
       "      <td>0.786269</td>\n",
       "      <td>0.0</td>\n",
       "      <td>0.793671</td>\n",
       "      <td>0.0</td>\n",
       "      <td>3.215243</td>\n",
       "      <td>0.0</td>\n",
       "      <td>0.155477</td>\n",
       "      <td>0.0</td>\n",
       "      <td>5.0</td>\n",
       "      <td>50</td>\n",
       "      <td>{'model__min_samples_leaf': 5, 'model__min_sam...</td>\n",
       "      <td>0.786269</td>\n",
       "      <td>0.793671</td>\n",
       "    </tr>\n",
       "    <tr>\n",
       "      <th>9</th>\n",
       "      <td>7</td>\n",
       "      <td>0.785388</td>\n",
       "      <td>0.0</td>\n",
       "      <td>0.797029</td>\n",
       "      <td>0.0</td>\n",
       "      <td>3.299765</td>\n",
       "      <td>0.0</td>\n",
       "      <td>0.164196</td>\n",
       "      <td>0.0</td>\n",
       "      <td>5.0</td>\n",
       "      <td>10</td>\n",
       "      <td>{'model__min_samples_leaf': 5, 'model__min_sam...</td>\n",
       "      <td>0.785388</td>\n",
       "      <td>0.797029</td>\n",
       "    </tr>\n",
       "    <tr>\n",
       "      <th>11</th>\n",
       "      <td>8</td>\n",
       "      <td>0.785314</td>\n",
       "      <td>0.0</td>\n",
       "      <td>0.790501</td>\n",
       "      <td>0.0</td>\n",
       "      <td>3.117904</td>\n",
       "      <td>0.0</td>\n",
       "      <td>0.135673</td>\n",
       "      <td>0.0</td>\n",
       "      <td>5.0</td>\n",
       "      <td>100</td>\n",
       "      <td>{'model__min_samples_leaf': 5, 'model__min_sam...</td>\n",
       "      <td>0.785314</td>\n",
       "      <td>0.790501</td>\n",
       "    </tr>\n",
       "    <tr>\n",
       "      <th>8</th>\n",
       "      <td>9</td>\n",
       "      <td>0.785163</td>\n",
       "      <td>0.0</td>\n",
       "      <td>0.794564</td>\n",
       "      <td>0.0</td>\n",
       "      <td>3.293961</td>\n",
       "      <td>0.0</td>\n",
       "      <td>0.137157</td>\n",
       "      <td>0.0</td>\n",
       "      <td>3.0</td>\n",
       "      <td>100</td>\n",
       "      <td>{'model__min_samples_leaf': 3, 'model__min_sam...</td>\n",
       "      <td>0.785163</td>\n",
       "      <td>0.794564</td>\n",
       "    </tr>\n",
       "    <tr>\n",
       "      <th>0</th>\n",
       "      <td>10</td>\n",
       "      <td>0.202732</td>\n",
       "      <td>0.0</td>\n",
       "      <td>0.197582</td>\n",
       "      <td>0.0</td>\n",
       "      <td>0.503190</td>\n",
       "      <td>0.0</td>\n",
       "      <td>0.046250</td>\n",
       "      <td>0.0</td>\n",
       "      <td>0.9</td>\n",
       "      <td>10</td>\n",
       "      <td>{'model__min_samples_leaf': 0.9, 'model__min_s...</td>\n",
       "      <td>0.202732</td>\n",
       "      <td>0.197582</td>\n",
       "    </tr>\n",
       "    <tr>\n",
       "      <th>1</th>\n",
       "      <td>10</td>\n",
       "      <td>0.202732</td>\n",
       "      <td>0.0</td>\n",
       "      <td>0.197582</td>\n",
       "      <td>0.0</td>\n",
       "      <td>0.580184</td>\n",
       "      <td>0.0</td>\n",
       "      <td>0.045858</td>\n",
       "      <td>0.0</td>\n",
       "      <td>0.9</td>\n",
       "      <td>50</td>\n",
       "      <td>{'model__min_samples_leaf': 0.9, 'model__min_s...</td>\n",
       "      <td>0.202732</td>\n",
       "      <td>0.197582</td>\n",
       "    </tr>\n",
       "    <tr>\n",
       "      <th>2</th>\n",
       "      <td>10</td>\n",
       "      <td>0.202732</td>\n",
       "      <td>0.0</td>\n",
       "      <td>0.197582</td>\n",
       "      <td>0.0</td>\n",
       "      <td>0.608448</td>\n",
       "      <td>0.0</td>\n",
       "      <td>0.049123</td>\n",
       "      <td>0.0</td>\n",
       "      <td>0.9</td>\n",
       "      <td>100</td>\n",
       "      <td>{'model__min_samples_leaf': 0.9, 'model__min_s...</td>\n",
       "      <td>0.202732</td>\n",
       "      <td>0.197582</td>\n",
       "    </tr>\n",
       "  </tbody>\n",
       "</table>\n",
       "</div>"
      ],
      "text/plain": [
       "    rank_test_score  mean_test_score  std_test_score  mean_train_score  \\\n",
       "4                 1         0.796564             0.0          0.825241   \n",
       "3                 2         0.795629             0.0          0.889979   \n",
       "5                 3         0.792938             0.0          0.808658   \n",
       "6                 4         0.792703             0.0          0.811290   \n",
       "7                 5         0.787059             0.0          0.799534   \n",
       "10                6         0.786269             0.0          0.793671   \n",
       "9                 7         0.785388             0.0          0.797029   \n",
       "11                8         0.785314             0.0          0.790501   \n",
       "8                 9         0.785163             0.0          0.794564   \n",
       "0                10         0.202732             0.0          0.197582   \n",
       "1                10         0.202732             0.0          0.197582   \n",
       "2                10         0.202732             0.0          0.197582   \n",
       "\n",
       "    std_train_score  mean_fit_time  std_fit_time  mean_score_time  \\\n",
       "4               0.0       3.739510           0.0         0.168113   \n",
       "3               0.0       4.372025           0.0         0.194828   \n",
       "5               0.0       3.749197           0.0         0.153605   \n",
       "6               0.0       3.781244           0.0         0.170853   \n",
       "7               0.0       3.473020           0.0         0.135167   \n",
       "10              0.0       3.215243           0.0         0.155477   \n",
       "9               0.0       3.299765           0.0         0.164196   \n",
       "11              0.0       3.117904           0.0         0.135673   \n",
       "8               0.0       3.293961           0.0         0.137157   \n",
       "0               0.0       0.503190           0.0         0.046250   \n",
       "1               0.0       0.580184           0.0         0.045858   \n",
       "2               0.0       0.608448           0.0         0.049123   \n",
       "\n",
       "    std_score_time  param_model__min_samples_leaf  \\\n",
       "4              0.0                            1.0   \n",
       "3              0.0                            1.0   \n",
       "5              0.0                            1.0   \n",
       "6              0.0                            3.0   \n",
       "7              0.0                            3.0   \n",
       "10             0.0                            5.0   \n",
       "9              0.0                            5.0   \n",
       "11             0.0                            5.0   \n",
       "8              0.0                            3.0   \n",
       "0              0.0                            0.9   \n",
       "1              0.0                            0.9   \n",
       "2              0.0                            0.9   \n",
       "\n",
       "    param_model__min_samples_split  \\\n",
       "4                               50   \n",
       "3                               10   \n",
       "5                              100   \n",
       "6                               10   \n",
       "7                               50   \n",
       "10                              50   \n",
       "9                               10   \n",
       "11                             100   \n",
       "8                              100   \n",
       "0                               10   \n",
       "1                               50   \n",
       "2                              100   \n",
       "\n",
       "                                               params  split0_test_score  \\\n",
       "4   {'model__min_samples_leaf': 1, 'model__min_sam...           0.796564   \n",
       "3   {'model__min_samples_leaf': 1, 'model__min_sam...           0.795629   \n",
       "5   {'model__min_samples_leaf': 1, 'model__min_sam...           0.792938   \n",
       "6   {'model__min_samples_leaf': 3, 'model__min_sam...           0.792703   \n",
       "7   {'model__min_samples_leaf': 3, 'model__min_sam...           0.787059   \n",
       "10  {'model__min_samples_leaf': 5, 'model__min_sam...           0.786269   \n",
       "9   {'model__min_samples_leaf': 5, 'model__min_sam...           0.785388   \n",
       "11  {'model__min_samples_leaf': 5, 'model__min_sam...           0.785314   \n",
       "8   {'model__min_samples_leaf': 3, 'model__min_sam...           0.785163   \n",
       "0   {'model__min_samples_leaf': 0.9, 'model__min_s...           0.202732   \n",
       "1   {'model__min_samples_leaf': 0.9, 'model__min_s...           0.202732   \n",
       "2   {'model__min_samples_leaf': 0.9, 'model__min_s...           0.202732   \n",
       "\n",
       "    split0_train_score  \n",
       "4             0.825241  \n",
       "3             0.889979  \n",
       "5             0.808658  \n",
       "6             0.811290  \n",
       "7             0.799534  \n",
       "10            0.793671  \n",
       "9             0.797029  \n",
       "11            0.790501  \n",
       "8             0.794564  \n",
       "0             0.197582  \n",
       "1             0.197582  \n",
       "2             0.197582  "
      ]
     },
     "metadata": {},
     "output_type": "display_data"
    },
    {
     "name": "stdout",
     "output_type": "stream",
     "text": [
      "\n",
      "----------------------------------------------------------------------------------------------------------------------------------------------------------------------------------------------\n",
      "\n",
      "GradientBoosting Classifier:\n",
      "Parameter tuning started for GradientBoosting Classifier\n",
      "Fitting 1 folds for each of 12 candidates, totalling 12 fits\n",
      "Parameter tuning is done for GradientBoosting Classifier\n",
      "Execution time for GradientBoosting Classifier: 68.1616 seconds \n",
      "\n"
     ]
    },
    {
     "data": {
      "text/html": [
       "<div>\n",
       "<style scoped>\n",
       "    .dataframe tbody tr th:only-of-type {\n",
       "        vertical-align: middle;\n",
       "    }\n",
       "\n",
       "    .dataframe tbody tr th {\n",
       "        vertical-align: top;\n",
       "    }\n",
       "\n",
       "    .dataframe thead th {\n",
       "        text-align: right;\n",
       "    }\n",
       "</style>\n",
       "<table border=\"1\" class=\"dataframe\">\n",
       "  <thead>\n",
       "    <tr style=\"text-align: right;\">\n",
       "      <th></th>\n",
       "      <th>rank_test_score</th>\n",
       "      <th>mean_test_score</th>\n",
       "      <th>std_test_score</th>\n",
       "      <th>mean_train_score</th>\n",
       "      <th>std_train_score</th>\n",
       "      <th>mean_fit_time</th>\n",
       "      <th>std_fit_time</th>\n",
       "      <th>mean_score_time</th>\n",
       "      <th>std_score_time</th>\n",
       "      <th>param_model__learning_rate</th>\n",
       "      <th>param_model__max_depth</th>\n",
       "      <th>param_model__min_samples_leaf</th>\n",
       "      <th>param_model__min_samples_split</th>\n",
       "      <th>param_model__n_estimators</th>\n",
       "      <th>param_model__subsample</th>\n",
       "      <th>params</th>\n",
       "      <th>split0_test_score</th>\n",
       "      <th>split0_train_score</th>\n",
       "    </tr>\n",
       "  </thead>\n",
       "  <tbody>\n",
       "    <tr>\n",
       "      <th>5</th>\n",
       "      <td>1</td>\n",
       "      <td>0.802002</td>\n",
       "      <td>0.0</td>\n",
       "      <td>0.826607</td>\n",
       "      <td>0.0</td>\n",
       "      <td>9.478559</td>\n",
       "      <td>0.0</td>\n",
       "      <td>0.066335</td>\n",
       "      <td>0.0</td>\n",
       "      <td>0.3</td>\n",
       "      <td>8</td>\n",
       "      <td>50</td>\n",
       "      <td>500</td>\n",
       "      <td>40</td>\n",
       "      <td>0.8</td>\n",
       "      <td>{'model__learning_rate': 0.3, 'model__max_dept...</td>\n",
       "      <td>0.802002</td>\n",
       "      <td>0.826607</td>\n",
       "    </tr>\n",
       "    <tr>\n",
       "      <th>6</th>\n",
       "      <td>2</td>\n",
       "      <td>0.799953</td>\n",
       "      <td>0.0</td>\n",
       "      <td>0.828675</td>\n",
       "      <td>0.0</td>\n",
       "      <td>9.790354</td>\n",
       "      <td>0.0</td>\n",
       "      <td>0.056207</td>\n",
       "      <td>0.0</td>\n",
       "      <td>0.3</td>\n",
       "      <td>8</td>\n",
       "      <td>75</td>\n",
       "      <td>100</td>\n",
       "      <td>40</td>\n",
       "      <td>0.8</td>\n",
       "      <td>{'model__learning_rate': 0.3, 'model__max_dept...</td>\n",
       "      <td>0.799953</td>\n",
       "      <td>0.828675</td>\n",
       "    </tr>\n",
       "    <tr>\n",
       "      <th>3</th>\n",
       "      <td>3</td>\n",
       "      <td>0.799014</td>\n",
       "      <td>0.0</td>\n",
       "      <td>0.831488</td>\n",
       "      <td>0.0</td>\n",
       "      <td>9.388532</td>\n",
       "      <td>0.0</td>\n",
       "      <td>0.070796</td>\n",
       "      <td>0.0</td>\n",
       "      <td>0.3</td>\n",
       "      <td>8</td>\n",
       "      <td>50</td>\n",
       "      <td>100</td>\n",
       "      <td>40</td>\n",
       "      <td>0.8</td>\n",
       "      <td>{'model__learning_rate': 0.3, 'model__max_dept...</td>\n",
       "      <td>0.799014</td>\n",
       "      <td>0.831488</td>\n",
       "    </tr>\n",
       "    <tr>\n",
       "      <th>8</th>\n",
       "      <td>4</td>\n",
       "      <td>0.799002</td>\n",
       "      <td>0.0</td>\n",
       "      <td>0.823248</td>\n",
       "      <td>0.0</td>\n",
       "      <td>10.018849</td>\n",
       "      <td>0.0</td>\n",
       "      <td>0.059763</td>\n",
       "      <td>0.0</td>\n",
       "      <td>0.3</td>\n",
       "      <td>8</td>\n",
       "      <td>75</td>\n",
       "      <td>500</td>\n",
       "      <td>40</td>\n",
       "      <td>0.8</td>\n",
       "      <td>{'model__learning_rate': 0.3, 'model__max_dept...</td>\n",
       "      <td>0.799002</td>\n",
       "      <td>0.823248</td>\n",
       "    </tr>\n",
       "    <tr>\n",
       "      <th>10</th>\n",
       "      <td>5</td>\n",
       "      <td>0.798920</td>\n",
       "      <td>0.0</td>\n",
       "      <td>0.825210</td>\n",
       "      <td>0.0</td>\n",
       "      <td>9.565602</td>\n",
       "      <td>0.0</td>\n",
       "      <td>0.054077</td>\n",
       "      <td>0.0</td>\n",
       "      <td>0.3</td>\n",
       "      <td>8</td>\n",
       "      <td>100</td>\n",
       "      <td>250</td>\n",
       "      <td>40</td>\n",
       "      <td>0.8</td>\n",
       "      <td>{'model__learning_rate': 0.3, 'model__max_dept...</td>\n",
       "      <td>0.798920</td>\n",
       "      <td>0.825210</td>\n",
       "    </tr>\n",
       "    <tr>\n",
       "      <th>9</th>\n",
       "      <td>6</td>\n",
       "      <td>0.798621</td>\n",
       "      <td>0.0</td>\n",
       "      <td>0.825271</td>\n",
       "      <td>0.0</td>\n",
       "      <td>9.946554</td>\n",
       "      <td>0.0</td>\n",
       "      <td>0.060660</td>\n",
       "      <td>0.0</td>\n",
       "      <td>0.3</td>\n",
       "      <td>8</td>\n",
       "      <td>100</td>\n",
       "      <td>100</td>\n",
       "      <td>40</td>\n",
       "      <td>0.8</td>\n",
       "      <td>{'model__learning_rate': 0.3, 'model__max_dept...</td>\n",
       "      <td>0.798621</td>\n",
       "      <td>0.825271</td>\n",
       "    </tr>\n",
       "    <tr>\n",
       "      <th>0</th>\n",
       "      <td>7</td>\n",
       "      <td>0.797362</td>\n",
       "      <td>0.0</td>\n",
       "      <td>0.836347</td>\n",
       "      <td>0.0</td>\n",
       "      <td>9.490401</td>\n",
       "      <td>0.0</td>\n",
       "      <td>0.061779</td>\n",
       "      <td>0.0</td>\n",
       "      <td>0.3</td>\n",
       "      <td>8</td>\n",
       "      <td>25</td>\n",
       "      <td>100</td>\n",
       "      <td>40</td>\n",
       "      <td>0.8</td>\n",
       "      <td>{'model__learning_rate': 0.3, 'model__max_dept...</td>\n",
       "      <td>0.797362</td>\n",
       "      <td>0.836347</td>\n",
       "    </tr>\n",
       "    <tr>\n",
       "      <th>4</th>\n",
       "      <td>8</td>\n",
       "      <td>0.797322</td>\n",
       "      <td>0.0</td>\n",
       "      <td>0.829079</td>\n",
       "      <td>0.0</td>\n",
       "      <td>9.532293</td>\n",
       "      <td>0.0</td>\n",
       "      <td>0.054835</td>\n",
       "      <td>0.0</td>\n",
       "      <td>0.3</td>\n",
       "      <td>8</td>\n",
       "      <td>50</td>\n",
       "      <td>250</td>\n",
       "      <td>40</td>\n",
       "      <td>0.8</td>\n",
       "      <td>{'model__learning_rate': 0.3, 'model__max_dept...</td>\n",
       "      <td>0.797322</td>\n",
       "      <td>0.829079</td>\n",
       "    </tr>\n",
       "    <tr>\n",
       "      <th>7</th>\n",
       "      <td>9</td>\n",
       "      <td>0.796874</td>\n",
       "      <td>0.0</td>\n",
       "      <td>0.827342</td>\n",
       "      <td>0.0</td>\n",
       "      <td>9.673643</td>\n",
       "      <td>0.0</td>\n",
       "      <td>0.107158</td>\n",
       "      <td>0.0</td>\n",
       "      <td>0.3</td>\n",
       "      <td>8</td>\n",
       "      <td>75</td>\n",
       "      <td>250</td>\n",
       "      <td>40</td>\n",
       "      <td>0.8</td>\n",
       "      <td>{'model__learning_rate': 0.3, 'model__max_dept...</td>\n",
       "      <td>0.796874</td>\n",
       "      <td>0.827342</td>\n",
       "    </tr>\n",
       "    <tr>\n",
       "      <th>2</th>\n",
       "      <td>10</td>\n",
       "      <td>0.796697</td>\n",
       "      <td>0.0</td>\n",
       "      <td>0.825826</td>\n",
       "      <td>0.0</td>\n",
       "      <td>9.403579</td>\n",
       "      <td>0.0</td>\n",
       "      <td>0.056762</td>\n",
       "      <td>0.0</td>\n",
       "      <td>0.3</td>\n",
       "      <td>8</td>\n",
       "      <td>25</td>\n",
       "      <td>500</td>\n",
       "      <td>40</td>\n",
       "      <td>0.8</td>\n",
       "      <td>{'model__learning_rate': 0.3, 'model__max_dept...</td>\n",
       "      <td>0.796697</td>\n",
       "      <td>0.825826</td>\n",
       "    </tr>\n",
       "    <tr>\n",
       "      <th>11</th>\n",
       "      <td>11</td>\n",
       "      <td>0.794152</td>\n",
       "      <td>0.0</td>\n",
       "      <td>0.823807</td>\n",
       "      <td>0.0</td>\n",
       "      <td>9.436072</td>\n",
       "      <td>0.0</td>\n",
       "      <td>0.051999</td>\n",
       "      <td>0.0</td>\n",
       "      <td>0.3</td>\n",
       "      <td>8</td>\n",
       "      <td>100</td>\n",
       "      <td>500</td>\n",
       "      <td>40</td>\n",
       "      <td>0.8</td>\n",
       "      <td>{'model__learning_rate': 0.3, 'model__max_dept...</td>\n",
       "      <td>0.794152</td>\n",
       "      <td>0.823807</td>\n",
       "    </tr>\n",
       "    <tr>\n",
       "      <th>1</th>\n",
       "      <td>12</td>\n",
       "      <td>0.792167</td>\n",
       "      <td>0.0</td>\n",
       "      <td>0.828532</td>\n",
       "      <td>0.0</td>\n",
       "      <td>9.650312</td>\n",
       "      <td>0.0</td>\n",
       "      <td>0.063502</td>\n",
       "      <td>0.0</td>\n",
       "      <td>0.3</td>\n",
       "      <td>8</td>\n",
       "      <td>25</td>\n",
       "      <td>250</td>\n",
       "      <td>40</td>\n",
       "      <td>0.8</td>\n",
       "      <td>{'model__learning_rate': 0.3, 'model__max_dept...</td>\n",
       "      <td>0.792167</td>\n",
       "      <td>0.828532</td>\n",
       "    </tr>\n",
       "  </tbody>\n",
       "</table>\n",
       "</div>"
      ],
      "text/plain": [
       "    rank_test_score  mean_test_score  std_test_score  mean_train_score  \\\n",
       "5                 1         0.802002             0.0          0.826607   \n",
       "6                 2         0.799953             0.0          0.828675   \n",
       "3                 3         0.799014             0.0          0.831488   \n",
       "8                 4         0.799002             0.0          0.823248   \n",
       "10                5         0.798920             0.0          0.825210   \n",
       "9                 6         0.798621             0.0          0.825271   \n",
       "0                 7         0.797362             0.0          0.836347   \n",
       "4                 8         0.797322             0.0          0.829079   \n",
       "7                 9         0.796874             0.0          0.827342   \n",
       "2                10         0.796697             0.0          0.825826   \n",
       "11               11         0.794152             0.0          0.823807   \n",
       "1                12         0.792167             0.0          0.828532   \n",
       "\n",
       "    std_train_score  mean_fit_time  std_fit_time  mean_score_time  \\\n",
       "5               0.0       9.478559           0.0         0.066335   \n",
       "6               0.0       9.790354           0.0         0.056207   \n",
       "3               0.0       9.388532           0.0         0.070796   \n",
       "8               0.0      10.018849           0.0         0.059763   \n",
       "10              0.0       9.565602           0.0         0.054077   \n",
       "9               0.0       9.946554           0.0         0.060660   \n",
       "0               0.0       9.490401           0.0         0.061779   \n",
       "4               0.0       9.532293           0.0         0.054835   \n",
       "7               0.0       9.673643           0.0         0.107158   \n",
       "2               0.0       9.403579           0.0         0.056762   \n",
       "11              0.0       9.436072           0.0         0.051999   \n",
       "1               0.0       9.650312           0.0         0.063502   \n",
       "\n",
       "    std_score_time  param_model__learning_rate  param_model__max_depth  \\\n",
       "5              0.0                         0.3                       8   \n",
       "6              0.0                         0.3                       8   \n",
       "3              0.0                         0.3                       8   \n",
       "8              0.0                         0.3                       8   \n",
       "10             0.0                         0.3                       8   \n",
       "9              0.0                         0.3                       8   \n",
       "0              0.0                         0.3                       8   \n",
       "4              0.0                         0.3                       8   \n",
       "7              0.0                         0.3                       8   \n",
       "2              0.0                         0.3                       8   \n",
       "11             0.0                         0.3                       8   \n",
       "1              0.0                         0.3                       8   \n",
       "\n",
       "    param_model__min_samples_leaf  param_model__min_samples_split  \\\n",
       "5                              50                             500   \n",
       "6                              75                             100   \n",
       "3                              50                             100   \n",
       "8                              75                             500   \n",
       "10                            100                             250   \n",
       "9                             100                             100   \n",
       "0                              25                             100   \n",
       "4                              50                             250   \n",
       "7                              75                             250   \n",
       "2                              25                             500   \n",
       "11                            100                             500   \n",
       "1                              25                             250   \n",
       "\n",
       "    param_model__n_estimators  param_model__subsample  \\\n",
       "5                          40                     0.8   \n",
       "6                          40                     0.8   \n",
       "3                          40                     0.8   \n",
       "8                          40                     0.8   \n",
       "10                         40                     0.8   \n",
       "9                          40                     0.8   \n",
       "0                          40                     0.8   \n",
       "4                          40                     0.8   \n",
       "7                          40                     0.8   \n",
       "2                          40                     0.8   \n",
       "11                         40                     0.8   \n",
       "1                          40                     0.8   \n",
       "\n",
       "                                               params  split0_test_score  \\\n",
       "5   {'model__learning_rate': 0.3, 'model__max_dept...           0.802002   \n",
       "6   {'model__learning_rate': 0.3, 'model__max_dept...           0.799953   \n",
       "3   {'model__learning_rate': 0.3, 'model__max_dept...           0.799014   \n",
       "8   {'model__learning_rate': 0.3, 'model__max_dept...           0.799002   \n",
       "10  {'model__learning_rate': 0.3, 'model__max_dept...           0.798920   \n",
       "9   {'model__learning_rate': 0.3, 'model__max_dept...           0.798621   \n",
       "0   {'model__learning_rate': 0.3, 'model__max_dept...           0.797362   \n",
       "4   {'model__learning_rate': 0.3, 'model__max_dept...           0.797322   \n",
       "7   {'model__learning_rate': 0.3, 'model__max_dept...           0.796874   \n",
       "2   {'model__learning_rate': 0.3, 'model__max_dept...           0.796697   \n",
       "11  {'model__learning_rate': 0.3, 'model__max_dept...           0.794152   \n",
       "1   {'model__learning_rate': 0.3, 'model__max_dept...           0.792167   \n",
       "\n",
       "    split0_train_score  \n",
       "5             0.826607  \n",
       "6             0.828675  \n",
       "3             0.831488  \n",
       "8             0.823248  \n",
       "10            0.825210  \n",
       "9             0.825271  \n",
       "0             0.836347  \n",
       "4             0.829079  \n",
       "7             0.827342  \n",
       "2             0.825826  \n",
       "11            0.823807  \n",
       "1             0.828532  "
      ]
     },
     "metadata": {},
     "output_type": "display_data"
    },
    {
     "name": "stdout",
     "output_type": "stream",
     "text": [
      "\n",
      "----------------------------------------------------------------------------------------------------------------------------------------------------------------------------------------------\n",
      "\n",
      "AdaBoost Classifier:\n",
      "Parameter tuning started for AdaBoost Classifier\n",
      "Fitting 1 folds for each of 7 candidates, totalling 7 fits\n",
      "Parameter tuning is done for AdaBoost Classifier\n",
      "Execution time for AdaBoost Classifier: 297.8931 seconds \n",
      "\n"
     ]
    },
    {
     "data": {
      "text/html": [
       "<div>\n",
       "<style scoped>\n",
       "    .dataframe tbody tr th:only-of-type {\n",
       "        vertical-align: middle;\n",
       "    }\n",
       "\n",
       "    .dataframe tbody tr th {\n",
       "        vertical-align: top;\n",
       "    }\n",
       "\n",
       "    .dataframe thead th {\n",
       "        text-align: right;\n",
       "    }\n",
       "</style>\n",
       "<table border=\"1\" class=\"dataframe\">\n",
       "  <thead>\n",
       "    <tr style=\"text-align: right;\">\n",
       "      <th></th>\n",
       "      <th>rank_test_score</th>\n",
       "      <th>mean_test_score</th>\n",
       "      <th>std_test_score</th>\n",
       "      <th>mean_train_score</th>\n",
       "      <th>std_train_score</th>\n",
       "      <th>mean_fit_time</th>\n",
       "      <th>std_fit_time</th>\n",
       "      <th>mean_score_time</th>\n",
       "      <th>std_score_time</th>\n",
       "      <th>param_model__n_estimators</th>\n",
       "      <th>params</th>\n",
       "      <th>split0_test_score</th>\n",
       "      <th>split0_train_score</th>\n",
       "    </tr>\n",
       "  </thead>\n",
       "  <tbody>\n",
       "    <tr>\n",
       "      <th>0</th>\n",
       "      <td>1</td>\n",
       "      <td>0.793320</td>\n",
       "      <td>0.0</td>\n",
       "      <td>0.788393</td>\n",
       "      <td>0.0</td>\n",
       "      <td>18.674231</td>\n",
       "      <td>0.0</td>\n",
       "      <td>2.040284</td>\n",
       "      <td>0.0</td>\n",
       "      <td>50</td>\n",
       "      <td>{'model__n_estimators': 50}</td>\n",
       "      <td>0.793320</td>\n",
       "      <td>0.788393</td>\n",
       "    </tr>\n",
       "    <tr>\n",
       "      <th>4</th>\n",
       "      <td>2</td>\n",
       "      <td>0.788837</td>\n",
       "      <td>0.0</td>\n",
       "      <td>0.794279</td>\n",
       "      <td>0.0</td>\n",
       "      <td>54.621016</td>\n",
       "      <td>0.0</td>\n",
       "      <td>5.903436</td>\n",
       "      <td>0.0</td>\n",
       "      <td>150</td>\n",
       "      <td>{'model__n_estimators': 150}</td>\n",
       "      <td>0.788837</td>\n",
       "      <td>0.794279</td>\n",
       "    </tr>\n",
       "    <tr>\n",
       "      <th>1</th>\n",
       "      <td>3</td>\n",
       "      <td>0.788642</td>\n",
       "      <td>0.0</td>\n",
       "      <td>0.789887</td>\n",
       "      <td>0.0</td>\n",
       "      <td>27.552853</td>\n",
       "      <td>0.0</td>\n",
       "      <td>2.956101</td>\n",
       "      <td>0.0</td>\n",
       "      <td>75</td>\n",
       "      <td>{'model__n_estimators': 75}</td>\n",
       "      <td>0.788642</td>\n",
       "      <td>0.789887</td>\n",
       "    </tr>\n",
       "    <tr>\n",
       "      <th>5</th>\n",
       "      <td>4</td>\n",
       "      <td>0.788569</td>\n",
       "      <td>0.0</td>\n",
       "      <td>0.795536</td>\n",
       "      <td>0.0</td>\n",
       "      <td>63.063454</td>\n",
       "      <td>0.0</td>\n",
       "      <td>6.956146</td>\n",
       "      <td>0.0</td>\n",
       "      <td>175</td>\n",
       "      <td>{'model__n_estimators': 175}</td>\n",
       "      <td>0.788569</td>\n",
       "      <td>0.795536</td>\n",
       "    </tr>\n",
       "    <tr>\n",
       "      <th>6</th>\n",
       "      <td>5</td>\n",
       "      <td>0.786053</td>\n",
       "      <td>0.0</td>\n",
       "      <td>0.796325</td>\n",
       "      <td>0.0</td>\n",
       "      <td>71.141048</td>\n",
       "      <td>0.0</td>\n",
       "      <td>7.675160</td>\n",
       "      <td>0.0</td>\n",
       "      <td>200</td>\n",
       "      <td>{'model__n_estimators': 200}</td>\n",
       "      <td>0.786053</td>\n",
       "      <td>0.796325</td>\n",
       "    </tr>\n",
       "    <tr>\n",
       "      <th>3</th>\n",
       "      <td>6</td>\n",
       "      <td>0.785383</td>\n",
       "      <td>0.0</td>\n",
       "      <td>0.792420</td>\n",
       "      <td>0.0</td>\n",
       "      <td>44.966056</td>\n",
       "      <td>0.0</td>\n",
       "      <td>4.980326</td>\n",
       "      <td>0.0</td>\n",
       "      <td>125</td>\n",
       "      <td>{'model__n_estimators': 125}</td>\n",
       "      <td>0.785383</td>\n",
       "      <td>0.792420</td>\n",
       "    </tr>\n",
       "    <tr>\n",
       "      <th>2</th>\n",
       "      <td>7</td>\n",
       "      <td>0.784964</td>\n",
       "      <td>0.0</td>\n",
       "      <td>0.791249</td>\n",
       "      <td>0.0</td>\n",
       "      <td>36.175189</td>\n",
       "      <td>0.0</td>\n",
       "      <td>4.035005</td>\n",
       "      <td>0.0</td>\n",
       "      <td>100</td>\n",
       "      <td>{'model__n_estimators': 100}</td>\n",
       "      <td>0.784964</td>\n",
       "      <td>0.791249</td>\n",
       "    </tr>\n",
       "  </tbody>\n",
       "</table>\n",
       "</div>"
      ],
      "text/plain": [
       "   rank_test_score  mean_test_score  std_test_score  mean_train_score  \\\n",
       "0                1         0.793320             0.0          0.788393   \n",
       "4                2         0.788837             0.0          0.794279   \n",
       "1                3         0.788642             0.0          0.789887   \n",
       "5                4         0.788569             0.0          0.795536   \n",
       "6                5         0.786053             0.0          0.796325   \n",
       "3                6         0.785383             0.0          0.792420   \n",
       "2                7         0.784964             0.0          0.791249   \n",
       "\n",
       "   std_train_score  mean_fit_time  std_fit_time  mean_score_time  \\\n",
       "0              0.0      18.674231           0.0         2.040284   \n",
       "4              0.0      54.621016           0.0         5.903436   \n",
       "1              0.0      27.552853           0.0         2.956101   \n",
       "5              0.0      63.063454           0.0         6.956146   \n",
       "6              0.0      71.141048           0.0         7.675160   \n",
       "3              0.0      44.966056           0.0         4.980326   \n",
       "2              0.0      36.175189           0.0         4.035005   \n",
       "\n",
       "   std_score_time  param_model__n_estimators                        params  \\\n",
       "0             0.0                         50   {'model__n_estimators': 50}   \n",
       "4             0.0                        150  {'model__n_estimators': 150}   \n",
       "1             0.0                         75   {'model__n_estimators': 75}   \n",
       "5             0.0                        175  {'model__n_estimators': 175}   \n",
       "6             0.0                        200  {'model__n_estimators': 200}   \n",
       "3             0.0                        125  {'model__n_estimators': 125}   \n",
       "2             0.0                        100  {'model__n_estimators': 100}   \n",
       "\n",
       "   split0_test_score  split0_train_score  \n",
       "0           0.793320            0.788393  \n",
       "4           0.788837            0.794279  \n",
       "1           0.788642            0.789887  \n",
       "5           0.788569            0.795536  \n",
       "6           0.786053            0.796325  \n",
       "3           0.785383            0.792420  \n",
       "2           0.784964            0.791249  "
      ]
     },
     "metadata": {},
     "output_type": "display_data"
    },
    {
     "name": "stdout",
     "output_type": "stream",
     "text": [
      "\n",
      "----------------------------------------------------------------------------------------------------------------------------------------------------------------------------------------------\n",
      "\n"
     ]
    }
   ],
   "source": [
    "from sklearn.model_selection import GridSearchCV\n",
    "import time\n",
    "from IPython.display import display\n",
    "\n",
    "# The list of [best_score_, best_params_, best_estimator_] obtained by GridSearchCV\n",
    "best_score_params_estimator_gs = []\n",
    "\n",
    "# For each model\n",
    "for acronym in pipes.keys():\n",
    "\n",
    "    print(f\"{acronym}:\")\n",
    "\n",
    "    # GridSearchCV\n",
    "    gs = GridSearchCV(estimator=pipes[acronym],\n",
    "                      param_grid=param_grids[acronym],\n",
    "                      scoring='f1_macro',\n",
    "                      n_jobs=2,\n",
    "                      cv=ps,\n",
    "                      return_train_score=True,\n",
    "                      verbose=1)\n",
    "\n",
    "    print(f'Parameter tuning started for {acronym}')\n",
    "    start_time = time.time()\n",
    "\n",
    "    # Fit the pipeline\n",
    "    gs = gs.fit(X_train_val, y_train_val)\n",
    "\n",
    "    # Update best_score_params_estimator_gs\n",
    "    best_score_params_estimator_gs.append([gs.best_score_, gs.best_params_, gs.best_estimator_])\n",
    "\n",
    "    # Sort cv_results in ascending order of 'rank_test_score' and 'std_test_score'\n",
    "    cv_results = pd.DataFrame.from_dict(gs.cv_results_).sort_values(by=['rank_test_score', 'std_test_score'])\n",
    "\n",
    "    # Get the important columns in cv_results\n",
    "    important_columns = ['rank_test_score',\n",
    "                         'mean_test_score',\n",
    "                         'std_test_score',\n",
    "                         'mean_train_score',\n",
    "                         'std_train_score',\n",
    "                         'mean_fit_time',\n",
    "                         'std_fit_time',\n",
    "                         'mean_score_time',\n",
    "                         'std_score_time']\n",
    "\n",
    "    # Move the important columns ahead\n",
    "    cv_results = cv_results[important_columns + sorted(list(set(cv_results.columns) - set(important_columns)))]\n",
    "\n",
    "    # print estimator status\n",
    "    print(f'Parameter tuning is done for {acronym}')\n",
    "\n",
    "    # calculating time taken by each classifier for parameter tuning\n",
    "    end_time = time.time()\n",
    "    execution_time = end_time - start_time\n",
    "    print(f\"Execution time for {acronym}: {execution_time:.4f} seconds \\n\")\n",
    "\n",
    "    # display cv_results\n",
    "    display(cv_results)\n",
    "\n",
    "    # adding line space before displaying next estimator status\n",
    "    print(\"\\n----------------------------------------------------------------------------------------------------------------------------------------------------------------------------------------------\\n\")\n"
   ]
  },
  {
   "cell_type": "markdown",
   "metadata": {
    "id": "abAn6Qhzpc2M"
   },
   "source": [
    "\n",
    "In the above cell, the results for multiple models, each undergoing hyperparameter tuning using GridSearchCV.\n",
    "- The results are sorted by test score ranking and displayed with relevant metrics like mean test score, training score, and execution time.\n",
    "- This process is repeated for all models in the pipes dictionary, giving a comprehensive overview of their performance after hyperparameter optimization."
   ]
  },
  {
   "cell_type": "code",
   "execution_count": 135,
   "metadata": {
    "id": "26MDmpVm2OOf"
   },
   "outputs": [
    {
     "data": {
      "text/html": [
       "<div>\n",
       "<style scoped>\n",
       "    .dataframe tbody tr th:only-of-type {\n",
       "        vertical-align: middle;\n",
       "    }\n",
       "\n",
       "    .dataframe tbody tr th {\n",
       "        vertical-align: top;\n",
       "    }\n",
       "\n",
       "    .dataframe thead th {\n",
       "        text-align: right;\n",
       "    }\n",
       "</style>\n",
       "<table border=\"1\" class=\"dataframe\">\n",
       "  <thead>\n",
       "    <tr style=\"text-align: right;\">\n",
       "      <th></th>\n",
       "      <th>best_score</th>\n",
       "      <th>best_param</th>\n",
       "      <th>best_estimator</th>\n",
       "    </tr>\n",
       "  </thead>\n",
       "  <tbody>\n",
       "    <tr>\n",
       "      <th>0</th>\n",
       "      <td>0.802002</td>\n",
       "      <td>{'model__learning_rate': 0.3, 'model__max_dept...</td>\n",
       "      <td>(([DecisionTreeRegressor(criterion='friedman_m...</td>\n",
       "    </tr>\n",
       "    <tr>\n",
       "      <th>1</th>\n",
       "      <td>0.796564</td>\n",
       "      <td>{'model__min_samples_leaf': 1, 'model__min_sam...</td>\n",
       "      <td>((DecisionTreeClassifier(max_features='sqrt', ...</td>\n",
       "    </tr>\n",
       "    <tr>\n",
       "      <th>2</th>\n",
       "      <td>0.793320</td>\n",
       "      <td>{'model__n_estimators': 50}</td>\n",
       "      <td>((DecisionTreeClassifier(max_depth=1, random_s...</td>\n",
       "    </tr>\n",
       "    <tr>\n",
       "      <th>3</th>\n",
       "      <td>0.782308</td>\n",
       "      <td>{'model__C': 13, 'model__tol': 0.0001}</td>\n",
       "      <td>(LogisticRegression(C=13, class_weight='balanc...</td>\n",
       "    </tr>\n",
       "    <tr>\n",
       "      <th>4</th>\n",
       "      <td>0.777969</td>\n",
       "      <td>{'model__min_samples_leaf': 100, 'model__min_s...</td>\n",
       "      <td>(DecisionTreeClassifier(class_weight='balanced...</td>\n",
       "    </tr>\n",
       "    <tr>\n",
       "      <th>5</th>\n",
       "      <td>0.756003</td>\n",
       "      <td>{'model__metric': 'manhattan', 'model__n_neigh...</td>\n",
       "      <td>(KNeighborsClassifier(metric='manhattan', n_ne...</td>\n",
       "    </tr>\n",
       "    <tr>\n",
       "      <th>6</th>\n",
       "      <td>0.647918</td>\n",
       "      <td>{'model__var_smoothing': 1e-06}</td>\n",
       "      <td>(GaussianNB(var_smoothing=np.float64(1e-06)))</td>\n",
       "    </tr>\n",
       "  </tbody>\n",
       "</table>\n",
       "</div>"
      ],
      "text/plain": [
       "   best_score                                         best_param  \\\n",
       "0    0.802002  {'model__learning_rate': 0.3, 'model__max_dept...   \n",
       "1    0.796564  {'model__min_samples_leaf': 1, 'model__min_sam...   \n",
       "2    0.793320                        {'model__n_estimators': 50}   \n",
       "3    0.782308             {'model__C': 13, 'model__tol': 0.0001}   \n",
       "4    0.777969  {'model__min_samples_leaf': 100, 'model__min_s...   \n",
       "5    0.756003  {'model__metric': 'manhattan', 'model__n_neigh...   \n",
       "6    0.647918                    {'model__var_smoothing': 1e-06}   \n",
       "\n",
       "                                      best_estimator  \n",
       "0  (([DecisionTreeRegressor(criterion='friedman_m...  \n",
       "1  ((DecisionTreeClassifier(max_features='sqrt', ...  \n",
       "2  ((DecisionTreeClassifier(max_depth=1, random_s...  \n",
       "3  (LogisticRegression(C=13, class_weight='balanc...  \n",
       "4  (DecisionTreeClassifier(class_weight='balanced...  \n",
       "5  (KNeighborsClassifier(metric='manhattan', n_ne...  \n",
       "6      (GaussianNB(var_smoothing=np.float64(1e-06)))  "
      ]
     },
     "execution_count": 135,
     "metadata": {},
     "output_type": "execute_result"
    }
   ],
   "source": [
    "# Sort best_score_params_estimator_gs in descending order of the best_score_\n",
    "best_score_params_estimator_gs = sorted(best_score_params_estimator_gs, key=lambda x : x[0], reverse=True)\n",
    "\n",
    "# Print best_score_params_estimator_gs\n",
    "results = pd.DataFrame(best_score_params_estimator_gs, columns=['best_score', 'best_param', 'best_estimator'])\n",
    "results"
   ]
  },
  {
   "cell_type": "markdown",
   "metadata": {
    "id": "DfCjSiZFpc2M"
   },
   "source": [
    "\n",
    "- The grid search results show that the best performing model are as follows:\n",
    "\n",
    "| Classifier Model | Accuracy (Best Score) |\n",
    "| ----- | ----- |\n",
    "| Gradient Boosting | 0.802 |\n",
    "| RandomForest | 0.796 |\n",
    "| Adaboost | 0.793 |\n",
    "| Logistic Regression | 0.782 |\n",
    "| DecisionTree | 0.777 |\n",
    "| KNeighbors | 0.756 |\n",
    "| Gaussian Naive Bayes | 0.648 |\n",
    "\n",
    "- Decision tree models consistently outperformed others, indicating their stronger suitability for the task with the chosen hyperparameters."
   ]
  },
  {
   "cell_type": "markdown",
   "metadata": {
    "id": "5eOijXs5U_3g"
   },
   "source": [
    "## Model Selection\n",
    "Here we will select best_estimator_gs as the best model. Later we will use this best model to generate the submission file for this kaggle competition."
   ]
  },
  {
   "cell_type": "code",
   "execution_count": 136,
   "metadata": {
    "id": "qC66oeyAVAfI"
   },
   "outputs": [
    {
     "data": {
      "text/html": [
       "<div>\n",
       "<style scoped>\n",
       "    .dataframe tbody tr th:only-of-type {\n",
       "        vertical-align: middle;\n",
       "    }\n",
       "\n",
       "    .dataframe tbody tr th {\n",
       "        vertical-align: top;\n",
       "    }\n",
       "\n",
       "    .dataframe thead th {\n",
       "        text-align: right;\n",
       "    }\n",
       "</style>\n",
       "<table border=\"1\" class=\"dataframe\">\n",
       "  <thead>\n",
       "    <tr style=\"text-align: right;\">\n",
       "      <th></th>\n",
       "      <th>Best Score</th>\n",
       "      <th>Best Parameters</th>\n",
       "      <th>Best Estimator</th>\n",
       "    </tr>\n",
       "  </thead>\n",
       "  <tbody>\n",
       "    <tr>\n",
       "      <th>0</th>\n",
       "      <td>0.802002</td>\n",
       "      <td>{'model__learning_rate': 0.3, 'model__max_dept...</td>\n",
       "      <td>(([DecisionTreeRegressor(criterion='friedman_m...</td>\n",
       "    </tr>\n",
       "  </tbody>\n",
       "</table>\n",
       "</div>"
      ],
      "text/plain": [
       "   Best Score                                    Best Parameters  \\\n",
       "0    0.802002  {'model__learning_rate': 0.3, 'model__max_dept...   \n",
       "\n",
       "                                      Best Estimator  \n",
       "0  (([DecisionTreeRegressor(criterion='friedman_m...  "
      ]
     },
     "execution_count": 136,
     "metadata": {},
     "output_type": "execute_result"
    }
   ],
   "source": [
    "# Get the best_score, best_params and best_estimator obtained by GridSearchCV\n",
    "best_score_gs, best_params_gs, best_estimator_gs = best_score_params_estimator_gs[0]\n",
    "pd.DataFrame([[best_score_gs, best_params_gs, best_estimator_gs]], columns=['Best Score', 'Best Parameters', 'Best Estimator'])"
   ]
  },
  {
   "cell_type": "markdown",
   "metadata": {
    "id": "XtIoq5itpc2M"
   },
   "source": [
    "The output shows the highest performance is achieved by **Gradientboosting Classifier**.\n",
    "> NOTE: The output from the above cell show DecisionTreeRegressor as GradientBoost Classifier implements DecisionTreeRegressor under the hood. This means that GradientBoost Classifier can be used for our classification problem.  "
   ]
  },
  {
   "cell_type": "markdown",
   "metadata": {
    "id": "lt9uzrx5Bvsq"
   },
   "source": [
    "## Model Evaluation\n",
    "Test the best model selected earlier on the test data."
   ]
  },
  {
   "cell_type": "code",
   "execution_count": 137,
   "metadata": {
    "id": "ictnAMX-Bwyy"
   },
   "outputs": [
    {
     "data": {
      "text/html": [
       "<div>\n",
       "<style scoped>\n",
       "    .dataframe tbody tr th:only-of-type {\n",
       "        vertical-align: middle;\n",
       "    }\n",
       "\n",
       "    .dataframe tbody tr th {\n",
       "        vertical-align: top;\n",
       "    }\n",
       "\n",
       "    .dataframe thead th {\n",
       "        text-align: right;\n",
       "    }\n",
       "</style>\n",
       "<table border=\"1\" class=\"dataframe\">\n",
       "  <thead>\n",
       "    <tr style=\"text-align: right;\">\n",
       "      <th></th>\n",
       "      <th>Precision</th>\n",
       "      <th>Recall</th>\n",
       "      <th>F1-score</th>\n",
       "      <th>AUC</th>\n",
       "    </tr>\n",
       "  </thead>\n",
       "  <tbody>\n",
       "    <tr>\n",
       "      <th>0</th>\n",
       "      <td>[0.8952541420949172, 0.8081123244929798]</td>\n",
       "      <td>[0.94529280948851, 0.6756521739130434]</td>\n",
       "      <td>[0.9195932790077161, 0.7359696897939854]</td>\n",
       "      <td>0.810472</td>\n",
       "    </tr>\n",
       "  </tbody>\n",
       "</table>\n",
       "</div>"
      ],
      "text/plain": [
       "                                  Precision  \\\n",
       "0  [0.8952541420949172, 0.8081123244929798]   \n",
       "\n",
       "                                   Recall  \\\n",
       "0  [0.94529280948851, 0.6756521739130434]   \n",
       "\n",
       "                                   F1-score       AUC  \n",
       "0  [0.9195932790077161, 0.7359696897939854]  0.810472  "
      ]
     },
     "execution_count": 137,
     "metadata": {},
     "output_type": "execute_result"
    }
   ],
   "source": [
    "from sklearn.metrics import precision_recall_fscore_support\n",
    "from sklearn.metrics import roc_auc_score\n",
    "\n",
    "# Get the prediction on the testing data using best_model\n",
    "y_val_pred = best_estimator_gs.predict(X_val)\n",
    "\n",
    "# Get the precision, recall, fscore, support\n",
    "precision, recall, fscore, support = precision_recall_fscore_support(y_val, y_val_pred)\n",
    "\n",
    "# Get the auc\n",
    "auc = roc_auc_score(y_val, y_val_pred)\n",
    "\n",
    "# Get the dataframe of precision, recall, fscore and auc\n",
    "pd.DataFrame([[precision, recall, fscore, auc]], columns=['Precision', 'Recall', 'F1-score', 'AUC'])"
   ]
  },
  {
   "cell_type": "markdown",
   "metadata": {
    "id": "ApYLAj6hpc2M"
   },
   "source": [
    "The model evaluation on the validation set reveals the following performance metrics:\n",
    "\n",
    "| Metric | Value |\n",
    "| --- | --- |\n",
    "| Precision | 0.895 (class 0), 0.808 (class 1) |\n",
    "| Recall | 0.945 (class 0), 0.676 (class 1) |\n",
    "| F1-Score | 0.920 (class 0), 0.736 (class 1) |\n",
    "\n",
    "AUC: 0.810, indicating a good ability of the model to distinguish between the two classes.\n",
    "\n",
    "From the results we can say that the model is performing well, with a high precision and recall for class 0, and a decent balance between precision and recall for class 1. The AUC score further supports its effectiveness in binary classification."
   ]
  },
  {
   "cell_type": "markdown",
   "metadata": {
    "id": "-FfQsvPXE_0Z"
   },
   "source": [
    "## Area Under Curve"
   ]
  },
  {
   "cell_type": "code",
   "execution_count": 141,
   "metadata": {
    "id": "vuvuhxWWFEaU"
   },
   "outputs": [
    {
     "data": {
      "image/png": "[encoded data removed]",
      "text/plain": [
       "<Figure size 800x600 with 1 Axes>"
      ]
     },
     "metadata": {},
     "output_type": "display_data"
    }
   ],
   "source": [
    "from sklearn.metrics import roc_curve, roc_auc_score\n",
    "\n",
    "# Calculate the false positive rate and true positive rate\n",
    "fpr, tpr, _ = roc_curve(y_val, y_val_pred)\n",
    "\n",
    "# Calculate the AUC\n",
    "auc = roc_auc_score(y_val, y_val_pred)\n",
    "\n",
    "# Plot the ROC curve\n",
    "plt.figure(figsize=(8, 6))\n",
    "plt.plot(fpr, tpr, color='blue', label=f'ROC curve (AUC = {auc:.2f})')\n",
    "plt.plot([0, 1], [0, 1], color='gray', linestyle='--')  # Diagonal line (random classifier)\n",
    "plt.xlabel('False Positive Rate (FPR)')\n",
    "plt.ylabel('True Positive Rate (TPR)')\n",
    "plt.title('Receiver Operating Characteristic (ROC) Curve')\n",
    "plt.legend(loc='lower right')\n",
    "plt.grid(True)\n",
    "plt.show()\n"
   ]
  },
  {
   "cell_type": "markdown",
   "metadata": {
    "id": "GVgNDz4dGYSf"
   },
   "source": [
    "# Interpretation"
   ]
  },
  {
   "cell_type": "markdown",
   "metadata": {
    "id": "Ogh9MoNtGgdm"
   },
   "source": [
    "## Getting the feature importance detected by random forest"
   ]
  },
  {
   "cell_type": "code",
   "execution_count": 139,
   "metadata": {
    "id": "OukNPa78GjXV"
   },
   "outputs": [
    {
     "data": {
      "text/html": [
       "<div>\n",
       "<style scoped>\n",
       "    .dataframe tbody tr th:only-of-type {\n",
       "        vertical-align: middle;\n",
       "    }\n",
       "\n",
       "    .dataframe tbody tr th {\n",
       "        vertical-align: top;\n",
       "    }\n",
       "\n",
       "    .dataframe thead th {\n",
       "        text-align: right;\n",
       "    }\n",
       "</style>\n",
       "<table border=\"1\" class=\"dataframe\">\n",
       "  <thead>\n",
       "    <tr style=\"text-align: right;\">\n",
       "      <th></th>\n",
       "      <th>Features</th>\n",
       "      <th>Importance</th>\n",
       "    </tr>\n",
       "  </thead>\n",
       "  <tbody>\n",
       "    <tr>\n",
       "      <th>0</th>\n",
       "      <td>marital-status_ Married-civ-spouse</td>\n",
       "      <td>0.136925</td>\n",
       "    </tr>\n",
       "    <tr>\n",
       "      <th>1</th>\n",
       "      <td>capital-gain</td>\n",
       "      <td>0.102263</td>\n",
       "    </tr>\n",
       "    <tr>\n",
       "      <th>2</th>\n",
       "      <td>age</td>\n",
       "      <td>0.100958</td>\n",
       "    </tr>\n",
       "    <tr>\n",
       "      <th>3</th>\n",
       "      <td>education-num</td>\n",
       "      <td>0.100553</td>\n",
       "    </tr>\n",
       "    <tr>\n",
       "      <th>4</th>\n",
       "      <td>relationship_ Husband</td>\n",
       "      <td>0.093712</td>\n",
       "    </tr>\n",
       "  </tbody>\n",
       "</table>\n",
       "</div>"
      ],
      "text/plain": [
       "                             Features Importance\n",
       "0  marital-status_ Married-civ-spouse   0.136925\n",
       "1                        capital-gain   0.102263\n",
       "2                                 age   0.100958\n",
       "3                       education-num   0.100553\n",
       "4               relationship_ Husband   0.093712"
      ]
     },
     "execution_count": 139,
     "metadata": {},
     "output_type": "execute_result"
    }
   ],
   "source": [
    "# Get the best_score, best_param and best_estimator of random forest obtained by GridSearchCV\n",
    "best_score_rfc, best_param_rfc, best_estimator_rfc = best_score_params_estimator_gs[1]\n",
    "\n",
    "# Get the dataframe of feature and importance\n",
    "df_fi_rfc = pd.DataFrame(np.hstack((np.setdiff1d(data_train.columns, [target]).reshape(-1, 1), best_estimator_rfc.named_steps['model'].feature_importances_.reshape(-1, 1))),\n",
    "                         columns=['Features', 'Importance'])\n",
    "\n",
    "# Sort df_fi_rfc in descending order of the importance\n",
    "df_fi_rfc = df_fi_rfc.sort_values(ascending=False, by='Importance').reset_index(drop=True)\n",
    "\n",
    "# Print the first 5 rows of df_fi_rfc\n",
    "df_fi_rfc.head()"
   ]
  },
  {
   "cell_type": "markdown",
   "metadata": {
    "id": "MGbzlt0XGl6g"
   },
   "source": [
    "## Plotting the Feature Importance"
   ]
  },
  {
   "cell_type": "code",
   "execution_count": 140,
   "metadata": {
    "id": "7goT8h2rGmi_"
   },
   "outputs": [
    {
     "data": {
      "image/png": "[encoded data removed]",
      "text/plain": [
       "<Figure size 1000x500 with 1 Axes>"
      ]
     },
     "metadata": {},
     "output_type": "display_data"
    }
   ],
   "source": [
    "# Create a figure\n",
    "fig = plt.figure(figsize=(10, 5))\n",
    "\n",
    "# Implement me\n",
    "# The bar plot of the top 5 feature importance\n",
    "plt.bar(df_fi_rfc['Features'][:5], df_fi_rfc['Importance'][:5], color='green')\n",
    "\n",
    "# Set x-axis\n",
    "plt.xlabel('Features')\n",
    "plt.xticks(rotation=45)\n",
    "\n",
    "# Set y-axis\n",
    "plt.ylabel('Importance')\n",
    "\n",
    "# Save and show the figure\n",
    "plt.tight_layout()\n",
    "plt.show()"
   ]
  },
  {
   "cell_type": "markdown",
   "metadata": {},
   "source": [
    "From the feature importance detected by random forest, we can see that \n",
    "- Marital status is the most important feature.\n",
    "- While Capital gain, Age, Education, and relationship are more or less equally important features.\n",
    "- It is interesting to see that Number of hours worked per week is not in Top-5 important features.\n",
    "- It is also interesting to see that the Native country, Race, and Gender are not in Top-5 important features which is a good sign of unbaised earning."
   ]
  },
  {
   "cell_type": "markdown",
   "metadata": {},
   "source": [
    "### Submission"
   ]
  },
  {
   "cell_type": "code",
   "execution_count": 145,
   "metadata": {},
   "outputs": [],
   "source": [
    "# Create a submission file for Kaggle\n",
    "submission = pd.DataFrame({'id': data_test.index, 'income': best_estimator_gs.predict(X_test)})\n",
    "\n",
    "# Save the submission file\n",
    "submission.to_csv(\"submission.csv\", index=False)"
   ]
  },
  {
   "cell_type": "markdown",
   "metadata": {},
   "source": [
    "- The submission file is generated and uploaded to the Kaggle competition to evaluate the model's performance.\n",
    "- The submission file scored 0.92956 on the public leaderboard."
   ]
  },
  {
   "cell_type": "markdown",
   "metadata": {
    "id": "iarJiSjgE7dW"
   },
   "source": [
    "# Conclusion"
   ]
  },
  {
   "cell_type": "markdown",
   "metadata": {},
   "source": [
    "In this project, by following a structured approach, we successfully trained and evaluated multiple classification models, ultimately selecting the GradientBoosting Classifier as the best-performing model (Gradient Boosting Classifier). \n",
    "<!-- Advantage of using Gradient Boosting Model  -->\n",
    "- Gradient Boosting Models are generally robust to overfitting and can handle complex relationships in the data, making them well-suited for this classification task.\n",
    "- However, the model took a longer time to train compared to other models, which can be considered as a trade-off for its performance.\n",
    "- The model achieved an AUC score of 0.810 on the validation set, demonstrating its ability to distinguish between individuals with annual incomes above and below $50,000.\n",
    "- The feature importance analysis revealed that marital status, capital gain, age, education, and relationship were the most influential factors in predicting income levels. \n",
    "- These insights can help CharityML optimize its fundraising efforts and target potential donors more effectively, thereby maximizing its impact and achieving its fundraising goals."
   ]
  }
 ],
 "metadata": {
  "colab": {
   "collapsed_sections": [
    "45ttHmrWREQo",
    "3ugaMacfREQp",
    "Q1FBrHKKREQq"
   ],
   "provenance": [],
   "toc_visible": true
  },
  "kernelspec": {
   "display_name": "venv",
   "language": "python",
   "name": "python3"
  },
  "language_info": {
   "codemirror_mode": {
    "name": "ipython",
    "version": 3
   },
   "file_extension": ".py",
   "mimetype": "text/x-python",
   "name": "python",
   "nbconvert_exporter": "python",
   "pygments_lexer": "ipython3",
   "version": "3.12.1"
  }
 },
 "nbformat": 4,
 "nbformat_minor": 0
}
